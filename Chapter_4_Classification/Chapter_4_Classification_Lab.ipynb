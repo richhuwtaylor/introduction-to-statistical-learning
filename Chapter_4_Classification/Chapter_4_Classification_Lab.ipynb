{
 "cells": [
  {
   "cell_type": "markdown",
   "metadata": {},
   "source": [
    "## Chapter 4: Classification - Lab"
   ]
  },
  {
   "cell_type": "code",
   "execution_count": 56,
   "metadata": {},
   "outputs": [],
   "source": [
    "import numpy as np\n",
    "import pandas as pd\n",
    "from matplotlib import pyplot as plt\n",
    "import statsmodels.api as sm\n",
    "from ISLP import confusion_table, load_data\n",
    "from ISLP.models import (contrast, ModelSpec as MS, summarize)\n",
    "from sklearn.discriminant_analysis import (LinearDiscriminantAnalysis as LDA,\n",
    "                                           QuadraticDiscriminantAnalysis as QDA)\n",
    "from sklearn.naive_bayes import GaussianNB\n",
    "from sklearn.neighbors import KNeighborsClassifier\n",
    "from sklearn.preprocessing import StandardScaler\n",
    "from sklearn.model_selection import train_test_split\n",
    "from sklearn.metrics import confusion_matrix\n",
    "from sklearn.linear_model import LogisticRegression\n",
    "import seaborn as sns"
   ]
  },
  {
   "cell_type": "markdown",
   "metadata": {},
   "source": [
    "In this lab we will examine the `Smarket` data, which is part of the `ISLP` library. This data set consists of percentage returns for the S&P 500 stock index over 1,250 days, from the beginning of 2001 until the end of 2005. For each date, we have recorded the percentage returns for each of the five previous trading days, `Lag1` through `Lag5`. We have also recorded `Volume` (the number of shares traded on the previous day, in billions), `Today` (the percentage return on the date in question) and `Direction` (whether the market was Up or Down on this date)."
   ]
  },
  {
   "cell_type": "code",
   "execution_count": 57,
   "metadata": {},
   "outputs": [],
   "source": [
    "Smarket = load_data('Smarket')"
   ]
  },
  {
   "cell_type": "code",
   "execution_count": 58,
   "metadata": {},
   "outputs": [
    {
     "data": {
      "text/html": [
       "<div>\n",
       "<style scoped>\n",
       "    .dataframe tbody tr th:only-of-type {\n",
       "        vertical-align: middle;\n",
       "    }\n",
       "\n",
       "    .dataframe tbody tr th {\n",
       "        vertical-align: top;\n",
       "    }\n",
       "\n",
       "    .dataframe thead th {\n",
       "        text-align: right;\n",
       "    }\n",
       "</style>\n",
       "<table border=\"1\" class=\"dataframe\">\n",
       "  <thead>\n",
       "    <tr style=\"text-align: right;\">\n",
       "      <th></th>\n",
       "      <th>Year</th>\n",
       "      <th>Lag1</th>\n",
       "      <th>Lag2</th>\n",
       "      <th>Lag3</th>\n",
       "      <th>Lag4</th>\n",
       "      <th>Lag5</th>\n",
       "      <th>Volume</th>\n",
       "      <th>Today</th>\n",
       "      <th>Direction</th>\n",
       "    </tr>\n",
       "  </thead>\n",
       "  <tbody>\n",
       "    <tr>\n",
       "      <th>0</th>\n",
       "      <td>2001</td>\n",
       "      <td>0.381</td>\n",
       "      <td>-0.192</td>\n",
       "      <td>-2.624</td>\n",
       "      <td>-1.055</td>\n",
       "      <td>5.010</td>\n",
       "      <td>1.1913</td>\n",
       "      <td>0.959</td>\n",
       "      <td>Up</td>\n",
       "    </tr>\n",
       "    <tr>\n",
       "      <th>1</th>\n",
       "      <td>2001</td>\n",
       "      <td>0.959</td>\n",
       "      <td>0.381</td>\n",
       "      <td>-0.192</td>\n",
       "      <td>-2.624</td>\n",
       "      <td>-1.055</td>\n",
       "      <td>1.2965</td>\n",
       "      <td>1.032</td>\n",
       "      <td>Up</td>\n",
       "    </tr>\n",
       "    <tr>\n",
       "      <th>2</th>\n",
       "      <td>2001</td>\n",
       "      <td>1.032</td>\n",
       "      <td>0.959</td>\n",
       "      <td>0.381</td>\n",
       "      <td>-0.192</td>\n",
       "      <td>-2.624</td>\n",
       "      <td>1.4112</td>\n",
       "      <td>-0.623</td>\n",
       "      <td>Down</td>\n",
       "    </tr>\n",
       "    <tr>\n",
       "      <th>3</th>\n",
       "      <td>2001</td>\n",
       "      <td>-0.623</td>\n",
       "      <td>1.032</td>\n",
       "      <td>0.959</td>\n",
       "      <td>0.381</td>\n",
       "      <td>-0.192</td>\n",
       "      <td>1.2760</td>\n",
       "      <td>0.614</td>\n",
       "      <td>Up</td>\n",
       "    </tr>\n",
       "    <tr>\n",
       "      <th>4</th>\n",
       "      <td>2001</td>\n",
       "      <td>0.614</td>\n",
       "      <td>-0.623</td>\n",
       "      <td>1.032</td>\n",
       "      <td>0.959</td>\n",
       "      <td>0.381</td>\n",
       "      <td>1.2057</td>\n",
       "      <td>0.213</td>\n",
       "      <td>Up</td>\n",
       "    </tr>\n",
       "  </tbody>\n",
       "</table>\n",
       "</div>"
      ],
      "text/plain": [
       "   Year   Lag1   Lag2   Lag3   Lag4   Lag5  Volume  Today Direction\n",
       "0  2001  0.381 -0.192 -2.624 -1.055  5.010  1.1913  0.959        Up\n",
       "1  2001  0.959  0.381 -0.192 -2.624 -1.055  1.2965  1.032        Up\n",
       "2  2001  1.032  0.959  0.381 -0.192 -2.624  1.4112 -0.623      Down\n",
       "3  2001 -0.623  1.032  0.959  0.381 -0.192  1.2760  0.614        Up\n",
       "4  2001  0.614 -0.623  1.032  0.959  0.381  1.2057  0.213        Up"
      ]
     },
     "execution_count": 58,
     "metadata": {},
     "output_type": "execute_result"
    }
   ],
   "source": [
    "Smarket.head()"
   ]
  },
  {
   "cell_type": "code",
   "execution_count": 59,
   "metadata": {},
   "outputs": [
    {
     "data": {
      "image/png": "[encoded data removed]",
      "text/plain": [
       "<Figure size 800x600 with 2 Axes>"
      ]
     },
     "metadata": {},
     "output_type": "display_data"
    }
   ],
   "source": [
    "# Compute the Pearson correlation matrix for numerical predictors:\n",
    "correlation_matrix = Smarket[Smarket.columns.drop('Direction')].corr()\n",
    "\n",
    "# Create a heatmap using seaborn\n",
    "plt.figure(figsize=(8, 6))\n",
    "sns.heatmap(correlation_matrix, annot=True, cmap='coolwarm', center=0)\n",
    "plt.title('Pearson Correlation Heatmap')\n",
    "plt.show()"
   ]
  },
  {
   "cell_type": "markdown",
   "metadata": {},
   "source": [
    "As one would expect, the correlations between the lagged return variables and today’s return are close to zero. The only substantial correlation is between `Year` and `Volume`."
   ]
  },
  {
   "cell_type": "code",
   "execution_count": 60,
   "metadata": {},
   "outputs": [
    {
     "data": {
      "text/plain": [
       "<Axes: >"
      ]
     },
     "execution_count": 60,
     "metadata": {},
     "output_type": "execute_result"
    },
    {
     "data": {
      "image/png": "[encoded data removed]",
      "text/plain": [
       "<Figure size 640x480 with 1 Axes>"
      ]
     },
     "metadata": {},
     "output_type": "display_data"
    }
   ],
   "source": [
    "Smarket['Volume'].plot()"
   ]
  },
  {
   "cell_type": "markdown",
   "metadata": {},
   "source": [
    "#### 4.7.2 Logistic Regression"
   ]
  },
  {
   "cell_type": "markdown",
   "metadata": {},
   "source": [
    "Next, we will ft a logistic regression model in order to predict `Direction` using `Lag1` through `Lag5` and `Volume`."
   ]
  },
  {
   "cell_type": "markdown",
   "metadata": {},
   "source": [
    "The `sm.GLM()` function fits _generalized linear models_, a class of models that includes logistic regression. The syntax of `sm.GLM()` is similar to that of `sm.OLS()`, except that we must pass in the argument `family=sm.families.Binomial()` in order to tell statsmodels to run a logistic regression rather than some other type of generalized linear model."
   ]
  },
  {
   "cell_type": "code",
   "execution_count": 61,
   "metadata": {},
   "outputs": [
    {
     "name": "stdout",
     "output_type": "stream",
     "text": [
      "                 Generalized Linear Model Regression Results                  \n",
      "==============================================================================\n",
      "Dep. Variable:              Direction   No. Observations:                 1250\n",
      "Model:                            GLM   Df Residuals:                     1243\n",
      "Model Family:                Binomial   Df Model:                            6\n",
      "Link Function:                  Logit   Scale:                          1.0000\n",
      "Method:                          IRLS   Log-Likelihood:                -863.79\n",
      "Date:                Sun, 20 Aug 2023   Deviance:                       1727.6\n",
      "Time:                        07:38:27   Pearson chi2:                 1.25e+03\n",
      "No. Iterations:                     4   Pseudo R-squ. (CS):           0.002868\n",
      "Covariance Type:            nonrobust                                         \n",
      "==============================================================================\n",
      "                 coef    std err          z      P>|z|      [0.025      0.975]\n",
      "------------------------------------------------------------------------------\n",
      "intercept     -0.1260      0.241     -0.523      0.601      -0.598       0.346\n",
      "Lag1          -0.0731      0.050     -1.457      0.145      -0.171       0.025\n",
      "Lag2          -0.0423      0.050     -0.845      0.398      -0.140       0.056\n",
      "Lag3           0.0111      0.050      0.222      0.824      -0.087       0.109\n",
      "Lag4           0.0094      0.050      0.187      0.851      -0.089       0.107\n",
      "Lag5           0.0103      0.050      0.208      0.835      -0.087       0.107\n",
      "Volume         0.1354      0.158      0.855      0.392      -0.175       0.446\n",
      "==============================================================================\n"
     ]
    }
   ],
   "source": [
    "allvars = Smarket.columns.drop(['Today', 'Direction', 'Year'])\n",
    "design = MS(allvars)\n",
    "X = design.fit_transform(Smarket)\n",
    "# We are predicting whether Direction is Up\n",
    "y = Smarket['Direction'] == 'Up'\n",
    "glm = sm.GLM(y, X, family=sm.families.Binomial())\n",
    "results = glm.fit()\n",
    "print(results.summary())"
   ]
  },
  {
   "cell_type": "markdown",
   "metadata": {},
   "source": [
    "The smallest p-value here is associated with `Lag1`. The negative coefficient for this predictor suggests that if the market had a positive return yesterday, then it is less likely to go up today. However, at a value of 0.15, the p-value is still relatively large, and so there is no clear evidence of a real association between `Lag1` and `Direction`."
   ]
  },
  {
   "cell_type": "markdown",
   "metadata": {},
   "source": [
    "If no data set is supplied to the `predict()` function, then it returns the probabilities computer for the training data:"
   ]
  },
  {
   "cell_type": "code",
   "execution_count": 62,
   "metadata": {},
   "outputs": [
    {
     "data": {
      "text/plain": [
       "array([0.50708413, 0.48146788, 0.48113883, 0.51522236, 0.51078116,\n",
       "       0.50695646, 0.49265087, 0.50922916, 0.51761353, 0.48883778])"
      ]
     },
     "execution_count": 62,
     "metadata": {},
     "output_type": "execute_result"
    }
   ],
   "source": [
    "probs = results.predict()\n",
    "probs[:10]"
   ]
  },
  {
   "cell_type": "code",
   "execution_count": 63,
   "metadata": {},
   "outputs": [],
   "source": [
    "labels = np.array(['Down'] * 1250)\n",
    "labels[probs > 0.5] = \"Up\""
   ]
  },
  {
   "cell_type": "code",
   "execution_count": 64,
   "metadata": {},
   "outputs": [
    {
     "name": "stdout",
     "output_type": "stream",
     "text": [
      "[[145 141]\n",
      " [457 507]]\n"
     ]
    }
   ],
   "source": [
    "print(confusion_matrix(labels, Smarket['Direction']))"
   ]
  },
  {
   "cell_type": "code",
   "execution_count": 65,
   "metadata": {},
   "outputs": [
    {
     "data": {
      "text/html": [
       "<div>\n",
       "<style scoped>\n",
       "    .dataframe tbody tr th:only-of-type {\n",
       "        vertical-align: middle;\n",
       "    }\n",
       "\n",
       "    .dataframe tbody tr th {\n",
       "        vertical-align: top;\n",
       "    }\n",
       "\n",
       "    .dataframe thead th {\n",
       "        text-align: right;\n",
       "    }\n",
       "</style>\n",
       "<table border=\"1\" class=\"dataframe\">\n",
       "  <thead>\n",
       "    <tr style=\"text-align: right;\">\n",
       "      <th>Truth</th>\n",
       "      <th>Down</th>\n",
       "      <th>Up</th>\n",
       "    </tr>\n",
       "    <tr>\n",
       "      <th>Predicted</th>\n",
       "      <th></th>\n",
       "      <th></th>\n",
       "    </tr>\n",
       "  </thead>\n",
       "  <tbody>\n",
       "    <tr>\n",
       "      <th>Down</th>\n",
       "      <td>145</td>\n",
       "      <td>141</td>\n",
       "    </tr>\n",
       "    <tr>\n",
       "      <th>Up</th>\n",
       "      <td>457</td>\n",
       "      <td>507</td>\n",
       "    </tr>\n",
       "  </tbody>\n",
       "</table>\n",
       "</div>"
      ],
      "text/plain": [
       "Truth      Down   Up\n",
       "Predicted           \n",
       "Down        145  141\n",
       "Up          457  507"
      ]
     },
     "execution_count": 65,
     "metadata": {},
     "output_type": "execute_result"
    }
   ],
   "source": [
    "# Use the confusion_table function to display a nicer table\n",
    "confusion_table(labels, Smarket['Direction'])"
   ]
  },
  {
   "cell_type": "code",
   "execution_count": 66,
   "metadata": {},
   "outputs": [
    {
     "data": {
      "text/plain": [
       "0.5216"
      ]
     },
     "execution_count": 66,
     "metadata": {},
     "output_type": "execute_result"
    }
   ],
   "source": [
    "# Fraction of days on which prediction was correct\n",
    "np.mean(labels == Smarket['Direction'])"
   ]
  },
  {
   "cell_type": "markdown",
   "metadata": {},
   "source": [
    "This corresponds to a training error rate of about 48%, but is probably optimistic and underestimates the test error rate.\n",
    "\n",
    "In order to better assess the accuracy of the logistic regression model in this setting, we can fit the model using part of the data, and then examine how well it predicts the held out data. This will yield a more realistic error rate, in the sense that in practice we will be interested in our model’s performance not on the data that we used to ft the model, but rather on days in the future for which the market’s movements are unknown.\n",
    "\n",
    "To implement this strategy, we frst create a Boolean vector corresponding to the observations from 2001 through 2004. We then use this vector to create a held out data set of observations from 2005."
   ]
  },
  {
   "cell_type": "code",
   "execution_count": 67,
   "metadata": {},
   "outputs": [
    {
     "data": {
      "text/plain": [
       "(252, 9)"
      ]
     },
     "execution_count": 67,
     "metadata": {},
     "output_type": "execute_result"
    }
   ],
   "source": [
    "train = (Smarket['Year'] < 2005)\n",
    "Smarket_train = Smarket.loc[train]\n",
    "Smarket_test = Smarket.loc[~train]\n",
    "Smarket_test.shape"
   ]
  },
  {
   "cell_type": "code",
   "execution_count": 68,
   "metadata": {},
   "outputs": [],
   "source": [
    "X_train, X_test = X.loc[train], X.loc[~train]\n",
    "y_train, y_test = y.loc[train], y.loc[~train]\n",
    "glm_train = sm.GLM(y_train, X_train, family=sm.families.Binomial())\n",
    "results = glm_train.fit()\n",
    "probs = results.predict(exog=X_test)"
   ]
  },
  {
   "cell_type": "code",
   "execution_count": 69,
   "metadata": {},
   "outputs": [],
   "source": [
    "# Store the test and traning labels\n",
    "D = Smarket['Direction']\n",
    "L_train, L_test = D.loc[train], D.loc[~train]"
   ]
  },
  {
   "cell_type": "code",
   "execution_count": 70,
   "metadata": {},
   "outputs": [],
   "source": [
    "# Threhold the fitted probability at 50% to form predicted labels\n",
    "labels = np.array(['Down'] * 252)\n",
    "labels[probs > 0.5] = 'Up'"
   ]
  },
  {
   "cell_type": "code",
   "execution_count": 71,
   "metadata": {},
   "outputs": [
    {
     "data": {
      "text/html": [
       "<div>\n",
       "<style scoped>\n",
       "    .dataframe tbody tr th:only-of-type {\n",
       "        vertical-align: middle;\n",
       "    }\n",
       "\n",
       "    .dataframe tbody tr th {\n",
       "        vertical-align: top;\n",
       "    }\n",
       "\n",
       "    .dataframe thead th {\n",
       "        text-align: right;\n",
       "    }\n",
       "</style>\n",
       "<table border=\"1\" class=\"dataframe\">\n",
       "  <thead>\n",
       "    <tr style=\"text-align: right;\">\n",
       "      <th>Truth</th>\n",
       "      <th>Down</th>\n",
       "      <th>Up</th>\n",
       "    </tr>\n",
       "    <tr>\n",
       "      <th>Predicted</th>\n",
       "      <th></th>\n",
       "      <th></th>\n",
       "    </tr>\n",
       "  </thead>\n",
       "  <tbody>\n",
       "    <tr>\n",
       "      <th>Down</th>\n",
       "      <td>77</td>\n",
       "      <td>97</td>\n",
       "    </tr>\n",
       "    <tr>\n",
       "      <th>Up</th>\n",
       "      <td>34</td>\n",
       "      <td>44</td>\n",
       "    </tr>\n",
       "  </tbody>\n",
       "</table>\n",
       "</div>"
      ],
      "text/plain": [
       "Truth      Down  Up\n",
       "Predicted          \n",
       "Down         77  97\n",
       "Up           34  44"
      ]
     },
     "execution_count": 71,
     "metadata": {},
     "output_type": "execute_result"
    }
   ],
   "source": [
    "# Produce the confusion matrix of predictions and actual values for test set\n",
    "confusion_table(labels, L_test)"
   ]
  },
  {
   "cell_type": "code",
   "execution_count": 72,
   "metadata": {},
   "outputs": [
    {
     "data": {
      "text/plain": [
       "(0.4801587301587302, 0.5198412698412699)"
      ]
     },
     "execution_count": 72,
     "metadata": {},
     "output_type": "execute_result"
    }
   ],
   "source": [
    "# Produce a tuple of accuracy and error rates\n",
    "np.mean(labels == L_test), np.mean(labels != L_test)"
   ]
  },
  {
   "cell_type": "markdown",
   "metadata": {},
   "source": [
    "This is worse than guessing, but one would not expect to be able to use the previous days' returns to predict future market performance."
   ]
  },
  {
   "cell_type": "markdown",
   "metadata": {},
   "source": [
    "Using predictors that have no relationship with the response tends to cause a deterioration in the test error rate (since such predictors cause an increase in variance without a corresponding decrease in bias), and so removing such predictors may in turn yield an improvement. Below we reft the logistic regression using just `Lag1` and `Lag2`, which seemed to have the highest predictive power in the original logistic regression model."
   ]
  },
  {
   "cell_type": "code",
   "execution_count": 73,
   "metadata": {},
   "outputs": [
    {
     "data": {
      "text/html": [
       "<div>\n",
       "<style scoped>\n",
       "    .dataframe tbody tr th:only-of-type {\n",
       "        vertical-align: middle;\n",
       "    }\n",
       "\n",
       "    .dataframe tbody tr th {\n",
       "        vertical-align: top;\n",
       "    }\n",
       "\n",
       "    .dataframe thead th {\n",
       "        text-align: right;\n",
       "    }\n",
       "</style>\n",
       "<table border=\"1\" class=\"dataframe\">\n",
       "  <thead>\n",
       "    <tr style=\"text-align: right;\">\n",
       "      <th>Truth</th>\n",
       "      <th>Down</th>\n",
       "      <th>Up</th>\n",
       "    </tr>\n",
       "    <tr>\n",
       "      <th>Predicted</th>\n",
       "      <th></th>\n",
       "      <th></th>\n",
       "    </tr>\n",
       "  </thead>\n",
       "  <tbody>\n",
       "    <tr>\n",
       "      <th>Down</th>\n",
       "      <td>35</td>\n",
       "      <td>35</td>\n",
       "    </tr>\n",
       "    <tr>\n",
       "      <th>Up</th>\n",
       "      <td>76</td>\n",
       "      <td>106</td>\n",
       "    </tr>\n",
       "  </tbody>\n",
       "</table>\n",
       "</div>"
      ],
      "text/plain": [
       "Truth      Down   Up\n",
       "Predicted           \n",
       "Down         35   35\n",
       "Up           76  106"
      ]
     },
     "execution_count": 73,
     "metadata": {},
     "output_type": "execute_result"
    }
   ],
   "source": [
    "model = MS(['Lag1', 'Lag2']).fit(Smarket)\n",
    "X = model.transform(Smarket)\n",
    "X_train, X_test = X.loc[train], X.loc[~train]\n",
    "glm_train = sm.GLM(y_train, X_train, family=sm.families.Binomial())\n",
    "results = glm_train.fit()\n",
    "probs = results.predict(exog=X_test)\n",
    "labels = np.array(['Down'] * 252)\n",
    "labels[probs > 0.5] = 'Up'\n",
    "confusion_table(labels, L_test)"
   ]
  },
  {
   "cell_type": "code",
   "execution_count": 74,
   "metadata": {},
   "outputs": [
    {
     "data": {
      "text/plain": [
       "(0.5595238095238095, 0.44047619047619047)"
      ]
     },
     "execution_count": 74,
     "metadata": {},
     "output_type": "execute_result"
    }
   ],
   "source": [
    "# Produce a tuple of accuracy and error rates\n",
    "np.mean(labels == L_test), np.mean(labels != L_test)"
   ]
  },
  {
   "cell_type": "markdown",
   "metadata": {},
   "source": [
    "By removing all but `Lag1` and `Lag2`, we now seem to do a little better than chance. "
   ]
  },
  {
   "cell_type": "markdown",
   "metadata": {},
   "source": [
    "Suppose that we want to predict the returns associated with particular values of `Lag1` and `Lag2`. In particular, we want to predict probability of `Direction` = \"Up\" on a day when `Lag1` and `Lag2` equal 1.2 and 1.1, respectively, and on a day when they equal 1.5 and −0.8."
   ]
  },
  {
   "cell_type": "code",
   "execution_count": 75,
   "metadata": {},
   "outputs": [
    {
     "data": {
      "text/plain": [
       "0    0.479146\n",
       "1    0.496094\n",
       "dtype: float64"
      ]
     },
     "execution_count": 75,
     "metadata": {},
     "output_type": "execute_result"
    }
   ],
   "source": [
    "newdata = pd.DataFrame({\n",
    "    'Lag1':[1.2, 1.5],\n",
    "    'Lag2':[1.1, -0.8]\n",
    "})\n",
    "\n",
    "newX = model.transform(newdata)\n",
    "results.predict(newX)"
   ]
  },
  {
   "cell_type": "markdown",
   "metadata": {},
   "source": [
    "#### 4.7.3 Linear Discriminant Analysis"
   ]
  },
  {
   "cell_type": "markdown",
   "metadata": {},
   "source": [
    "We perform LDA on the `Smarket` data using `LinearDiscriminantAnalysis()`."
   ]
  },
  {
   "cell_type": "code",
   "execution_count": 76,
   "metadata": {},
   "outputs": [],
   "source": [
    "lda = LDA(store_covariance=True)"
   ]
  },
  {
   "cell_type": "markdown",
   "metadata": {},
   "source": [
    "Since the `LDA` estimator automatically adds an intercept, we should remove the column corresponding to the intercept in both `X_train` and `X_test`.\n",
    "\n",
    "We can also directly use the labels rather than the Boolean vectors `y_train`."
   ]
  },
  {
   "cell_type": "code",
   "execution_count": 77,
   "metadata": {},
   "outputs": [
    {
     "data": {
      "text/html": [
       "<style>#sk-container-id-5 {color: black;background-color: white;}#sk-container-id-5 pre{padding: 0;}#sk-container-id-5 div.sk-toggleable {background-color: white;}#sk-container-id-5 label.sk-toggleable__label {cursor: pointer;display: block;width: 100%;margin-bottom: 0;padding: 0.3em;box-sizing: border-box;text-align: center;}#sk-container-id-5 label.sk-toggleable__label-arrow:before {content: \"▸\";float: left;margin-right: 0.25em;color: #696969;}#sk-container-id-5 label.sk-toggleable__label-arrow:hover:before {color: black;}#sk-container-id-5 div.sk-estimator:hover label.sk-toggleable__label-arrow:before {color: black;}#sk-container-id-5 div.sk-toggleable__content {max-height: 0;max-width: 0;overflow: hidden;text-align: left;background-color: #f0f8ff;}#sk-container-id-5 div.sk-toggleable__content pre {margin: 0.2em;color: black;border-radius: 0.25em;background-color: #f0f8ff;}#sk-container-id-5 input.sk-toggleable__control:checked~div.sk-toggleable__content {max-height: 200px;max-width: 100%;overflow: auto;}#sk-container-id-5 input.sk-toggleable__control:checked~label.sk-toggleable__label-arrow:before {content: \"▾\";}#sk-container-id-5 div.sk-estimator input.sk-toggleable__control:checked~label.sk-toggleable__label {background-color: #d4ebff;}#sk-container-id-5 div.sk-label input.sk-toggleable__control:checked~label.sk-toggleable__label {background-color: #d4ebff;}#sk-container-id-5 input.sk-hidden--visually {border: 0;clip: rect(1px 1px 1px 1px);clip: rect(1px, 1px, 1px, 1px);height: 1px;margin: -1px;overflow: hidden;padding: 0;position: absolute;width: 1px;}#sk-container-id-5 div.sk-estimator {font-family: monospace;background-color: #f0f8ff;border: 1px dotted black;border-radius: 0.25em;box-sizing: border-box;margin-bottom: 0.5em;}#sk-container-id-5 div.sk-estimator:hover {background-color: #d4ebff;}#sk-container-id-5 div.sk-parallel-item::after {content: \"\";width: 100%;border-bottom: 1px solid gray;flex-grow: 1;}#sk-container-id-5 div.sk-label:hover label.sk-toggleable__label {background-color: #d4ebff;}#sk-container-id-5 div.sk-serial::before {content: \"\";position: absolute;border-left: 1px solid gray;box-sizing: border-box;top: 0;bottom: 0;left: 50%;z-index: 0;}#sk-container-id-5 div.sk-serial {display: flex;flex-direction: column;align-items: center;background-color: white;padding-right: 0.2em;padding-left: 0.2em;position: relative;}#sk-container-id-5 div.sk-item {position: relative;z-index: 1;}#sk-container-id-5 div.sk-parallel {display: flex;align-items: stretch;justify-content: center;background-color: white;position: relative;}#sk-container-id-5 div.sk-item::before, #sk-container-id-5 div.sk-parallel-item::before {content: \"\";position: absolute;border-left: 1px solid gray;box-sizing: border-box;top: 0;bottom: 0;left: 50%;z-index: -1;}#sk-container-id-5 div.sk-parallel-item {display: flex;flex-direction: column;z-index: 1;position: relative;background-color: white;}#sk-container-id-5 div.sk-parallel-item:first-child::after {align-self: flex-end;width: 50%;}#sk-container-id-5 div.sk-parallel-item:last-child::after {align-self: flex-start;width: 50%;}#sk-container-id-5 div.sk-parallel-item:only-child::after {width: 0;}#sk-container-id-5 div.sk-dashed-wrapped {border: 1px dashed gray;margin: 0 0.4em 0.5em 0.4em;box-sizing: border-box;padding-bottom: 0.4em;background-color: white;}#sk-container-id-5 div.sk-label label {font-family: monospace;font-weight: bold;display: inline-block;line-height: 1.2em;}#sk-container-id-5 div.sk-label-container {text-align: center;}#sk-container-id-5 div.sk-container {/* jupyter's `normalize.less` sets `[hidden] { display: none; }` but bootstrap.min.css set `[hidden] { display: none !important; }` so we also need the `!important` here to be able to override the default hidden behavior on the sphinx rendered scikit-learn.org. See: https://github.com/scikit-learn/scikit-learn/issues/21755 */display: inline-block !important;position: relative;}#sk-container-id-5 div.sk-text-repr-fallback {display: none;}</style><div id=\"sk-container-id-5\" class=\"sk-top-container\"><div class=\"sk-text-repr-fallback\"><pre>LinearDiscriminantAnalysis(store_covariance=True)</pre><b>In a Jupyter environment, please rerun this cell to show the HTML representation or trust the notebook. <br />On GitHub, the HTML representation is unable to render, please try loading this page with nbviewer.org.</b></div><div class=\"sk-container\" hidden><div class=\"sk-item\"><div class=\"sk-estimator sk-toggleable\"><input class=\"sk-toggleable__control sk-hidden--visually\" id=\"sk-estimator-id-5\" type=\"checkbox\" checked><label for=\"sk-estimator-id-5\" class=\"sk-toggleable__label sk-toggleable__label-arrow\">LinearDiscriminantAnalysis</label><div class=\"sk-toggleable__content\"><pre>LinearDiscriminantAnalysis(store_covariance=True)</pre></div></div></div></div></div>"
      ],
      "text/plain": [
       "LinearDiscriminantAnalysis(store_covariance=True)"
      ]
     },
     "execution_count": 77,
     "metadata": {},
     "output_type": "execute_result"
    }
   ],
   "source": [
    "X_train, X_test = [M.drop(columns=['intercept']) for M in [X_train, X_test]]\n",
    "lda.fit(X_train, L_train)"
   ]
  },
  {
   "cell_type": "markdown",
   "metadata": {},
   "source": [
    "The average value of each predictor within each class suggest that there is a tendency for the previous 2 days' returns to be negative on days when the market increases, and a tendency for the previous days' returns to be positive on days when the market declines:"
   ]
  },
  {
   "cell_type": "code",
   "execution_count": 78,
   "metadata": {},
   "outputs": [
    {
     "data": {
      "text/plain": [
       "array(['Down', 'Up'], dtype='<U4')"
      ]
     },
     "execution_count": 78,
     "metadata": {},
     "output_type": "execute_result"
    }
   ],
   "source": [
    "lda.classes_"
   ]
  },
  {
   "cell_type": "code",
   "execution_count": 79,
   "metadata": {},
   "outputs": [
    {
     "data": {
      "text/plain": [
       "array([[ 0.04279022,  0.03389409],\n",
       "       [-0.03954635, -0.03132544]])"
      ]
     },
     "execution_count": 79,
     "metadata": {},
     "output_type": "execute_result"
    }
   ],
   "source": [
    "lda.means_"
   ]
  },
  {
   "cell_type": "code",
   "execution_count": 80,
   "metadata": {},
   "outputs": [
    {
     "data": {
      "text/plain": [
       "array([0.49198397, 0.50801603])"
      ]
     },
     "execution_count": 80,
     "metadata": {},
     "output_type": "execute_result"
    }
   ],
   "source": [
    "lda.priors_"
   ]
  },
  {
   "cell_type": "markdown",
   "metadata": {},
   "source": [
    "The linear discriminant vectors can be found in the `scalings_` attribute.\n",
    "\n",
    "These values provide the linear combination of `Lag1` and `Lag2` that are used to form the LDA decision rule. If −0.64 × `Lag1` − 0.51 × `Lag2` is large, then the `LDA` classifer will predict a market increase, and if it is small, then the `LDA` classifer will predict a market decline."
   ]
  },
  {
   "cell_type": "code",
   "execution_count": 81,
   "metadata": {},
   "outputs": [
    {
     "data": {
      "text/plain": [
       "array([[-0.64201904],\n",
       "       [-0.51352928]])"
      ]
     },
     "execution_count": 81,
     "metadata": {},
     "output_type": "execute_result"
    }
   ],
   "source": [
    "lda.scalings_"
   ]
  },
  {
   "cell_type": "code",
   "execution_count": 82,
   "metadata": {},
   "outputs": [],
   "source": [
    "lda_pred = lda.predict(X_test)"
   ]
  },
  {
   "cell_type": "code",
   "execution_count": 83,
   "metadata": {},
   "outputs": [
    {
     "data": {
      "text/html": [
       "<div>\n",
       "<style scoped>\n",
       "    .dataframe tbody tr th:only-of-type {\n",
       "        vertical-align: middle;\n",
       "    }\n",
       "\n",
       "    .dataframe tbody tr th {\n",
       "        vertical-align: top;\n",
       "    }\n",
       "\n",
       "    .dataframe thead th {\n",
       "        text-align: right;\n",
       "    }\n",
       "</style>\n",
       "<table border=\"1\" class=\"dataframe\">\n",
       "  <thead>\n",
       "    <tr style=\"text-align: right;\">\n",
       "      <th>Truth</th>\n",
       "      <th>Down</th>\n",
       "      <th>Up</th>\n",
       "    </tr>\n",
       "    <tr>\n",
       "      <th>Predicted</th>\n",
       "      <th></th>\n",
       "      <th></th>\n",
       "    </tr>\n",
       "  </thead>\n",
       "  <tbody>\n",
       "    <tr>\n",
       "      <th>Down</th>\n",
       "      <td>35</td>\n",
       "      <td>35</td>\n",
       "    </tr>\n",
       "    <tr>\n",
       "      <th>Up</th>\n",
       "      <td>76</td>\n",
       "      <td>106</td>\n",
       "    </tr>\n",
       "  </tbody>\n",
       "</table>\n",
       "</div>"
      ],
      "text/plain": [
       "Truth      Down   Up\n",
       "Predicted           \n",
       "Down         35   35\n",
       "Up           76  106"
      ]
     },
     "execution_count": 83,
     "metadata": {},
     "output_type": "execute_result"
    }
   ],
   "source": [
    "confusion_table(lda_pred, L_test)"
   ]
  },
  {
   "cell_type": "code",
   "execution_count": 96,
   "metadata": {},
   "outputs": [
    {
     "data": {
      "text/plain": [
       "0.5595238095238095"
      ]
     },
     "execution_count": 96,
     "metadata": {},
     "output_type": "execute_result"
    }
   ],
   "source": [
    "np.mean(lda_pred == L_test)"
   ]
  },
  {
   "cell_type": "markdown",
   "metadata": {},
   "source": [
    "Comparing confusion matrices shows that our logistic regression and LDA predictions are almost identical."
   ]
  },
  {
   "cell_type": "markdown",
   "metadata": {},
   "source": [
    "We can also estimate the probability of each class for each point in the test dataset by applying a threshold of 50% to the poterior probabilities of being in class 'Up':"
   ]
  },
  {
   "cell_type": "code",
   "execution_count": 84,
   "metadata": {},
   "outputs": [],
   "source": [
    "lda_prod = lda.predict_proba(X_test)"
   ]
  },
  {
   "cell_type": "code",
   "execution_count": 85,
   "metadata": {},
   "outputs": [
    {
     "data": {
      "text/plain": [
       "True"
      ]
     },
     "execution_count": 85,
     "metadata": {},
     "output_type": "execute_result"
    }
   ],
   "source": [
    "# Check that probability predictions for test datapoints and in agreement with probability predictions\n",
    "lda_prob = lda.predict_proba(X_test)\n",
    "np.all(np.where(lda_prob[:,1] >= 0.5, 'Up','Down') == lda_pred)"
   ]
  },
  {
   "cell_type": "code",
   "execution_count": 86,
   "metadata": {},
   "outputs": [
    {
     "data": {
      "text/plain": [
       "True"
      ]
     },
     "execution_count": 86,
     "metadata": {},
     "output_type": "execute_result"
    }
   ],
   "source": [
    "# Version of the above which works with multiple classes\n",
    "np.all([lda.classes_[i] for i in np.argmax(lda_prob, 1)] == lda_pred)"
   ]
  },
  {
   "cell_type": "markdown",
   "metadata": {},
   "source": [
    "#### 4.7.4 Quadratic Discriminant Analysis\n",
    "\n",
    "We now fit a QDA model to the `Smarket` data."
   ]
  },
  {
   "cell_type": "code",
   "execution_count": 87,
   "metadata": {},
   "outputs": [
    {
     "data": {
      "text/html": [
       "<style>#sk-container-id-6 {color: black;background-color: white;}#sk-container-id-6 pre{padding: 0;}#sk-container-id-6 div.sk-toggleable {background-color: white;}#sk-container-id-6 label.sk-toggleable__label {cursor: pointer;display: block;width: 100%;margin-bottom: 0;padding: 0.3em;box-sizing: border-box;text-align: center;}#sk-container-id-6 label.sk-toggleable__label-arrow:before {content: \"▸\";float: left;margin-right: 0.25em;color: #696969;}#sk-container-id-6 label.sk-toggleable__label-arrow:hover:before {color: black;}#sk-container-id-6 div.sk-estimator:hover label.sk-toggleable__label-arrow:before {color: black;}#sk-container-id-6 div.sk-toggleable__content {max-height: 0;max-width: 0;overflow: hidden;text-align: left;background-color: #f0f8ff;}#sk-container-id-6 div.sk-toggleable__content pre {margin: 0.2em;color: black;border-radius: 0.25em;background-color: #f0f8ff;}#sk-container-id-6 input.sk-toggleable__control:checked~div.sk-toggleable__content {max-height: 200px;max-width: 100%;overflow: auto;}#sk-container-id-6 input.sk-toggleable__control:checked~label.sk-toggleable__label-arrow:before {content: \"▾\";}#sk-container-id-6 div.sk-estimator input.sk-toggleable__control:checked~label.sk-toggleable__label {background-color: #d4ebff;}#sk-container-id-6 div.sk-label input.sk-toggleable__control:checked~label.sk-toggleable__label {background-color: #d4ebff;}#sk-container-id-6 input.sk-hidden--visually {border: 0;clip: rect(1px 1px 1px 1px);clip: rect(1px, 1px, 1px, 1px);height: 1px;margin: -1px;overflow: hidden;padding: 0;position: absolute;width: 1px;}#sk-container-id-6 div.sk-estimator {font-family: monospace;background-color: #f0f8ff;border: 1px dotted black;border-radius: 0.25em;box-sizing: border-box;margin-bottom: 0.5em;}#sk-container-id-6 div.sk-estimator:hover {background-color: #d4ebff;}#sk-container-id-6 div.sk-parallel-item::after {content: \"\";width: 100%;border-bottom: 1px solid gray;flex-grow: 1;}#sk-container-id-6 div.sk-label:hover label.sk-toggleable__label {background-color: #d4ebff;}#sk-container-id-6 div.sk-serial::before {content: \"\";position: absolute;border-left: 1px solid gray;box-sizing: border-box;top: 0;bottom: 0;left: 50%;z-index: 0;}#sk-container-id-6 div.sk-serial {display: flex;flex-direction: column;align-items: center;background-color: white;padding-right: 0.2em;padding-left: 0.2em;position: relative;}#sk-container-id-6 div.sk-item {position: relative;z-index: 1;}#sk-container-id-6 div.sk-parallel {display: flex;align-items: stretch;justify-content: center;background-color: white;position: relative;}#sk-container-id-6 div.sk-item::before, #sk-container-id-6 div.sk-parallel-item::before {content: \"\";position: absolute;border-left: 1px solid gray;box-sizing: border-box;top: 0;bottom: 0;left: 50%;z-index: -1;}#sk-container-id-6 div.sk-parallel-item {display: flex;flex-direction: column;z-index: 1;position: relative;background-color: white;}#sk-container-id-6 div.sk-parallel-item:first-child::after {align-self: flex-end;width: 50%;}#sk-container-id-6 div.sk-parallel-item:last-child::after {align-self: flex-start;width: 50%;}#sk-container-id-6 div.sk-parallel-item:only-child::after {width: 0;}#sk-container-id-6 div.sk-dashed-wrapped {border: 1px dashed gray;margin: 0 0.4em 0.5em 0.4em;box-sizing: border-box;padding-bottom: 0.4em;background-color: white;}#sk-container-id-6 div.sk-label label {font-family: monospace;font-weight: bold;display: inline-block;line-height: 1.2em;}#sk-container-id-6 div.sk-label-container {text-align: center;}#sk-container-id-6 div.sk-container {/* jupyter's `normalize.less` sets `[hidden] { display: none; }` but bootstrap.min.css set `[hidden] { display: none !important; }` so we also need the `!important` here to be able to override the default hidden behavior on the sphinx rendered scikit-learn.org. See: https://github.com/scikit-learn/scikit-learn/issues/21755 */display: inline-block !important;position: relative;}#sk-container-id-6 div.sk-text-repr-fallback {display: none;}</style><div id=\"sk-container-id-6\" class=\"sk-top-container\"><div class=\"sk-text-repr-fallback\"><pre>QuadraticDiscriminantAnalysis(store_covariance=True)</pre><b>In a Jupyter environment, please rerun this cell to show the HTML representation or trust the notebook. <br />On GitHub, the HTML representation is unable to render, please try loading this page with nbviewer.org.</b></div><div class=\"sk-container\" hidden><div class=\"sk-item\"><div class=\"sk-estimator sk-toggleable\"><input class=\"sk-toggleable__control sk-hidden--visually\" id=\"sk-estimator-id-6\" type=\"checkbox\" checked><label for=\"sk-estimator-id-6\" class=\"sk-toggleable__label sk-toggleable__label-arrow\">QuadraticDiscriminantAnalysis</label><div class=\"sk-toggleable__content\"><pre>QuadraticDiscriminantAnalysis(store_covariance=True)</pre></div></div></div></div></div>"
      ],
      "text/plain": [
       "QuadraticDiscriminantAnalysis(store_covariance=True)"
      ]
     },
     "execution_count": 87,
     "metadata": {},
     "output_type": "execute_result"
    }
   ],
   "source": [
    "qda = QDA(store_covariance=True)\n",
    "qda.fit(X_train, L_train)"
   ]
  },
  {
   "cell_type": "code",
   "execution_count": 88,
   "metadata": {},
   "outputs": [
    {
     "data": {
      "text/plain": [
       "array([[ 0.04279022,  0.03389409],\n",
       "       [-0.03954635, -0.03132544]])"
      ]
     },
     "execution_count": 88,
     "metadata": {},
     "output_type": "execute_result"
    }
   ],
   "source": [
    "qda.means_"
   ]
  },
  {
   "cell_type": "code",
   "execution_count": 90,
   "metadata": {},
   "outputs": [
    {
     "data": {
      "text/plain": [
       "array([0.49198397, 0.50801603])"
      ]
     },
     "execution_count": 90,
     "metadata": {},
     "output_type": "execute_result"
    }
   ],
   "source": [
    "qda.priors_"
   ]
  },
  {
   "cell_type": "markdown",
   "metadata": {},
   "source": [
    "Unlike LDA, QDA estimates one covarance matrix per class. Here's the matrix for the first class:"
   ]
  },
  {
   "cell_type": "code",
   "execution_count": 92,
   "metadata": {},
   "outputs": [
    {
     "data": {
      "text/plain": [
       "array([[ 1.50662277, -0.03924806],\n",
       "       [-0.03924806,  1.53559498]])"
      ]
     },
     "execution_count": 92,
     "metadata": {},
     "output_type": "execute_result"
    }
   ],
   "source": [
    "qda.covariance_[0]"
   ]
  },
  {
   "cell_type": "code",
   "execution_count": 93,
   "metadata": {},
   "outputs": [
    {
     "data": {
      "text/html": [
       "<div>\n",
       "<style scoped>\n",
       "    .dataframe tbody tr th:only-of-type {\n",
       "        vertical-align: middle;\n",
       "    }\n",
       "\n",
       "    .dataframe tbody tr th {\n",
       "        vertical-align: top;\n",
       "    }\n",
       "\n",
       "    .dataframe thead th {\n",
       "        text-align: right;\n",
       "    }\n",
       "</style>\n",
       "<table border=\"1\" class=\"dataframe\">\n",
       "  <thead>\n",
       "    <tr style=\"text-align: right;\">\n",
       "      <th>Truth</th>\n",
       "      <th>Down</th>\n",
       "      <th>Up</th>\n",
       "    </tr>\n",
       "    <tr>\n",
       "      <th>Predicted</th>\n",
       "      <th></th>\n",
       "      <th></th>\n",
       "    </tr>\n",
       "  </thead>\n",
       "  <tbody>\n",
       "    <tr>\n",
       "      <th>Down</th>\n",
       "      <td>30</td>\n",
       "      <td>20</td>\n",
       "    </tr>\n",
       "    <tr>\n",
       "      <th>Up</th>\n",
       "      <td>81</td>\n",
       "      <td>121</td>\n",
       "    </tr>\n",
       "  </tbody>\n",
       "</table>\n",
       "</div>"
      ],
      "text/plain": [
       "Truth      Down   Up\n",
       "Predicted           \n",
       "Down         30   20\n",
       "Up           81  121"
      ]
     },
     "execution_count": 93,
     "metadata": {},
     "output_type": "execute_result"
    }
   ],
   "source": [
    "qda_pred = qda.predict(X_test)\n",
    "confusion_table(qda_pred, L_test)"
   ]
  },
  {
   "cell_type": "code",
   "execution_count": 95,
   "metadata": {},
   "outputs": [
    {
     "data": {
      "text/plain": [
       "0.5992063492063492"
      ]
     },
     "execution_count": 95,
     "metadata": {},
     "output_type": "execute_result"
    }
   ],
   "source": [
    "np.mean(qda_pred == L_test)"
   ]
  },
  {
   "cell_type": "markdown",
   "metadata": {},
   "source": [
    "Interestingly, the `QDA` predictions are accurate almost 60% of the time, even though the 2005 data was not used to ft the model."
   ]
  },
  {
   "cell_type": "markdown",
   "metadata": {},
   "source": [
    "#### 4.7.5 Naive Bayes"
   ]
  },
  {
   "cell_type": "markdown",
   "metadata": {},
   "source": [
    "Next, we fit a naive Bayes model to the `Smarket` data. The syntax is similar to that of `LDA()` and `QDA()`. By default, this implementation `GaussianNB()` of the naive Bayes classifer models each quantitative feature using a Gaussian\n",
    "distribution."
   ]
  },
  {
   "cell_type": "code",
   "execution_count": 98,
   "metadata": {},
   "outputs": [
    {
     "data": {
      "text/html": [
       "<style>#sk-container-id-7 {color: black;background-color: white;}#sk-container-id-7 pre{padding: 0;}#sk-container-id-7 div.sk-toggleable {background-color: white;}#sk-container-id-7 label.sk-toggleable__label {cursor: pointer;display: block;width: 100%;margin-bottom: 0;padding: 0.3em;box-sizing: border-box;text-align: center;}#sk-container-id-7 label.sk-toggleable__label-arrow:before {content: \"▸\";float: left;margin-right: 0.25em;color: #696969;}#sk-container-id-7 label.sk-toggleable__label-arrow:hover:before {color: black;}#sk-container-id-7 div.sk-estimator:hover label.sk-toggleable__label-arrow:before {color: black;}#sk-container-id-7 div.sk-toggleable__content {max-height: 0;max-width: 0;overflow: hidden;text-align: left;background-color: #f0f8ff;}#sk-container-id-7 div.sk-toggleable__content pre {margin: 0.2em;color: black;border-radius: 0.25em;background-color: #f0f8ff;}#sk-container-id-7 input.sk-toggleable__control:checked~div.sk-toggleable__content {max-height: 200px;max-width: 100%;overflow: auto;}#sk-container-id-7 input.sk-toggleable__control:checked~label.sk-toggleable__label-arrow:before {content: \"▾\";}#sk-container-id-7 div.sk-estimator input.sk-toggleable__control:checked~label.sk-toggleable__label {background-color: #d4ebff;}#sk-container-id-7 div.sk-label input.sk-toggleable__control:checked~label.sk-toggleable__label {background-color: #d4ebff;}#sk-container-id-7 input.sk-hidden--visually {border: 0;clip: rect(1px 1px 1px 1px);clip: rect(1px, 1px, 1px, 1px);height: 1px;margin: -1px;overflow: hidden;padding: 0;position: absolute;width: 1px;}#sk-container-id-7 div.sk-estimator {font-family: monospace;background-color: #f0f8ff;border: 1px dotted black;border-radius: 0.25em;box-sizing: border-box;margin-bottom: 0.5em;}#sk-container-id-7 div.sk-estimator:hover {background-color: #d4ebff;}#sk-container-id-7 div.sk-parallel-item::after {content: \"\";width: 100%;border-bottom: 1px solid gray;flex-grow: 1;}#sk-container-id-7 div.sk-label:hover label.sk-toggleable__label {background-color: #d4ebff;}#sk-container-id-7 div.sk-serial::before {content: \"\";position: absolute;border-left: 1px solid gray;box-sizing: border-box;top: 0;bottom: 0;left: 50%;z-index: 0;}#sk-container-id-7 div.sk-serial {display: flex;flex-direction: column;align-items: center;background-color: white;padding-right: 0.2em;padding-left: 0.2em;position: relative;}#sk-container-id-7 div.sk-item {position: relative;z-index: 1;}#sk-container-id-7 div.sk-parallel {display: flex;align-items: stretch;justify-content: center;background-color: white;position: relative;}#sk-container-id-7 div.sk-item::before, #sk-container-id-7 div.sk-parallel-item::before {content: \"\";position: absolute;border-left: 1px solid gray;box-sizing: border-box;top: 0;bottom: 0;left: 50%;z-index: -1;}#sk-container-id-7 div.sk-parallel-item {display: flex;flex-direction: column;z-index: 1;position: relative;background-color: white;}#sk-container-id-7 div.sk-parallel-item:first-child::after {align-self: flex-end;width: 50%;}#sk-container-id-7 div.sk-parallel-item:last-child::after {align-self: flex-start;width: 50%;}#sk-container-id-7 div.sk-parallel-item:only-child::after {width: 0;}#sk-container-id-7 div.sk-dashed-wrapped {border: 1px dashed gray;margin: 0 0.4em 0.5em 0.4em;box-sizing: border-box;padding-bottom: 0.4em;background-color: white;}#sk-container-id-7 div.sk-label label {font-family: monospace;font-weight: bold;display: inline-block;line-height: 1.2em;}#sk-container-id-7 div.sk-label-container {text-align: center;}#sk-container-id-7 div.sk-container {/* jupyter's `normalize.less` sets `[hidden] { display: none; }` but bootstrap.min.css set `[hidden] { display: none !important; }` so we also need the `!important` here to be able to override the default hidden behavior on the sphinx rendered scikit-learn.org. See: https://github.com/scikit-learn/scikit-learn/issues/21755 */display: inline-block !important;position: relative;}#sk-container-id-7 div.sk-text-repr-fallback {display: none;}</style><div id=\"sk-container-id-7\" class=\"sk-top-container\"><div class=\"sk-text-repr-fallback\"><pre>GaussianNB()</pre><b>In a Jupyter environment, please rerun this cell to show the HTML representation or trust the notebook. <br />On GitHub, the HTML representation is unable to render, please try loading this page with nbviewer.org.</b></div><div class=\"sk-container\" hidden><div class=\"sk-item\"><div class=\"sk-estimator sk-toggleable\"><input class=\"sk-toggleable__control sk-hidden--visually\" id=\"sk-estimator-id-7\" type=\"checkbox\" checked><label for=\"sk-estimator-id-7\" class=\"sk-toggleable__label sk-toggleable__label-arrow\">GaussianNB</label><div class=\"sk-toggleable__content\"><pre>GaussianNB()</pre></div></div></div></div></div>"
      ],
      "text/plain": [
       "GaussianNB()"
      ]
     },
     "execution_count": 98,
     "metadata": {},
     "output_type": "execute_result"
    }
   ],
   "source": [
    "NB = GaussianNB()\n",
    "NB.fit(X_train, L_train)"
   ]
  },
  {
   "cell_type": "code",
   "execution_count": 99,
   "metadata": {},
   "outputs": [
    {
     "data": {
      "text/plain": [
       "array(['Down', 'Up'], dtype='<U4')"
      ]
     },
     "execution_count": 99,
     "metadata": {},
     "output_type": "execute_result"
    }
   ],
   "source": [
    "NB.classes_"
   ]
  },
  {
   "cell_type": "code",
   "execution_count": 102,
   "metadata": {},
   "outputs": [
    {
     "data": {
      "text/plain": [
       "array([0.49198397, 0.50801603])"
      ]
     },
     "execution_count": 102,
     "metadata": {},
     "output_type": "execute_result"
    }
   ],
   "source": [
    "# For NB, the class prior probabilities are stored in class_prior_\n",
    "NB.class_prior_"
   ]
  },
  {
   "cell_type": "markdown",
   "metadata": {},
   "source": [
    "The parameters of the features can be found in the `theta_` and `var_` attributes. The number of rows is equal o the number of classes, while the numer of columns is equal to the number of features."
   ]
  },
  {
   "cell_type": "code",
   "execution_count": 106,
   "metadata": {},
   "outputs": [
    {
     "data": {
      "text/plain": [
       "array([[ 0.04279022,  0.03389409],\n",
       "       [-0.03954635, -0.03132544]])"
      ]
     },
     "execution_count": 106,
     "metadata": {},
     "output_type": "execute_result"
    }
   ],
   "source": [
    "NB.theta_"
   ]
  },
  {
   "cell_type": "code",
   "execution_count": 107,
   "metadata": {},
   "outputs": [
    {
     "data": {
      "text/plain": [
       "array([[1.50355429, 1.53246749],\n",
       "       [1.51401364, 1.48732877]])"
      ]
     },
     "execution_count": 107,
     "metadata": {},
     "output_type": "execute_result"
    }
   ],
   "source": [
    "NB.var_"
   ]
  },
  {
   "cell_type": "code",
   "execution_count": 108,
   "metadata": {},
   "outputs": [
    {
     "data": {
      "text/plain": [
       "Lag1    0.042790\n",
       "Lag2    0.033894\n",
       "dtype: float64"
      ]
     },
     "execution_count": 108,
     "metadata": {},
     "output_type": "execute_result"
    }
   ],
   "source": [
    "X_train[L_train == 'Down'].mean()"
   ]
  },
  {
   "cell_type": "code",
   "execution_count": 111,
   "metadata": {},
   "outputs": [
    {
     "data": {
      "text/plain": [
       "Lag1    1.503554\n",
       "Lag2    1.532467\n",
       "dtype: float64"
      ]
     },
     "execution_count": 111,
     "metadata": {},
     "output_type": "execute_result"
    }
   ],
   "source": [
    "# Note, we use ddof=0 here because the GaussianNB() function uses the\n",
    "# population formula for variance, i.e. 1/n.\n",
    "X_train[L_train == 'Down'].var(ddof=0)"
   ]
  },
  {
   "cell_type": "code",
   "execution_count": 112,
   "metadata": {},
   "outputs": [
    {
     "data": {
      "text/html": [
       "<div>\n",
       "<style scoped>\n",
       "    .dataframe tbody tr th:only-of-type {\n",
       "        vertical-align: middle;\n",
       "    }\n",
       "\n",
       "    .dataframe tbody tr th {\n",
       "        vertical-align: top;\n",
       "    }\n",
       "\n",
       "    .dataframe thead th {\n",
       "        text-align: right;\n",
       "    }\n",
       "</style>\n",
       "<table border=\"1\" class=\"dataframe\">\n",
       "  <thead>\n",
       "    <tr style=\"text-align: right;\">\n",
       "      <th>Truth</th>\n",
       "      <th>Down</th>\n",
       "      <th>Up</th>\n",
       "    </tr>\n",
       "    <tr>\n",
       "      <th>Predicted</th>\n",
       "      <th></th>\n",
       "      <th></th>\n",
       "    </tr>\n",
       "  </thead>\n",
       "  <tbody>\n",
       "    <tr>\n",
       "      <th>Down</th>\n",
       "      <td>29</td>\n",
       "      <td>20</td>\n",
       "    </tr>\n",
       "    <tr>\n",
       "      <th>Up</th>\n",
       "      <td>82</td>\n",
       "      <td>121</td>\n",
       "    </tr>\n",
       "  </tbody>\n",
       "</table>\n",
       "</div>"
      ],
      "text/plain": [
       "Truth      Down   Up\n",
       "Predicted           \n",
       "Down         29   20\n",
       "Up           82  121"
      ]
     },
     "execution_count": 112,
     "metadata": {},
     "output_type": "execute_result"
    }
   ],
   "source": [
    "# Make predictions\n",
    "nb_labels = NB.predict(X_test)\n",
    "confusion_table(nb_labels, L_test)"
   ]
  },
  {
   "cell_type": "markdown",
   "metadata": {},
   "source": [
    "Naive Bayes performs well on the data, with accurate predictions over 59% of the time, which is slightly worse than QDA, but much better than LDA."
   ]
  },
  {
   "cell_type": "code",
   "execution_count": 114,
   "metadata": {},
   "outputs": [
    {
     "data": {
      "text/plain": [
       "0.5952380952380952"
      ]
     },
     "execution_count": 114,
     "metadata": {},
     "output_type": "execute_result"
    }
   ],
   "source": [
    "np.mean(nb_labels == L_test)"
   ]
  },
  {
   "cell_type": "code",
   "execution_count": 116,
   "metadata": {},
   "outputs": [
    {
     "data": {
      "text/plain": [
       "array([[0.4873288 , 0.5126712 ],\n",
       "       [0.47623584, 0.52376416],\n",
       "       [0.46529531, 0.53470469],\n",
       "       [0.47484469, 0.52515531],\n",
       "       [0.49020587, 0.50979413]])"
      ]
     },
     "execution_count": 116,
     "metadata": {},
     "output_type": "execute_result"
    }
   ],
   "source": [
    "# Predict the probabilities of test data points belonging to each class\n",
    "NB.predict_proba(X_test)[:5]"
   ]
  },
  {
   "cell_type": "markdown",
   "metadata": {},
   "source": [
    "#### K-Nearest Neighbours\n",
    "\n",
    "We perform KNN using the `KNeighborsClassifier()` function."
   ]
  },
  {
   "cell_type": "code",
   "execution_count": 118,
   "metadata": {},
   "outputs": [
    {
     "data": {
      "text/html": [
       "<div>\n",
       "<style scoped>\n",
       "    .dataframe tbody tr th:only-of-type {\n",
       "        vertical-align: middle;\n",
       "    }\n",
       "\n",
       "    .dataframe tbody tr th {\n",
       "        vertical-align: top;\n",
       "    }\n",
       "\n",
       "    .dataframe thead th {\n",
       "        text-align: right;\n",
       "    }\n",
       "</style>\n",
       "<table border=\"1\" class=\"dataframe\">\n",
       "  <thead>\n",
       "    <tr style=\"text-align: right;\">\n",
       "      <th>Truth</th>\n",
       "      <th>Down</th>\n",
       "      <th>Up</th>\n",
       "    </tr>\n",
       "    <tr>\n",
       "      <th>Predicted</th>\n",
       "      <th></th>\n",
       "      <th></th>\n",
       "    </tr>\n",
       "  </thead>\n",
       "  <tbody>\n",
       "    <tr>\n",
       "      <th>Down</th>\n",
       "      <td>43</td>\n",
       "      <td>58</td>\n",
       "    </tr>\n",
       "    <tr>\n",
       "      <th>Up</th>\n",
       "      <td>68</td>\n",
       "      <td>83</td>\n",
       "    </tr>\n",
       "  </tbody>\n",
       "</table>\n",
       "</div>"
      ],
      "text/plain": [
       "Truth      Down  Up\n",
       "Predicted          \n",
       "Down         43  58\n",
       "Up           68  83"
      ]
     },
     "execution_count": 118,
     "metadata": {},
     "output_type": "execute_result"
    }
   ],
   "source": [
    "knn1 = KNeighborsClassifier(n_neighbors=1)\n",
    "knn1.fit(X_train, L_train)\n",
    "knn_pred = knn1.predict(X_test)\n",
    "confusion_table(knn_pred, L_test)"
   ]
  },
  {
   "cell_type": "markdown",
   "metadata": {},
   "source": [
    "The results using K = 1 are not very good: only 50% of observations are correctly predicted. K=1 might give an overly-flexible fit to the data."
   ]
  },
  {
   "cell_type": "code",
   "execution_count": 121,
   "metadata": {},
   "outputs": [
    {
     "data": {
      "text/plain": [
       "0.5"
      ]
     },
     "execution_count": 121,
     "metadata": {},
     "output_type": "execute_result"
    }
   ],
   "source": [
    "np.mean(knn_pred == L_test)"
   ]
  },
  {
   "cell_type": "markdown",
   "metadata": {},
   "source": [
    "Let's try again using K = 3:"
   ]
  },
  {
   "cell_type": "code",
   "execution_count": 122,
   "metadata": {},
   "outputs": [
    {
     "data": {
      "text/plain": [
       "0.5317460317460317"
      ]
     },
     "execution_count": 122,
     "metadata": {},
     "output_type": "execute_result"
    }
   ],
   "source": [
    "knn3 = KNeighborsClassifier(n_neighbors=3)\n",
    "knn3_pred = knn3.fit(X_train, L_train).predict(X_test)\n",
    "np.mean(knn3_pred == L_test)"
   ]
  },
  {
   "cell_type": "markdown",
   "metadata": {},
   "source": [
    "The results have improved slightly. But increasing K further provides no further improvements. It appears that for these data, and this train/test split, QDA gives the best results of the methods that we have examined so far."
   ]
  },
  {
   "cell_type": "markdown",
   "metadata": {},
   "source": [
    "We try KNN on the `Caravan` dataset. This dataset includes 85\n",
    "predictors that measure demographic characteristics for 5,822 individuals. The response variable is `Purchase`, which indicates whether or not a given individual purchases a caravan insurance policy. In this data set, only 6% of people purchased caravan insurance."
   ]
  },
  {
   "cell_type": "code",
   "execution_count": 123,
   "metadata": {},
   "outputs": [
    {
     "data": {
      "text/plain": [
       "Purchase\n",
       "No     5474\n",
       "Yes     348\n",
       "Name: count, dtype: int64"
      ]
     },
     "execution_count": 123,
     "metadata": {},
     "output_type": "execute_result"
    }
   ],
   "source": [
    "Caravan = load_data('Caravan')\n",
    "Purchase = Caravan.Purchase\n",
    "Purchase.value_counts()"
   ]
  },
  {
   "cell_type": "code",
   "execution_count": 124,
   "metadata": {},
   "outputs": [
    {
     "data": {
      "text/plain": [
       "Index(['MOSTYPE', 'MAANTHUI', 'MGEMOMV', 'MGEMLEEF', 'MOSHOOFD', 'MGODRK',\n",
       "       'MGODPR', 'MGODOV', 'MGODGE', 'MRELGE', 'MRELSA', 'MRELOV', 'MFALLEEN',\n",
       "       'MFGEKIND', 'MFWEKIND', 'MOPLHOOG', 'MOPLMIDD', 'MOPLLAAG', 'MBERHOOG',\n",
       "       'MBERZELF', 'MBERBOER', 'MBERMIDD', 'MBERARBG', 'MBERARBO', 'MSKA',\n",
       "       'MSKB1', 'MSKB2', 'MSKC', 'MSKD', 'MHHUUR', 'MHKOOP', 'MAUT1', 'MAUT2',\n",
       "       'MAUT0', 'MZFONDS', 'MZPART', 'MINKM30', 'MINK3045', 'MINK4575',\n",
       "       'MINK7512', 'MINK123M', 'MINKGEM', 'MKOOPKLA', 'PWAPART', 'PWABEDR',\n",
       "       'PWALAND', 'PPERSAUT', 'PBESAUT', 'PMOTSCO', 'PVRAAUT', 'PAANHANG',\n",
       "       'PTRACTOR', 'PWERKT', 'PBROM', 'PLEVEN', 'PPERSONG', 'PGEZONG',\n",
       "       'PWAOREG', 'PBRAND', 'PZEILPL', 'PPLEZIER', 'PFIETS', 'PINBOED',\n",
       "       'PBYSTAND', 'AWAPART', 'AWABEDR', 'AWALAND', 'APERSAUT', 'ABESAUT',\n",
       "       'AMOTSCO', 'AVRAAUT', 'AAANHANG', 'ATRACTOR', 'AWERKT', 'ABROM',\n",
       "       'ALEVEN', 'APERSONG', 'AGEZONG', 'AWAOREG', 'ABRAND', 'AZEILPL',\n",
       "       'APLEZIER', 'AFIETS', 'AINBOED', 'ABYSTAND', 'Purchase'],\n",
       "      dtype='object')"
      ]
     },
     "execution_count": 124,
     "metadata": {},
     "output_type": "execute_result"
    }
   ],
   "source": [
    "Caravan.columns"
   ]
  },
  {
   "cell_type": "code",
   "execution_count": 125,
   "metadata": {},
   "outputs": [],
   "source": [
    "feature_df = Caravan.drop(columns=['Purchase'])"
   ]
  },
  {
   "cell_type": "markdown",
   "metadata": {},
   "source": [
    "Because the KNN classifer predicts the class of a given test observation by identifying the observations that are nearest to it, the scale of the variables matters. Any variables that are on a large scale will have a much larger effect on the distance between the observations, and hence for the KNN classifer, than variables that are on a small scale.\n",
    "\n",
    "A good way to handle this problem is to standardize the data so that all standardize variables are given a mean of zero and a standard deviation of one. Then all variables will be on a comparable scale. This is accomplished using the `StandardScaler()` transformation."
   ]
  },
  {
   "cell_type": "code",
   "execution_count": 126,
   "metadata": {},
   "outputs": [],
   "source": [
    "# with_mean - whether or not to subtract the mean\n",
    "# with_std - scale columns to have standard deviation of 1\n",
    "scaler = StandardScaler(with_mean=True, with_std=True, copy=True)"
   ]
  },
  {
   "cell_type": "code",
   "execution_count": 128,
   "metadata": {},
   "outputs": [],
   "source": [
    "# Fit the scaler and construct the standardised feature set\n",
    "scaler.fit(feature_df)\n",
    "X_std = scaler.transform(feature_df)"
   ]
  },
  {
   "cell_type": "code",
   "execution_count": 131,
   "metadata": {},
   "outputs": [
    {
     "data": {
      "text/html": [
       "<div>\n",
       "<style scoped>\n",
       "    .dataframe tbody tr th:only-of-type {\n",
       "        vertical-align: middle;\n",
       "    }\n",
       "\n",
       "    .dataframe tbody tr th {\n",
       "        vertical-align: top;\n",
       "    }\n",
       "\n",
       "    .dataframe thead th {\n",
       "        text-align: right;\n",
       "    }\n",
       "</style>\n",
       "<table border=\"1\" class=\"dataframe\">\n",
       "  <thead>\n",
       "    <tr style=\"text-align: right;\">\n",
       "      <th></th>\n",
       "      <th>MOSTYPE</th>\n",
       "      <th>MAANTHUI</th>\n",
       "      <th>MGEMOMV</th>\n",
       "      <th>MGEMLEEF</th>\n",
       "      <th>MOSHOOFD</th>\n",
       "      <th>MGODRK</th>\n",
       "      <th>MGODPR</th>\n",
       "      <th>MGODOV</th>\n",
       "      <th>MGODGE</th>\n",
       "      <th>MRELGE</th>\n",
       "      <th>...</th>\n",
       "      <th>ALEVEN</th>\n",
       "      <th>APERSONG</th>\n",
       "      <th>AGEZONG</th>\n",
       "      <th>AWAOREG</th>\n",
       "      <th>ABRAND</th>\n",
       "      <th>AZEILPL</th>\n",
       "      <th>APLEZIER</th>\n",
       "      <th>AFIETS</th>\n",
       "      <th>AINBOED</th>\n",
       "      <th>ABYSTAND</th>\n",
       "    </tr>\n",
       "  </thead>\n",
       "  <tbody>\n",
       "    <tr>\n",
       "      <th>0</th>\n",
       "      <td>0.680906</td>\n",
       "      <td>-0.27258</td>\n",
       "      <td>0.406697</td>\n",
       "      <td>-1.216964</td>\n",
       "      <td>0.779405</td>\n",
       "      <td>-0.694311</td>\n",
       "      <td>0.217444</td>\n",
       "      <td>-0.068711</td>\n",
       "      <td>-0.161816</td>\n",
       "      <td>0.427670</td>\n",
       "      <td>...</td>\n",
       "      <td>-0.20291</td>\n",
       "      <td>-0.073165</td>\n",
       "      <td>-0.081055</td>\n",
       "      <td>-0.05992</td>\n",
       "      <td>0.764971</td>\n",
       "      <td>-0.022706</td>\n",
       "      <td>-0.07365</td>\n",
       "      <td>-0.15062</td>\n",
       "      <td>-0.087348</td>\n",
       "      <td>-0.118816</td>\n",
       "    </tr>\n",
       "    <tr>\n",
       "      <th>1</th>\n",
       "      <td>0.992297</td>\n",
       "      <td>-0.27258</td>\n",
       "      <td>-0.859500</td>\n",
       "      <td>-1.216964</td>\n",
       "      <td>0.779405</td>\n",
       "      <td>0.302552</td>\n",
       "      <td>-0.365410</td>\n",
       "      <td>-0.068711</td>\n",
       "      <td>0.464159</td>\n",
       "      <td>-0.096077</td>\n",
       "      <td>...</td>\n",
       "      <td>-0.20291</td>\n",
       "      <td>-0.073165</td>\n",
       "      <td>-0.081055</td>\n",
       "      <td>-0.05992</td>\n",
       "      <td>0.764971</td>\n",
       "      <td>-0.022706</td>\n",
       "      <td>-0.07365</td>\n",
       "      <td>-0.15062</td>\n",
       "      <td>-0.087348</td>\n",
       "      <td>-0.118816</td>\n",
       "    </tr>\n",
       "    <tr>\n",
       "      <th>2</th>\n",
       "      <td>0.992297</td>\n",
       "      <td>-0.27258</td>\n",
       "      <td>-0.859500</td>\n",
       "      <td>-1.216964</td>\n",
       "      <td>0.779405</td>\n",
       "      <td>-0.694311</td>\n",
       "      <td>-0.365410</td>\n",
       "      <td>0.914172</td>\n",
       "      <td>0.464159</td>\n",
       "      <td>-1.667319</td>\n",
       "      <td>...</td>\n",
       "      <td>-0.20291</td>\n",
       "      <td>-0.073165</td>\n",
       "      <td>-0.081055</td>\n",
       "      <td>-0.05992</td>\n",
       "      <td>0.764971</td>\n",
       "      <td>-0.022706</td>\n",
       "      <td>-0.07365</td>\n",
       "      <td>-0.15062</td>\n",
       "      <td>-0.087348</td>\n",
       "      <td>-0.118816</td>\n",
       "    </tr>\n",
       "    <tr>\n",
       "      <th>3</th>\n",
       "      <td>-1.187437</td>\n",
       "      <td>-0.27258</td>\n",
       "      <td>0.406697</td>\n",
       "      <td>0.010755</td>\n",
       "      <td>-0.970980</td>\n",
       "      <td>1.299414</td>\n",
       "      <td>-0.948264</td>\n",
       "      <td>0.914172</td>\n",
       "      <td>0.464159</td>\n",
       "      <td>-0.619824</td>\n",
       "      <td>...</td>\n",
       "      <td>-0.20291</td>\n",
       "      <td>-0.073165</td>\n",
       "      <td>-0.081055</td>\n",
       "      <td>-0.05992</td>\n",
       "      <td>0.764971</td>\n",
       "      <td>-0.022706</td>\n",
       "      <td>-0.07365</td>\n",
       "      <td>-0.15062</td>\n",
       "      <td>-0.087348</td>\n",
       "      <td>-0.118816</td>\n",
       "    </tr>\n",
       "    <tr>\n",
       "      <th>4</th>\n",
       "      <td>1.225840</td>\n",
       "      <td>-0.27258</td>\n",
       "      <td>1.672893</td>\n",
       "      <td>-1.216964</td>\n",
       "      <td>1.479559</td>\n",
       "      <td>0.302552</td>\n",
       "      <td>-0.365410</td>\n",
       "      <td>-0.068711</td>\n",
       "      <td>0.464159</td>\n",
       "      <td>0.427670</td>\n",
       "      <td>...</td>\n",
       "      <td>-0.20291</td>\n",
       "      <td>-0.073165</td>\n",
       "      <td>-0.081055</td>\n",
       "      <td>-0.05992</td>\n",
       "      <td>0.764971</td>\n",
       "      <td>-0.022706</td>\n",
       "      <td>-0.07365</td>\n",
       "      <td>-0.15062</td>\n",
       "      <td>-0.087348</td>\n",
       "      <td>-0.118816</td>\n",
       "    </tr>\n",
       "  </tbody>\n",
       "</table>\n",
       "<p>5 rows × 85 columns</p>\n",
       "</div>"
      ],
      "text/plain": [
       "    MOSTYPE  MAANTHUI   MGEMOMV  MGEMLEEF  MOSHOOFD    MGODRK    MGODPR   \n",
       "0  0.680906  -0.27258  0.406697 -1.216964  0.779405 -0.694311  0.217444  \\\n",
       "1  0.992297  -0.27258 -0.859500 -1.216964  0.779405  0.302552 -0.365410   \n",
       "2  0.992297  -0.27258 -0.859500 -1.216964  0.779405 -0.694311 -0.365410   \n",
       "3 -1.187437  -0.27258  0.406697  0.010755 -0.970980  1.299414 -0.948264   \n",
       "4  1.225840  -0.27258  1.672893 -1.216964  1.479559  0.302552 -0.365410   \n",
       "\n",
       "     MGODOV    MGODGE    MRELGE  ...   ALEVEN  APERSONG   AGEZONG  AWAOREG   \n",
       "0 -0.068711 -0.161816  0.427670  ... -0.20291 -0.073165 -0.081055 -0.05992  \\\n",
       "1 -0.068711  0.464159 -0.096077  ... -0.20291 -0.073165 -0.081055 -0.05992   \n",
       "2  0.914172  0.464159 -1.667319  ... -0.20291 -0.073165 -0.081055 -0.05992   \n",
       "3  0.914172  0.464159 -0.619824  ... -0.20291 -0.073165 -0.081055 -0.05992   \n",
       "4 -0.068711  0.464159  0.427670  ... -0.20291 -0.073165 -0.081055 -0.05992   \n",
       "\n",
       "     ABRAND   AZEILPL  APLEZIER   AFIETS   AINBOED  ABYSTAND  \n",
       "0  0.764971 -0.022706  -0.07365 -0.15062 -0.087348 -0.118816  \n",
       "1  0.764971 -0.022706  -0.07365 -0.15062 -0.087348 -0.118816  \n",
       "2  0.764971 -0.022706  -0.07365 -0.15062 -0.087348 -0.118816  \n",
       "3  0.764971 -0.022706  -0.07365 -0.15062 -0.087348 -0.118816  \n",
       "4  0.764971 -0.022706  -0.07365 -0.15062 -0.087348 -0.118816  \n",
       "\n",
       "[5 rows x 85 columns]"
      ]
     },
     "execution_count": 131,
     "metadata": {},
     "output_type": "execute_result"
    }
   ],
   "source": [
    "# Convert standardised features to DataFrame\n",
    "feature_std = pd.DataFrame(X_std, columns=feature_df.columns)\n",
    "feature_std.head()"
   ]
  },
  {
   "cell_type": "code",
   "execution_count": 139,
   "metadata": {},
   "outputs": [
    {
     "data": {
      "text/html": [
       "<div>\n",
       "<style scoped>\n",
       "    .dataframe tbody tr th:only-of-type {\n",
       "        vertical-align: middle;\n",
       "    }\n",
       "\n",
       "    .dataframe tbody tr th {\n",
       "        vertical-align: top;\n",
       "    }\n",
       "\n",
       "    .dataframe thead th {\n",
       "        text-align: right;\n",
       "    }\n",
       "</style>\n",
       "<table border=\"1\" class=\"dataframe\">\n",
       "  <thead>\n",
       "    <tr style=\"text-align: right;\">\n",
       "      <th></th>\n",
       "      <th>MOSTYPE</th>\n",
       "      <th>MAANTHUI</th>\n",
       "      <th>MGEMOMV</th>\n",
       "      <th>MGEMLEEF</th>\n",
       "      <th>MOSHOOFD</th>\n",
       "      <th>MGODRK</th>\n",
       "      <th>MGODPR</th>\n",
       "      <th>MGODOV</th>\n",
       "      <th>MGODGE</th>\n",
       "      <th>MRELGE</th>\n",
       "      <th>...</th>\n",
       "      <th>ALEVEN</th>\n",
       "      <th>APERSONG</th>\n",
       "      <th>AGEZONG</th>\n",
       "      <th>AWAOREG</th>\n",
       "      <th>ABRAND</th>\n",
       "      <th>AZEILPL</th>\n",
       "      <th>APLEZIER</th>\n",
       "      <th>AFIETS</th>\n",
       "      <th>AINBOED</th>\n",
       "      <th>ABYSTAND</th>\n",
       "    </tr>\n",
       "  </thead>\n",
       "  <tbody>\n",
       "    <tr>\n",
       "      <th>count</th>\n",
       "      <td>5.822000e+03</td>\n",
       "      <td>5.822000e+03</td>\n",
       "      <td>5.822000e+03</td>\n",
       "      <td>5.822000e+03</td>\n",
       "      <td>5.822000e+03</td>\n",
       "      <td>5.822000e+03</td>\n",
       "      <td>5.822000e+03</td>\n",
       "      <td>5.822000e+03</td>\n",
       "      <td>5.822000e+03</td>\n",
       "      <td>5.822000e+03</td>\n",
       "      <td>...</td>\n",
       "      <td>5.822000e+03</td>\n",
       "      <td>5.822000e+03</td>\n",
       "      <td>5.822000e+03</td>\n",
       "      <td>5.822000e+03</td>\n",
       "      <td>5.822000e+03</td>\n",
       "      <td>5.822000e+03</td>\n",
       "      <td>5.822000e+03</td>\n",
       "      <td>5822.000000</td>\n",
       "      <td>5.822000e+03</td>\n",
       "      <td>5.822000e+03</td>\n",
       "    </tr>\n",
       "    <tr>\n",
       "      <th>mean</th>\n",
       "      <td>-7.749822e-17</td>\n",
       "      <td>-1.614038e-16</td>\n",
       "      <td>-2.099164e-16</td>\n",
       "      <td>2.154084e-16</td>\n",
       "      <td>-2.929067e-17</td>\n",
       "      <td>-1.220444e-17</td>\n",
       "      <td>7.932889e-17</td>\n",
       "      <td>-1.403511e-17</td>\n",
       "      <td>9.519466e-17</td>\n",
       "      <td>-1.476738e-16</td>\n",
       "      <td>...</td>\n",
       "      <td>-4.515644e-17</td>\n",
       "      <td>2.379867e-17</td>\n",
       "      <td>1.464533e-17</td>\n",
       "      <td>9.763555e-18</td>\n",
       "      <td>-1.183831e-16</td>\n",
       "      <td>-6.102222e-19</td>\n",
       "      <td>-1.830667e-18</td>\n",
       "      <td>0.000000</td>\n",
       "      <td>3.905422e-17</td>\n",
       "      <td>3.356222e-18</td>\n",
       "    </tr>\n",
       "    <tr>\n",
       "      <th>std</th>\n",
       "      <td>1.000086e+00</td>\n",
       "      <td>1.000086e+00</td>\n",
       "      <td>1.000086e+00</td>\n",
       "      <td>1.000086e+00</td>\n",
       "      <td>1.000086e+00</td>\n",
       "      <td>1.000086e+00</td>\n",
       "      <td>1.000086e+00</td>\n",
       "      <td>1.000086e+00</td>\n",
       "      <td>1.000086e+00</td>\n",
       "      <td>1.000086e+00</td>\n",
       "      <td>...</td>\n",
       "      <td>1.000086e+00</td>\n",
       "      <td>1.000086e+00</td>\n",
       "      <td>1.000086e+00</td>\n",
       "      <td>1.000086e+00</td>\n",
       "      <td>1.000086e+00</td>\n",
       "      <td>1.000086e+00</td>\n",
       "      <td>1.000086e+00</td>\n",
       "      <td>1.000086</td>\n",
       "      <td>1.000086e+00</td>\n",
       "      <td>1.000086e+00</td>\n",
       "    </tr>\n",
       "    <tr>\n",
       "      <th>min</th>\n",
       "      <td>-1.810219e+00</td>\n",
       "      <td>-2.725800e-01</td>\n",
       "      <td>-2.125697e+00</td>\n",
       "      <td>-2.444683e+00</td>\n",
       "      <td>-1.671134e+00</td>\n",
       "      <td>-6.943106e-01</td>\n",
       "      <td>-2.696827e+00</td>\n",
       "      <td>-1.051594e+00</td>\n",
       "      <td>-2.039739e+00</td>\n",
       "      <td>-3.238560e+00</td>\n",
       "      <td>...</td>\n",
       "      <td>-2.029099e-01</td>\n",
       "      <td>-7.316512e-02</td>\n",
       "      <td>-8.105460e-02</td>\n",
       "      <td>-5.992001e-02</td>\n",
       "      <td>-1.014358e+00</td>\n",
       "      <td>-2.270578e-02</td>\n",
       "      <td>-7.365027e-02</td>\n",
       "      <td>-0.150620</td>\n",
       "      <td>-8.734772e-02</td>\n",
       "      <td>-1.188165e-01</td>\n",
       "    </tr>\n",
       "    <tr>\n",
       "      <th>25%</th>\n",
       "      <td>-1.109590e+00</td>\n",
       "      <td>-2.725800e-01</td>\n",
       "      <td>-8.595001e-01</td>\n",
       "      <td>-1.216964e+00</td>\n",
       "      <td>-9.709796e-01</td>\n",
       "      <td>-6.943106e-01</td>\n",
       "      <td>-3.654101e-01</td>\n",
       "      <td>-1.051594e+00</td>\n",
       "      <td>-7.877902e-01</td>\n",
       "      <td>-6.198244e-01</td>\n",
       "      <td>...</td>\n",
       "      <td>-2.029099e-01</td>\n",
       "      <td>-7.316512e-02</td>\n",
       "      <td>-8.105460e-02</td>\n",
       "      <td>-5.992001e-02</td>\n",
       "      <td>-1.014358e+00</td>\n",
       "      <td>-2.270578e-02</td>\n",
       "      <td>-7.365027e-02</td>\n",
       "      <td>-0.150620</td>\n",
       "      <td>-8.734772e-02</td>\n",
       "      <td>-1.188165e-01</td>\n",
       "    </tr>\n",
       "    <tr>\n",
       "      <th>50%</th>\n",
       "      <td>4.473633e-01</td>\n",
       "      <td>-2.725800e-01</td>\n",
       "      <td>4.066966e-01</td>\n",
       "      <td>1.075466e-02</td>\n",
       "      <td>4.293284e-01</td>\n",
       "      <td>-6.943106e-01</td>\n",
       "      <td>2.174440e-01</td>\n",
       "      <td>-6.871064e-02</td>\n",
       "      <td>-1.618158e-01</td>\n",
       "      <td>-9.607727e-02</td>\n",
       "      <td>...</td>\n",
       "      <td>-2.029099e-01</td>\n",
       "      <td>-7.316512e-02</td>\n",
       "      <td>-8.105460e-02</td>\n",
       "      <td>-5.992001e-02</td>\n",
       "      <td>7.649707e-01</td>\n",
       "      <td>-2.270578e-02</td>\n",
       "      <td>-7.365027e-02</td>\n",
       "      <td>-0.150620</td>\n",
       "      <td>-8.734772e-02</td>\n",
       "      <td>-1.188165e-01</td>\n",
       "    </tr>\n",
       "    <tr>\n",
       "      <th>75%</th>\n",
       "      <td>8.366015e-01</td>\n",
       "      <td>-2.725800e-01</td>\n",
       "      <td>4.066966e-01</td>\n",
       "      <td>1.075466e-02</td>\n",
       "      <td>7.794054e-01</td>\n",
       "      <td>3.025516e-01</td>\n",
       "      <td>8.002982e-01</td>\n",
       "      <td>9.141723e-01</td>\n",
       "      <td>4.641586e-01</td>\n",
       "      <td>4.276698e-01</td>\n",
       "      <td>...</td>\n",
       "      <td>-2.029099e-01</td>\n",
       "      <td>-7.316512e-02</td>\n",
       "      <td>-8.105460e-02</td>\n",
       "      <td>-5.992001e-02</td>\n",
       "      <td>7.649707e-01</td>\n",
       "      <td>-2.270578e-02</td>\n",
       "      <td>-7.365027e-02</td>\n",
       "      <td>-0.150620</td>\n",
       "      <td>-8.734772e-02</td>\n",
       "      <td>-1.188165e-01</td>\n",
       "    </tr>\n",
       "    <tr>\n",
       "      <th>max</th>\n",
       "      <td>1.303687e+00</td>\n",
       "      <td>2.190544e+01</td>\n",
       "      <td>2.939090e+00</td>\n",
       "      <td>3.693911e+00</td>\n",
       "      <td>1.479559e+00</td>\n",
       "      <td>8.277450e+00</td>\n",
       "      <td>2.548861e+00</td>\n",
       "      <td>3.862821e+00</td>\n",
       "      <td>3.594031e+00</td>\n",
       "      <td>1.475164e+00</td>\n",
       "      <td>...</td>\n",
       "      <td>2.098707e+01</td>\n",
       "      <td>1.366772e+01</td>\n",
       "      <td>1.233736e+01</td>\n",
       "      <td>2.578114e+01</td>\n",
       "      <td>1.144094e+01</td>\n",
       "      <td>4.404165e+01</td>\n",
       "      <td>2.442874e+01</td>\n",
       "      <td>14.069579</td>\n",
       "      <td>2.202302e+01</td>\n",
       "      <td>1.654985e+01</td>\n",
       "    </tr>\n",
       "  </tbody>\n",
       "</table>\n",
       "<p>8 rows × 85 columns</p>\n",
       "</div>"
      ],
      "text/plain": [
       "            MOSTYPE      MAANTHUI       MGEMOMV      MGEMLEEF      MOSHOOFD   \n",
       "count  5.822000e+03  5.822000e+03  5.822000e+03  5.822000e+03  5.822000e+03  \\\n",
       "mean  -7.749822e-17 -1.614038e-16 -2.099164e-16  2.154084e-16 -2.929067e-17   \n",
       "std    1.000086e+00  1.000086e+00  1.000086e+00  1.000086e+00  1.000086e+00   \n",
       "min   -1.810219e+00 -2.725800e-01 -2.125697e+00 -2.444683e+00 -1.671134e+00   \n",
       "25%   -1.109590e+00 -2.725800e-01 -8.595001e-01 -1.216964e+00 -9.709796e-01   \n",
       "50%    4.473633e-01 -2.725800e-01  4.066966e-01  1.075466e-02  4.293284e-01   \n",
       "75%    8.366015e-01 -2.725800e-01  4.066966e-01  1.075466e-02  7.794054e-01   \n",
       "max    1.303687e+00  2.190544e+01  2.939090e+00  3.693911e+00  1.479559e+00   \n",
       "\n",
       "             MGODRK        MGODPR        MGODOV        MGODGE        MRELGE   \n",
       "count  5.822000e+03  5.822000e+03  5.822000e+03  5.822000e+03  5.822000e+03  \\\n",
       "mean  -1.220444e-17  7.932889e-17 -1.403511e-17  9.519466e-17 -1.476738e-16   \n",
       "std    1.000086e+00  1.000086e+00  1.000086e+00  1.000086e+00  1.000086e+00   \n",
       "min   -6.943106e-01 -2.696827e+00 -1.051594e+00 -2.039739e+00 -3.238560e+00   \n",
       "25%   -6.943106e-01 -3.654101e-01 -1.051594e+00 -7.877902e-01 -6.198244e-01   \n",
       "50%   -6.943106e-01  2.174440e-01 -6.871064e-02 -1.618158e-01 -9.607727e-02   \n",
       "75%    3.025516e-01  8.002982e-01  9.141723e-01  4.641586e-01  4.276698e-01   \n",
       "max    8.277450e+00  2.548861e+00  3.862821e+00  3.594031e+00  1.475164e+00   \n",
       "\n",
       "       ...        ALEVEN      APERSONG       AGEZONG       AWAOREG   \n",
       "count  ...  5.822000e+03  5.822000e+03  5.822000e+03  5.822000e+03  \\\n",
       "mean   ... -4.515644e-17  2.379867e-17  1.464533e-17  9.763555e-18   \n",
       "std    ...  1.000086e+00  1.000086e+00  1.000086e+00  1.000086e+00   \n",
       "min    ... -2.029099e-01 -7.316512e-02 -8.105460e-02 -5.992001e-02   \n",
       "25%    ... -2.029099e-01 -7.316512e-02 -8.105460e-02 -5.992001e-02   \n",
       "50%    ... -2.029099e-01 -7.316512e-02 -8.105460e-02 -5.992001e-02   \n",
       "75%    ... -2.029099e-01 -7.316512e-02 -8.105460e-02 -5.992001e-02   \n",
       "max    ...  2.098707e+01  1.366772e+01  1.233736e+01  2.578114e+01   \n",
       "\n",
       "             ABRAND       AZEILPL      APLEZIER       AFIETS       AINBOED   \n",
       "count  5.822000e+03  5.822000e+03  5.822000e+03  5822.000000  5.822000e+03  \\\n",
       "mean  -1.183831e-16 -6.102222e-19 -1.830667e-18     0.000000  3.905422e-17   \n",
       "std    1.000086e+00  1.000086e+00  1.000086e+00     1.000086  1.000086e+00   \n",
       "min   -1.014358e+00 -2.270578e-02 -7.365027e-02    -0.150620 -8.734772e-02   \n",
       "25%   -1.014358e+00 -2.270578e-02 -7.365027e-02    -0.150620 -8.734772e-02   \n",
       "50%    7.649707e-01 -2.270578e-02 -7.365027e-02    -0.150620 -8.734772e-02   \n",
       "75%    7.649707e-01 -2.270578e-02 -7.365027e-02    -0.150620 -8.734772e-02   \n",
       "max    1.144094e+01  4.404165e+01  2.442874e+01    14.069579  2.202302e+01   \n",
       "\n",
       "           ABYSTAND  \n",
       "count  5.822000e+03  \n",
       "mean   3.356222e-18  \n",
       "std    1.000086e+00  \n",
       "min   -1.188165e-01  \n",
       "25%   -1.188165e-01  \n",
       "50%   -1.188165e-01  \n",
       "75%   -1.188165e-01  \n",
       "max    1.654985e+01  \n",
       "\n",
       "[8 rows x 85 columns]"
      ]
     },
     "execution_count": 139,
     "metadata": {},
     "output_type": "execute_result"
    }
   ],
   "source": [
    "feature_std.describe()"
   ]
  },
  {
   "cell_type": "markdown",
   "metadata": {},
   "source": [
    "We use `train-test_split()` tp split observations into a test set containing 1000 observations and a training set containing the rest of the observations.\n",
    "\n",
    "`random_state=0` ensures we get the same split each time we run the code."
   ]
  },
  {
   "cell_type": "code",
   "execution_count": 140,
   "metadata": {},
   "outputs": [],
   "source": [
    "(X_train, X_test, y_train, y_test) = train_test_split(\n",
    "    feature_std,\n",
    "    Purchase,\n",
    "    test_size=1000,\n",
    "    random_state=0\n",
    ")"
   ]
  },
  {
   "cell_type": "markdown",
   "metadata": {},
   "source": [
    "We fit a K = 1 KNN model on the training dataand evaluate its performance on the test data:"
   ]
  },
  {
   "cell_type": "code",
   "execution_count": 141,
   "metadata": {},
   "outputs": [
    {
     "data": {
      "text/plain": [
       "(0.111, 0.067)"
      ]
     },
     "execution_count": 141,
     "metadata": {},
     "output_type": "execute_result"
    }
   ],
   "source": [
    "knn1 = KNeighborsClassifier(n_neighbors=1)\n",
    "knn1_pred = knn1.fit(X_train, y_train).predict(X_test)\n",
    "np.mean(y_test != knn1_pred), np.mean(y_test != \"No\")"
   ]
  },
  {
   "cell_type": "markdown",
   "metadata": {},
   "source": [
    "The error rate is just 11%, however since only just over 6% of customers purchased insurance, we could get the error rate down to almost 6% by predicting \"No\" all the time."
   ]
  },
  {
   "cell_type": "markdown",
   "metadata": {},
   "source": [
    "We see how performance varies as we vary the hyperparameter k, the number of neighbours."
   ]
  },
  {
   "cell_type": "code",
   "execution_count": 144,
   "metadata": {},
   "outputs": [
    {
     "name": "stdout",
     "output_type": "stream",
     "text": [
      "K=1: # predicted to buy: 62, # who did buy 9, accuracy 14.5%\n",
      "K=2: # predicted to buy:  6, # who did buy 1, accuracy 16.7%\n",
      "K=3: # predicted to buy: 20, # who did buy 3, accuracy 15.0%\n",
      "K=4: # predicted to buy:  4, # who did buy 0, accuracy 0.0%\n",
      "K=5: # predicted to buy:  7, # who did buy 1, accuracy 14.3%\n"
     ]
    }
   ],
   "source": [
    "for K in range(1, 6):\n",
    "    knn = KNeighborsClassifier(n_neighbors=K)\n",
    "    knn_pred = knn.fit(X_train, y_train).predict(X_test)\n",
    "    C = confusion_table(knn_pred, y_test)\n",
    "    templ = ('K={0:d}: # predicted to buy: {1:>2},' + ' # who did buy {2:d}, accuracy {3:.1%}')\n",
    "    pred = C.loc['Yes'].sum()\n",
    "    did_rent = C.loc['Yes','Yes']\n",
    "    print(templ.format(K, pred, did_rent, did_rent / pred))"
   ]
  },
  {
   "cell_type": "markdown",
   "metadata": {},
   "source": [
    "#### 4.7.7 Linear and Poisson Regression on the Bikeshare Data\n",
    "\n",
    "However, we may sometimes be faced with situations in which Y is neither qualitative nor quantitative, and so neither linear regression nor classification approaches covered in this chapter is applicable.\n",
    "\n",
    "We fit linear and Poisson regression models to the `Bikeshare` data. The response `bikers` measures the number of bike rentals per hour in Washington DC in the period 2010-2012.\n",
    "\n",
    "This response value is neither qualitative nor quantitative:\n",
    "instead, it takes on non-negative integer values, or _counts_.\n",
    "\n",
    "In the analyses that follow, we will treat `mnth`, `hr`, and `weathersit` as qualitative variables."
   ]
  },
  {
   "cell_type": "code",
   "execution_count": 145,
   "metadata": {},
   "outputs": [],
   "source": [
    "Bike = load_data('Bikeshare')"
   ]
  },
  {
   "cell_type": "code",
   "execution_count": 146,
   "metadata": {},
   "outputs": [
    {
     "data": {
      "text/plain": [
       "(8645, 15)"
      ]
     },
     "execution_count": 146,
     "metadata": {},
     "output_type": "execute_result"
    }
   ],
   "source": [
    "Bike.shape"
   ]
  },
  {
   "cell_type": "code",
   "execution_count": 149,
   "metadata": {},
   "outputs": [
    {
     "data": {
      "text/html": [
       "<div>\n",
       "<style scoped>\n",
       "    .dataframe tbody tr th:only-of-type {\n",
       "        vertical-align: middle;\n",
       "    }\n",
       "\n",
       "    .dataframe tbody tr th {\n",
       "        vertical-align: top;\n",
       "    }\n",
       "\n",
       "    .dataframe thead th {\n",
       "        text-align: right;\n",
       "    }\n",
       "</style>\n",
       "<table border=\"1\" class=\"dataframe\">\n",
       "  <thead>\n",
       "    <tr style=\"text-align: right;\">\n",
       "      <th></th>\n",
       "      <th>season</th>\n",
       "      <th>mnth</th>\n",
       "      <th>day</th>\n",
       "      <th>hr</th>\n",
       "      <th>holiday</th>\n",
       "      <th>weekday</th>\n",
       "      <th>workingday</th>\n",
       "      <th>weathersit</th>\n",
       "      <th>temp</th>\n",
       "      <th>atemp</th>\n",
       "      <th>hum</th>\n",
       "      <th>windspeed</th>\n",
       "      <th>casual</th>\n",
       "      <th>registered</th>\n",
       "      <th>bikers</th>\n",
       "    </tr>\n",
       "  </thead>\n",
       "  <tbody>\n",
       "    <tr>\n",
       "      <th>0</th>\n",
       "      <td>1</td>\n",
       "      <td>Jan</td>\n",
       "      <td>1</td>\n",
       "      <td>0</td>\n",
       "      <td>0</td>\n",
       "      <td>6</td>\n",
       "      <td>0</td>\n",
       "      <td>clear</td>\n",
       "      <td>0.24</td>\n",
       "      <td>0.2879</td>\n",
       "      <td>0.81</td>\n",
       "      <td>0.0</td>\n",
       "      <td>3</td>\n",
       "      <td>13</td>\n",
       "      <td>16</td>\n",
       "    </tr>\n",
       "    <tr>\n",
       "      <th>1</th>\n",
       "      <td>1</td>\n",
       "      <td>Jan</td>\n",
       "      <td>1</td>\n",
       "      <td>1</td>\n",
       "      <td>0</td>\n",
       "      <td>6</td>\n",
       "      <td>0</td>\n",
       "      <td>clear</td>\n",
       "      <td>0.22</td>\n",
       "      <td>0.2727</td>\n",
       "      <td>0.80</td>\n",
       "      <td>0.0</td>\n",
       "      <td>8</td>\n",
       "      <td>32</td>\n",
       "      <td>40</td>\n",
       "    </tr>\n",
       "    <tr>\n",
       "      <th>2</th>\n",
       "      <td>1</td>\n",
       "      <td>Jan</td>\n",
       "      <td>1</td>\n",
       "      <td>2</td>\n",
       "      <td>0</td>\n",
       "      <td>6</td>\n",
       "      <td>0</td>\n",
       "      <td>clear</td>\n",
       "      <td>0.22</td>\n",
       "      <td>0.2727</td>\n",
       "      <td>0.80</td>\n",
       "      <td>0.0</td>\n",
       "      <td>5</td>\n",
       "      <td>27</td>\n",
       "      <td>32</td>\n",
       "    </tr>\n",
       "    <tr>\n",
       "      <th>3</th>\n",
       "      <td>1</td>\n",
       "      <td>Jan</td>\n",
       "      <td>1</td>\n",
       "      <td>3</td>\n",
       "      <td>0</td>\n",
       "      <td>6</td>\n",
       "      <td>0</td>\n",
       "      <td>clear</td>\n",
       "      <td>0.24</td>\n",
       "      <td>0.2879</td>\n",
       "      <td>0.75</td>\n",
       "      <td>0.0</td>\n",
       "      <td>3</td>\n",
       "      <td>10</td>\n",
       "      <td>13</td>\n",
       "    </tr>\n",
       "    <tr>\n",
       "      <th>4</th>\n",
       "      <td>1</td>\n",
       "      <td>Jan</td>\n",
       "      <td>1</td>\n",
       "      <td>4</td>\n",
       "      <td>0</td>\n",
       "      <td>6</td>\n",
       "      <td>0</td>\n",
       "      <td>clear</td>\n",
       "      <td>0.24</td>\n",
       "      <td>0.2879</td>\n",
       "      <td>0.75</td>\n",
       "      <td>0.0</td>\n",
       "      <td>0</td>\n",
       "      <td>1</td>\n",
       "      <td>1</td>\n",
       "    </tr>\n",
       "  </tbody>\n",
       "</table>\n",
       "</div>"
      ],
      "text/plain": [
       "   season mnth  day hr  holiday  weekday  workingday weathersit  temp   atemp   \n",
       "0       1  Jan    1  0        0        6           0      clear  0.24  0.2879  \\\n",
       "1       1  Jan    1  1        0        6           0      clear  0.22  0.2727   \n",
       "2       1  Jan    1  2        0        6           0      clear  0.22  0.2727   \n",
       "3       1  Jan    1  3        0        6           0      clear  0.24  0.2879   \n",
       "4       1  Jan    1  4        0        6           0      clear  0.24  0.2879   \n",
       "\n",
       "    hum  windspeed  casual  registered  bikers  \n",
       "0  0.81        0.0       3          13      16  \n",
       "1  0.80        0.0       8          32      40  \n",
       "2  0.80        0.0       5          27      32  \n",
       "3  0.75        0.0       3          10      13  \n",
       "4  0.75        0.0       0           1       1  "
      ]
     },
     "execution_count": 149,
     "metadata": {},
     "output_type": "execute_result"
    }
   ],
   "source": [
    "Bike.head()"
   ]
  },
  {
   "cell_type": "markdown",
   "metadata": {},
   "source": [
    "first, we fit a linear regression model to the data."
   ]
  },
  {
   "cell_type": "code",
   "execution_count": 150,
   "metadata": {},
   "outputs": [
    {
     "data": {
      "text/html": [
       "<table class=\"simpletable\">\n",
       "<caption>OLS Regression Results</caption>\n",
       "<tr>\n",
       "  <th>Dep. Variable:</th>         <td>bikers</td>      <th>  R-squared:         </th> <td>   0.675</td> \n",
       "</tr>\n",
       "<tr>\n",
       "  <th>Model:</th>                   <td>OLS</td>       <th>  Adj. R-squared:    </th> <td>   0.673</td> \n",
       "</tr>\n",
       "<tr>\n",
       "  <th>Method:</th>             <td>Least Squares</td>  <th>  F-statistic:       </th> <td>   457.3</td> \n",
       "</tr>\n",
       "<tr>\n",
       "  <th>Date:</th>             <td>Sun, 20 Aug 2023</td> <th>  Prob (F-statistic):</th>  <td>  0.00</td>  \n",
       "</tr>\n",
       "<tr>\n",
       "  <th>Time:</th>                 <td>09:30:30</td>     <th>  Log-Likelihood:    </th> <td> -49743.</td> \n",
       "</tr>\n",
       "<tr>\n",
       "  <th>No. Observations:</th>      <td>  8645</td>      <th>  AIC:               </th> <td>9.957e+04</td>\n",
       "</tr>\n",
       "<tr>\n",
       "  <th>Df Residuals:</th>          <td>  8605</td>      <th>  BIC:               </th> <td>9.985e+04</td>\n",
       "</tr>\n",
       "<tr>\n",
       "  <th>Df Model:</th>              <td>    39</td>      <th>                     </th>     <td> </td>    \n",
       "</tr>\n",
       "<tr>\n",
       "  <th>Covariance Type:</th>      <td>nonrobust</td>    <th>                     </th>     <td> </td>    \n",
       "</tr>\n",
       "</table>\n",
       "<table class=\"simpletable\">\n",
       "<tr>\n",
       "               <td></td>                  <th>coef</th>     <th>std err</th>      <th>t</th>      <th>P>|t|</th>  <th>[0.025</th>    <th>0.975]</th>  \n",
       "</tr>\n",
       "<tr>\n",
       "  <th>intercept</th>                   <td>  -27.2068</td> <td>    6.715</td> <td>   -4.052</td> <td> 0.000</td> <td>  -40.370</td> <td>  -14.044</td>\n",
       "</tr>\n",
       "<tr>\n",
       "  <th>mnth[Aug]</th>                   <td>   11.8181</td> <td>    4.698</td> <td>    2.515</td> <td> 0.012</td> <td>    2.609</td> <td>   21.028</td>\n",
       "</tr>\n",
       "<tr>\n",
       "  <th>mnth[Dec]</th>                   <td>    5.0328</td> <td>    4.280</td> <td>    1.176</td> <td> 0.240</td> <td>   -3.357</td> <td>   13.423</td>\n",
       "</tr>\n",
       "<tr>\n",
       "  <th>mnth[Feb]</th>                   <td>  -34.5797</td> <td>    4.575</td> <td>   -7.558</td> <td> 0.000</td> <td>  -43.548</td> <td>  -25.611</td>\n",
       "</tr>\n",
       "<tr>\n",
       "  <th>mnth[Jan]</th>                   <td>  -41.4249</td> <td>    4.972</td> <td>   -8.331</td> <td> 0.000</td> <td>  -51.172</td> <td>  -31.678</td>\n",
       "</tr>\n",
       "<tr>\n",
       "  <th>mnth[July]</th>                  <td>    3.8996</td> <td>    5.003</td> <td>    0.779</td> <td> 0.436</td> <td>   -5.907</td> <td>   13.706</td>\n",
       "</tr>\n",
       "<tr>\n",
       "  <th>mnth[June]</th>                  <td>   26.3938</td> <td>    4.642</td> <td>    5.686</td> <td> 0.000</td> <td>   17.294</td> <td>   35.493</td>\n",
       "</tr>\n",
       "<tr>\n",
       "  <th>mnth[March]</th>                 <td>  -24.8735</td> <td>    4.277</td> <td>   -5.815</td> <td> 0.000</td> <td>  -33.258</td> <td>  -16.489</td>\n",
       "</tr>\n",
       "<tr>\n",
       "  <th>mnth[May]</th>                   <td>   31.1322</td> <td>    4.150</td> <td>    7.501</td> <td> 0.000</td> <td>   22.997</td> <td>   39.268</td>\n",
       "</tr>\n",
       "<tr>\n",
       "  <th>mnth[Nov]</th>                   <td>   18.8851</td> <td>    4.099</td> <td>    4.607</td> <td> 0.000</td> <td>   10.850</td> <td>   26.920</td>\n",
       "</tr>\n",
       "<tr>\n",
       "  <th>mnth[Oct]</th>                   <td>   34.4093</td> <td>    4.006</td> <td>    8.589</td> <td> 0.000</td> <td>   26.556</td> <td>   42.262</td>\n",
       "</tr>\n",
       "<tr>\n",
       "  <th>mnth[Sept]</th>                  <td>   25.2534</td> <td>    4.293</td> <td>    5.883</td> <td> 0.000</td> <td>   16.839</td> <td>   33.668</td>\n",
       "</tr>\n",
       "<tr>\n",
       "  <th>hr[1]</th>                       <td>  -14.5793</td> <td>    5.699</td> <td>   -2.558</td> <td> 0.011</td> <td>  -25.750</td> <td>   -3.408</td>\n",
       "</tr>\n",
       "<tr>\n",
       "  <th>hr[2]</th>                       <td>  -21.5791</td> <td>    5.733</td> <td>   -3.764</td> <td> 0.000</td> <td>  -32.817</td> <td>  -10.341</td>\n",
       "</tr>\n",
       "<tr>\n",
       "  <th>hr[3]</th>                       <td>  -31.1408</td> <td>    5.778</td> <td>   -5.389</td> <td> 0.000</td> <td>  -42.468</td> <td>  -19.814</td>\n",
       "</tr>\n",
       "<tr>\n",
       "  <th>hr[4]</th>                       <td>  -36.9075</td> <td>    5.802</td> <td>   -6.361</td> <td> 0.000</td> <td>  -48.281</td> <td>  -25.534</td>\n",
       "</tr>\n",
       "<tr>\n",
       "  <th>hr[5]</th>                       <td>  -24.1355</td> <td>    5.737</td> <td>   -4.207</td> <td> 0.000</td> <td>  -35.381</td> <td>  -12.890</td>\n",
       "</tr>\n",
       "<tr>\n",
       "  <th>hr[6]</th>                       <td>   20.5997</td> <td>    5.704</td> <td>    3.612</td> <td> 0.000</td> <td>    9.419</td> <td>   31.781</td>\n",
       "</tr>\n",
       "<tr>\n",
       "  <th>hr[7]</th>                       <td>  120.0931</td> <td>    5.693</td> <td>   21.095</td> <td> 0.000</td> <td>  108.934</td> <td>  131.253</td>\n",
       "</tr>\n",
       "<tr>\n",
       "  <th>hr[8]</th>                       <td>  223.6619</td> <td>    5.690</td> <td>   39.310</td> <td> 0.000</td> <td>  212.509</td> <td>  234.815</td>\n",
       "</tr>\n",
       "<tr>\n",
       "  <th>hr[9]</th>                       <td>  120.5819</td> <td>    5.693</td> <td>   21.182</td> <td> 0.000</td> <td>  109.423</td> <td>  131.741</td>\n",
       "</tr>\n",
       "<tr>\n",
       "  <th>hr[10]</th>                      <td>   83.8013</td> <td>    5.705</td> <td>   14.689</td> <td> 0.000</td> <td>   72.618</td> <td>   94.985</td>\n",
       "</tr>\n",
       "<tr>\n",
       "  <th>hr[11]</th>                      <td>  105.4234</td> <td>    5.722</td> <td>   18.424</td> <td> 0.000</td> <td>   94.207</td> <td>  116.640</td>\n",
       "</tr>\n",
       "<tr>\n",
       "  <th>hr[12]</th>                      <td>  137.2837</td> <td>    5.740</td> <td>   23.916</td> <td> 0.000</td> <td>  126.032</td> <td>  148.536</td>\n",
       "</tr>\n",
       "<tr>\n",
       "  <th>hr[13]</th>                      <td>  136.0359</td> <td>    5.760</td> <td>   23.617</td> <td> 0.000</td> <td>  124.745</td> <td>  147.327</td>\n",
       "</tr>\n",
       "<tr>\n",
       "  <th>hr[14]</th>                      <td>  126.6361</td> <td>    5.776</td> <td>   21.923</td> <td> 0.000</td> <td>  115.313</td> <td>  137.959</td>\n",
       "</tr>\n",
       "<tr>\n",
       "  <th>hr[15]</th>                      <td>  132.0865</td> <td>    5.780</td> <td>   22.852</td> <td> 0.000</td> <td>  120.756</td> <td>  143.417</td>\n",
       "</tr>\n",
       "<tr>\n",
       "  <th>hr[16]</th>                      <td>  178.5206</td> <td>    5.772</td> <td>   30.927</td> <td> 0.000</td> <td>  167.206</td> <td>  189.836</td>\n",
       "</tr>\n",
       "<tr>\n",
       "  <th>hr[17]</th>                      <td>  296.2670</td> <td>    5.749</td> <td>   51.537</td> <td> 0.000</td> <td>  284.998</td> <td>  307.536</td>\n",
       "</tr>\n",
       "<tr>\n",
       "  <th>hr[18]</th>                      <td>  269.4409</td> <td>    5.736</td> <td>   46.976</td> <td> 0.000</td> <td>  258.198</td> <td>  280.684</td>\n",
       "</tr>\n",
       "<tr>\n",
       "  <th>hr[19]</th>                      <td>  186.2558</td> <td>    5.714</td> <td>   32.596</td> <td> 0.000</td> <td>  175.055</td> <td>  197.457</td>\n",
       "</tr>\n",
       "<tr>\n",
       "  <th>hr[20]</th>                      <td>  125.5492</td> <td>    5.704</td> <td>   22.012</td> <td> 0.000</td> <td>  114.369</td> <td>  136.730</td>\n",
       "</tr>\n",
       "<tr>\n",
       "  <th>hr[21]</th>                      <td>   87.5537</td> <td>    5.693</td> <td>   15.378</td> <td> 0.000</td> <td>   76.393</td> <td>   98.714</td>\n",
       "</tr>\n",
       "<tr>\n",
       "  <th>hr[22]</th>                      <td>   59.1226</td> <td>    5.689</td> <td>   10.392</td> <td> 0.000</td> <td>   47.970</td> <td>   70.275</td>\n",
       "</tr>\n",
       "<tr>\n",
       "  <th>hr[23]</th>                      <td>   26.8376</td> <td>    5.688</td> <td>    4.719</td> <td> 0.000</td> <td>   15.688</td> <td>   37.987</td>\n",
       "</tr>\n",
       "<tr>\n",
       "  <th>workingday</th>                  <td>    1.2696</td> <td>    1.784</td> <td>    0.711</td> <td> 0.477</td> <td>   -2.228</td> <td>    4.768</td>\n",
       "</tr>\n",
       "<tr>\n",
       "  <th>temp</th>                        <td>  157.2094</td> <td>   10.261</td> <td>   15.321</td> <td> 0.000</td> <td>  137.095</td> <td>  177.324</td>\n",
       "</tr>\n",
       "<tr>\n",
       "  <th>weathersit[cloudy/misty]</th>    <td>  -12.8903</td> <td>    1.964</td> <td>   -6.562</td> <td> 0.000</td> <td>  -16.741</td> <td>   -9.040</td>\n",
       "</tr>\n",
       "<tr>\n",
       "  <th>weathersit[heavy rain/snow]</th> <td> -109.7446</td> <td>   76.667</td> <td>   -1.431</td> <td> 0.152</td> <td> -260.031</td> <td>   40.542</td>\n",
       "</tr>\n",
       "<tr>\n",
       "  <th>weathersit[light rain/snow]</th> <td>  -66.4944</td> <td>    2.965</td> <td>  -22.425</td> <td> 0.000</td> <td>  -72.307</td> <td>  -60.682</td>\n",
       "</tr>\n",
       "</table>\n",
       "<table class=\"simpletable\">\n",
       "<tr>\n",
       "  <th>Omnibus:</th>       <td>288.526</td> <th>  Durbin-Watson:     </th> <td>   0.519</td> \n",
       "</tr>\n",
       "<tr>\n",
       "  <th>Prob(Omnibus):</th> <td> 0.000</td>  <th>  Jarque-Bera (JB):  </th> <td> 518.512</td> \n",
       "</tr>\n",
       "<tr>\n",
       "  <th>Skew:</th>          <td> 0.273</td>  <th>  Prob(JB):          </th> <td>2.55e-113</td>\n",
       "</tr>\n",
       "<tr>\n",
       "  <th>Kurtosis:</th>      <td> 4.068</td>  <th>  Cond. No.          </th> <td>    131.</td> \n",
       "</tr>\n",
       "</table><br/><br/>Notes:<br/>[1] Standard Errors assume that the covariance matrix of the errors is correctly specified."
      ],
      "text/latex": [
       "\\begin{center}\n",
       "\\begin{tabular}{lclc}\n",
       "\\toprule\n",
       "\\textbf{Dep. Variable:}              &      bikers      & \\textbf{  R-squared:         } &     0.675   \\\\\n",
       "\\textbf{Model:}                      &       OLS        & \\textbf{  Adj. R-squared:    } &     0.673   \\\\\n",
       "\\textbf{Method:}                     &  Least Squares   & \\textbf{  F-statistic:       } &     457.3   \\\\\n",
       "\\textbf{Date:}                       & Sun, 20 Aug 2023 & \\textbf{  Prob (F-statistic):} &     0.00    \\\\\n",
       "\\textbf{Time:}                       &     09:30:30     & \\textbf{  Log-Likelihood:    } &   -49743.   \\\\\n",
       "\\textbf{No. Observations:}           &        8645      & \\textbf{  AIC:               } & 9.957e+04   \\\\\n",
       "\\textbf{Df Residuals:}               &        8605      & \\textbf{  BIC:               } & 9.985e+04   \\\\\n",
       "\\textbf{Df Model:}                   &          39      & \\textbf{                     } &             \\\\\n",
       "\\textbf{Covariance Type:}            &    nonrobust     & \\textbf{                     } &             \\\\\n",
       "\\bottomrule\n",
       "\\end{tabular}\n",
       "\\begin{tabular}{lcccccc}\n",
       "                                     & \\textbf{coef} & \\textbf{std err} & \\textbf{t} & \\textbf{P$> |$t$|$} & \\textbf{[0.025} & \\textbf{0.975]}  \\\\\n",
       "\\midrule\n",
       "\\textbf{intercept}                   &     -27.2068  &        6.715     &    -4.052  &         0.000        &      -40.370    &      -14.044     \\\\\n",
       "\\textbf{mnth[Aug]}                   &      11.8181  &        4.698     &     2.515  &         0.012        &        2.609    &       21.028     \\\\\n",
       "\\textbf{mnth[Dec]}                   &       5.0328  &        4.280     &     1.176  &         0.240        &       -3.357    &       13.423     \\\\\n",
       "\\textbf{mnth[Feb]}                   &     -34.5797  &        4.575     &    -7.558  &         0.000        &      -43.548    &      -25.611     \\\\\n",
       "\\textbf{mnth[Jan]}                   &     -41.4249  &        4.972     &    -8.331  &         0.000        &      -51.172    &      -31.678     \\\\\n",
       "\\textbf{mnth[July]}                  &       3.8996  &        5.003     &     0.779  &         0.436        &       -5.907    &       13.706     \\\\\n",
       "\\textbf{mnth[June]}                  &      26.3938  &        4.642     &     5.686  &         0.000        &       17.294    &       35.493     \\\\\n",
       "\\textbf{mnth[March]}                 &     -24.8735  &        4.277     &    -5.815  &         0.000        &      -33.258    &      -16.489     \\\\\n",
       "\\textbf{mnth[May]}                   &      31.1322  &        4.150     &     7.501  &         0.000        &       22.997    &       39.268     \\\\\n",
       "\\textbf{mnth[Nov]}                   &      18.8851  &        4.099     &     4.607  &         0.000        &       10.850    &       26.920     \\\\\n",
       "\\textbf{mnth[Oct]}                   &      34.4093  &        4.006     &     8.589  &         0.000        &       26.556    &       42.262     \\\\\n",
       "\\textbf{mnth[Sept]}                  &      25.2534  &        4.293     &     5.883  &         0.000        &       16.839    &       33.668     \\\\\n",
       "\\textbf{hr[1]}                       &     -14.5793  &        5.699     &    -2.558  &         0.011        &      -25.750    &       -3.408     \\\\\n",
       "\\textbf{hr[2]}                       &     -21.5791  &        5.733     &    -3.764  &         0.000        &      -32.817    &      -10.341     \\\\\n",
       "\\textbf{hr[3]}                       &     -31.1408  &        5.778     &    -5.389  &         0.000        &      -42.468    &      -19.814     \\\\\n",
       "\\textbf{hr[4]}                       &     -36.9075  &        5.802     &    -6.361  &         0.000        &      -48.281    &      -25.534     \\\\\n",
       "\\textbf{hr[5]}                       &     -24.1355  &        5.737     &    -4.207  &         0.000        &      -35.381    &      -12.890     \\\\\n",
       "\\textbf{hr[6]}                       &      20.5997  &        5.704     &     3.612  &         0.000        &        9.419    &       31.781     \\\\\n",
       "\\textbf{hr[7]}                       &     120.0931  &        5.693     &    21.095  &         0.000        &      108.934    &      131.253     \\\\\n",
       "\\textbf{hr[8]}                       &     223.6619  &        5.690     &    39.310  &         0.000        &      212.509    &      234.815     \\\\\n",
       "\\textbf{hr[9]}                       &     120.5819  &        5.693     &    21.182  &         0.000        &      109.423    &      131.741     \\\\\n",
       "\\textbf{hr[10]}                      &      83.8013  &        5.705     &    14.689  &         0.000        &       72.618    &       94.985     \\\\\n",
       "\\textbf{hr[11]}                      &     105.4234  &        5.722     &    18.424  &         0.000        &       94.207    &      116.640     \\\\\n",
       "\\textbf{hr[12]}                      &     137.2837  &        5.740     &    23.916  &         0.000        &      126.032    &      148.536     \\\\\n",
       "\\textbf{hr[13]}                      &     136.0359  &        5.760     &    23.617  &         0.000        &      124.745    &      147.327     \\\\\n",
       "\\textbf{hr[14]}                      &     126.6361  &        5.776     &    21.923  &         0.000        &      115.313    &      137.959     \\\\\n",
       "\\textbf{hr[15]}                      &     132.0865  &        5.780     &    22.852  &         0.000        &      120.756    &      143.417     \\\\\n",
       "\\textbf{hr[16]}                      &     178.5206  &        5.772     &    30.927  &         0.000        &      167.206    &      189.836     \\\\\n",
       "\\textbf{hr[17]}                      &     296.2670  &        5.749     &    51.537  &         0.000        &      284.998    &      307.536     \\\\\n",
       "\\textbf{hr[18]}                      &     269.4409  &        5.736     &    46.976  &         0.000        &      258.198    &      280.684     \\\\\n",
       "\\textbf{hr[19]}                      &     186.2558  &        5.714     &    32.596  &         0.000        &      175.055    &      197.457     \\\\\n",
       "\\textbf{hr[20]}                      &     125.5492  &        5.704     &    22.012  &         0.000        &      114.369    &      136.730     \\\\\n",
       "\\textbf{hr[21]}                      &      87.5537  &        5.693     &    15.378  &         0.000        &       76.393    &       98.714     \\\\\n",
       "\\textbf{hr[22]}                      &      59.1226  &        5.689     &    10.392  &         0.000        &       47.970    &       70.275     \\\\\n",
       "\\textbf{hr[23]}                      &      26.8376  &        5.688     &     4.719  &         0.000        &       15.688    &       37.987     \\\\\n",
       "\\textbf{workingday}                  &       1.2696  &        1.784     &     0.711  &         0.477        &       -2.228    &        4.768     \\\\\n",
       "\\textbf{temp}                        &     157.2094  &       10.261     &    15.321  &         0.000        &      137.095    &      177.324     \\\\\n",
       "\\textbf{weathersit[cloudy/misty]}    &     -12.8903  &        1.964     &    -6.562  &         0.000        &      -16.741    &       -9.040     \\\\\n",
       "\\textbf{weathersit[heavy rain/snow]} &    -109.7446  &       76.667     &    -1.431  &         0.152        &     -260.031    &       40.542     \\\\\n",
       "\\textbf{weathersit[light rain/snow]} &     -66.4944  &        2.965     &   -22.425  &         0.000        &      -72.307    &      -60.682     \\\\\n",
       "\\bottomrule\n",
       "\\end{tabular}\n",
       "\\begin{tabular}{lclc}\n",
       "\\textbf{Omnibus:}       & 288.526 & \\textbf{  Durbin-Watson:     } &     0.519  \\\\\n",
       "\\textbf{Prob(Omnibus):} &   0.000 & \\textbf{  Jarque-Bera (JB):  } &   518.512  \\\\\n",
       "\\textbf{Skew:}          &   0.273 & \\textbf{  Prob(JB):          } & 2.55e-113  \\\\\n",
       "\\textbf{Kurtosis:}      &   4.068 & \\textbf{  Cond. No.          } &      131.  \\\\\n",
       "\\bottomrule\n",
       "\\end{tabular}\n",
       "%\\caption{OLS Regression Results}\n",
       "\\end{center}\n",
       "\n",
       "Notes: \\newline\n",
       " [1] Standard Errors assume that the covariance matrix of the errors is correctly specified."
      ],
      "text/plain": [
       "<class 'statsmodels.iolib.summary.Summary'>\n",
       "\"\"\"\n",
       "                            OLS Regression Results                            \n",
       "==============================================================================\n",
       "Dep. Variable:                 bikers   R-squared:                       0.675\n",
       "Model:                            OLS   Adj. R-squared:                  0.673\n",
       "Method:                 Least Squares   F-statistic:                     457.3\n",
       "Date:                Sun, 20 Aug 2023   Prob (F-statistic):               0.00\n",
       "Time:                        09:30:30   Log-Likelihood:                -49743.\n",
       "No. Observations:                8645   AIC:                         9.957e+04\n",
       "Df Residuals:                    8605   BIC:                         9.985e+04\n",
       "Df Model:                          39                                         \n",
       "Covariance Type:            nonrobust                                         \n",
       "===============================================================================================\n",
       "                                  coef    std err          t      P>|t|      [0.025      0.975]\n",
       "-----------------------------------------------------------------------------------------------\n",
       "intercept                     -27.2068      6.715     -4.052      0.000     -40.370     -14.044\n",
       "mnth[Aug]                      11.8181      4.698      2.515      0.012       2.609      21.028\n",
       "mnth[Dec]                       5.0328      4.280      1.176      0.240      -3.357      13.423\n",
       "mnth[Feb]                     -34.5797      4.575     -7.558      0.000     -43.548     -25.611\n",
       "mnth[Jan]                     -41.4249      4.972     -8.331      0.000     -51.172     -31.678\n",
       "mnth[July]                      3.8996      5.003      0.779      0.436      -5.907      13.706\n",
       "mnth[June]                     26.3938      4.642      5.686      0.000      17.294      35.493\n",
       "mnth[March]                   -24.8735      4.277     -5.815      0.000     -33.258     -16.489\n",
       "mnth[May]                      31.1322      4.150      7.501      0.000      22.997      39.268\n",
       "mnth[Nov]                      18.8851      4.099      4.607      0.000      10.850      26.920\n",
       "mnth[Oct]                      34.4093      4.006      8.589      0.000      26.556      42.262\n",
       "mnth[Sept]                     25.2534      4.293      5.883      0.000      16.839      33.668\n",
       "hr[1]                         -14.5793      5.699     -2.558      0.011     -25.750      -3.408\n",
       "hr[2]                         -21.5791      5.733     -3.764      0.000     -32.817     -10.341\n",
       "hr[3]                         -31.1408      5.778     -5.389      0.000     -42.468     -19.814\n",
       "hr[4]                         -36.9075      5.802     -6.361      0.000     -48.281     -25.534\n",
       "hr[5]                         -24.1355      5.737     -4.207      0.000     -35.381     -12.890\n",
       "hr[6]                          20.5997      5.704      3.612      0.000       9.419      31.781\n",
       "hr[7]                         120.0931      5.693     21.095      0.000     108.934     131.253\n",
       "hr[8]                         223.6619      5.690     39.310      0.000     212.509     234.815\n",
       "hr[9]                         120.5819      5.693     21.182      0.000     109.423     131.741\n",
       "hr[10]                         83.8013      5.705     14.689      0.000      72.618      94.985\n",
       "hr[11]                        105.4234      5.722     18.424      0.000      94.207     116.640\n",
       "hr[12]                        137.2837      5.740     23.916      0.000     126.032     148.536\n",
       "hr[13]                        136.0359      5.760     23.617      0.000     124.745     147.327\n",
       "hr[14]                        126.6361      5.776     21.923      0.000     115.313     137.959\n",
       "hr[15]                        132.0865      5.780     22.852      0.000     120.756     143.417\n",
       "hr[16]                        178.5206      5.772     30.927      0.000     167.206     189.836\n",
       "hr[17]                        296.2670      5.749     51.537      0.000     284.998     307.536\n",
       "hr[18]                        269.4409      5.736     46.976      0.000     258.198     280.684\n",
       "hr[19]                        186.2558      5.714     32.596      0.000     175.055     197.457\n",
       "hr[20]                        125.5492      5.704     22.012      0.000     114.369     136.730\n",
       "hr[21]                         87.5537      5.693     15.378      0.000      76.393      98.714\n",
       "hr[22]                         59.1226      5.689     10.392      0.000      47.970      70.275\n",
       "hr[23]                         26.8376      5.688      4.719      0.000      15.688      37.987\n",
       "workingday                      1.2696      1.784      0.711      0.477      -2.228       4.768\n",
       "temp                          157.2094     10.261     15.321      0.000     137.095     177.324\n",
       "weathersit[cloudy/misty]      -12.8903      1.964     -6.562      0.000     -16.741      -9.040\n",
       "weathersit[heavy rain/snow]  -109.7446     76.667     -1.431      0.152    -260.031      40.542\n",
       "weathersit[light rain/snow]   -66.4944      2.965    -22.425      0.000     -72.307     -60.682\n",
       "==============================================================================\n",
       "Omnibus:                      288.526   Durbin-Watson:                   0.519\n",
       "Prob(Omnibus):                  0.000   Jarque-Bera (JB):              518.512\n",
       "Skew:                           0.273   Prob(JB):                    2.55e-113\n",
       "Kurtosis:                       4.068   Cond. No.                         131.\n",
       "==============================================================================\n",
       "\n",
       "Notes:\n",
       "[1] Standard Errors assume that the covariance matrix of the errors is correctly specified.\n",
       "\"\"\""
      ]
     },
     "execution_count": 150,
     "metadata": {},
     "output_type": "execute_result"
    }
   ],
   "source": [
    "X = MS(['mnth', 'hr', 'workingday', 'temp', 'weathersit']).fit_transform(Bike)\n",
    "Y = Bike['bikers']\n",
    "M_lm = sm.OLS(Y, X).fit()\n",
    "M_lm.summary()"
   ]
  },
  {
   "cell_type": "markdown",
   "metadata": {},
   "source": [
    "In `M_lm`, the first levels `hr[0]` and `mnth[Jan]` are treated as the baseline values, and so no coefcient estimates are provided for them: implicitly, their coefficient estimates are zero, and all other levels are measured relative to these baselines. For example, the Feb coefficient of 6.845 signifies that, holding all other variables constant, there are on average about 7 more riders in February than in January"
   ]
  },
  {
   "cell_type": "markdown",
   "metadata": {},
   "source": [
    "We can use an alternative encoding in which the (unreported) coefficient for the last month is set to the negative of the sum of the coefficient estimates for all other levels.\n",
    "\n",
    "In this way, the coefficients will always sum to zero, and each coefficient can be interpreted as the difference from the mean level."
   ]
  },
  {
   "cell_type": "code",
   "execution_count": 152,
   "metadata": {},
   "outputs": [],
   "source": [
    "hr_encode = contrast('hr', 'sum')\n",
    "mnth_encode = contrast('mnth', 'sum')"
   ]
  },
  {
   "cell_type": "code",
   "execution_count": 158,
   "metadata": {},
   "outputs": [
    {
     "data": {
      "text/html": [
       "<div>\n",
       "<style scoped>\n",
       "    .dataframe tbody tr th:only-of-type {\n",
       "        vertical-align: middle;\n",
       "    }\n",
       "\n",
       "    .dataframe tbody tr th {\n",
       "        vertical-align: top;\n",
       "    }\n",
       "\n",
       "    .dataframe thead th {\n",
       "        text-align: right;\n",
       "    }\n",
       "</style>\n",
       "<table border=\"1\" class=\"dataframe\">\n",
       "  <thead>\n",
       "    <tr style=\"text-align: right;\">\n",
       "      <th></th>\n",
       "      <th>coef</th>\n",
       "      <th>std err</th>\n",
       "      <th>t</th>\n",
       "      <th>P&gt;|t|</th>\n",
       "    </tr>\n",
       "  </thead>\n",
       "  <tbody>\n",
       "    <tr>\n",
       "      <th>intercept</th>\n",
       "      <td>73.5974</td>\n",
       "      <td>5.132</td>\n",
       "      <td>14.340</td>\n",
       "      <td>0.000</td>\n",
       "    </tr>\n",
       "    <tr>\n",
       "      <th>mnth[Jan]</th>\n",
       "      <td>-46.0871</td>\n",
       "      <td>4.085</td>\n",
       "      <td>-11.281</td>\n",
       "      <td>0.000</td>\n",
       "    </tr>\n",
       "    <tr>\n",
       "      <th>mnth[Feb]</th>\n",
       "      <td>-39.2419</td>\n",
       "      <td>3.539</td>\n",
       "      <td>-11.088</td>\n",
       "      <td>0.000</td>\n",
       "    </tr>\n",
       "    <tr>\n",
       "      <th>mnth[March]</th>\n",
       "      <td>-29.5357</td>\n",
       "      <td>3.155</td>\n",
       "      <td>-9.361</td>\n",
       "      <td>0.000</td>\n",
       "    </tr>\n",
       "    <tr>\n",
       "      <th>mnth[April]</th>\n",
       "      <td>-4.6622</td>\n",
       "      <td>2.741</td>\n",
       "      <td>-1.701</td>\n",
       "      <td>0.089</td>\n",
       "    </tr>\n",
       "    <tr>\n",
       "      <th>mnth[May]</th>\n",
       "      <td>26.4700</td>\n",
       "      <td>2.851</td>\n",
       "      <td>9.285</td>\n",
       "      <td>0.000</td>\n",
       "    </tr>\n",
       "    <tr>\n",
       "      <th>mnth[June]</th>\n",
       "      <td>21.7317</td>\n",
       "      <td>3.465</td>\n",
       "      <td>6.272</td>\n",
       "      <td>0.000</td>\n",
       "    </tr>\n",
       "    <tr>\n",
       "      <th>mnth[July]</th>\n",
       "      <td>-0.7626</td>\n",
       "      <td>3.908</td>\n",
       "      <td>-0.195</td>\n",
       "      <td>0.845</td>\n",
       "    </tr>\n",
       "    <tr>\n",
       "      <th>mnth[Aug]</th>\n",
       "      <td>7.1560</td>\n",
       "      <td>3.535</td>\n",
       "      <td>2.024</td>\n",
       "      <td>0.043</td>\n",
       "    </tr>\n",
       "    <tr>\n",
       "      <th>mnth[Sept]</th>\n",
       "      <td>20.5912</td>\n",
       "      <td>3.046</td>\n",
       "      <td>6.761</td>\n",
       "      <td>0.000</td>\n",
       "    </tr>\n",
       "    <tr>\n",
       "      <th>mnth[Oct]</th>\n",
       "      <td>29.7472</td>\n",
       "      <td>2.700</td>\n",
       "      <td>11.019</td>\n",
       "      <td>0.000</td>\n",
       "    </tr>\n",
       "    <tr>\n",
       "      <th>mnth[Nov]</th>\n",
       "      <td>14.2229</td>\n",
       "      <td>2.860</td>\n",
       "      <td>4.972</td>\n",
       "      <td>0.000</td>\n",
       "    </tr>\n",
       "    <tr>\n",
       "      <th>hr[0]</th>\n",
       "      <td>-96.1420</td>\n",
       "      <td>3.955</td>\n",
       "      <td>-24.307</td>\n",
       "      <td>0.000</td>\n",
       "    </tr>\n",
       "    <tr>\n",
       "      <th>hr[1]</th>\n",
       "      <td>-110.7213</td>\n",
       "      <td>3.966</td>\n",
       "      <td>-27.916</td>\n",
       "      <td>0.000</td>\n",
       "    </tr>\n",
       "    <tr>\n",
       "      <th>hr[2]</th>\n",
       "      <td>-117.7212</td>\n",
       "      <td>4.016</td>\n",
       "      <td>-29.310</td>\n",
       "      <td>0.000</td>\n",
       "    </tr>\n",
       "    <tr>\n",
       "      <th>hr[3]</th>\n",
       "      <td>-127.2828</td>\n",
       "      <td>4.081</td>\n",
       "      <td>-31.191</td>\n",
       "      <td>0.000</td>\n",
       "    </tr>\n",
       "    <tr>\n",
       "      <th>hr[4]</th>\n",
       "      <td>-133.0495</td>\n",
       "      <td>4.117</td>\n",
       "      <td>-32.319</td>\n",
       "      <td>0.000</td>\n",
       "    </tr>\n",
       "    <tr>\n",
       "      <th>hr[5]</th>\n",
       "      <td>-120.2775</td>\n",
       "      <td>4.037</td>\n",
       "      <td>-29.794</td>\n",
       "      <td>0.000</td>\n",
       "    </tr>\n",
       "    <tr>\n",
       "      <th>hr[6]</th>\n",
       "      <td>-75.5424</td>\n",
       "      <td>3.992</td>\n",
       "      <td>-18.925</td>\n",
       "      <td>0.000</td>\n",
       "    </tr>\n",
       "    <tr>\n",
       "      <th>hr[7]</th>\n",
       "      <td>23.9511</td>\n",
       "      <td>3.969</td>\n",
       "      <td>6.035</td>\n",
       "      <td>0.000</td>\n",
       "    </tr>\n",
       "    <tr>\n",
       "      <th>hr[8]</th>\n",
       "      <td>127.5199</td>\n",
       "      <td>3.950</td>\n",
       "      <td>32.284</td>\n",
       "      <td>0.000</td>\n",
       "    </tr>\n",
       "    <tr>\n",
       "      <th>hr[9]</th>\n",
       "      <td>24.4399</td>\n",
       "      <td>3.936</td>\n",
       "      <td>6.209</td>\n",
       "      <td>0.000</td>\n",
       "    </tr>\n",
       "    <tr>\n",
       "      <th>hr[10]</th>\n",
       "      <td>-12.3407</td>\n",
       "      <td>3.936</td>\n",
       "      <td>-3.135</td>\n",
       "      <td>0.002</td>\n",
       "    </tr>\n",
       "    <tr>\n",
       "      <th>hr[11]</th>\n",
       "      <td>9.2814</td>\n",
       "      <td>3.945</td>\n",
       "      <td>2.353</td>\n",
       "      <td>0.019</td>\n",
       "    </tr>\n",
       "    <tr>\n",
       "      <th>hr[12]</th>\n",
       "      <td>41.1417</td>\n",
       "      <td>3.957</td>\n",
       "      <td>10.397</td>\n",
       "      <td>0.000</td>\n",
       "    </tr>\n",
       "    <tr>\n",
       "      <th>hr[13]</th>\n",
       "      <td>39.8939</td>\n",
       "      <td>3.975</td>\n",
       "      <td>10.036</td>\n",
       "      <td>0.000</td>\n",
       "    </tr>\n",
       "    <tr>\n",
       "      <th>hr[14]</th>\n",
       "      <td>30.4940</td>\n",
       "      <td>3.991</td>\n",
       "      <td>7.641</td>\n",
       "      <td>0.000</td>\n",
       "    </tr>\n",
       "    <tr>\n",
       "      <th>hr[15]</th>\n",
       "      <td>35.9445</td>\n",
       "      <td>3.995</td>\n",
       "      <td>8.998</td>\n",
       "      <td>0.000</td>\n",
       "    </tr>\n",
       "    <tr>\n",
       "      <th>hr[16]</th>\n",
       "      <td>82.3786</td>\n",
       "      <td>3.988</td>\n",
       "      <td>20.655</td>\n",
       "      <td>0.000</td>\n",
       "    </tr>\n",
       "    <tr>\n",
       "      <th>hr[17]</th>\n",
       "      <td>200.1249</td>\n",
       "      <td>3.964</td>\n",
       "      <td>50.488</td>\n",
       "      <td>0.000</td>\n",
       "    </tr>\n",
       "    <tr>\n",
       "      <th>hr[18]</th>\n",
       "      <td>173.2989</td>\n",
       "      <td>3.956</td>\n",
       "      <td>43.806</td>\n",
       "      <td>0.000</td>\n",
       "    </tr>\n",
       "    <tr>\n",
       "      <th>hr[19]</th>\n",
       "      <td>90.1138</td>\n",
       "      <td>3.940</td>\n",
       "      <td>22.872</td>\n",
       "      <td>0.000</td>\n",
       "    </tr>\n",
       "    <tr>\n",
       "      <th>hr[20]</th>\n",
       "      <td>29.4071</td>\n",
       "      <td>3.936</td>\n",
       "      <td>7.471</td>\n",
       "      <td>0.000</td>\n",
       "    </tr>\n",
       "    <tr>\n",
       "      <th>hr[21]</th>\n",
       "      <td>-8.5883</td>\n",
       "      <td>3.933</td>\n",
       "      <td>-2.184</td>\n",
       "      <td>0.029</td>\n",
       "    </tr>\n",
       "    <tr>\n",
       "      <th>hr[22]</th>\n",
       "      <td>-37.0194</td>\n",
       "      <td>3.934</td>\n",
       "      <td>-9.409</td>\n",
       "      <td>0.000</td>\n",
       "    </tr>\n",
       "    <tr>\n",
       "      <th>workingday</th>\n",
       "      <td>1.2696</td>\n",
       "      <td>1.784</td>\n",
       "      <td>0.711</td>\n",
       "      <td>0.477</td>\n",
       "    </tr>\n",
       "    <tr>\n",
       "      <th>temp</th>\n",
       "      <td>157.2094</td>\n",
       "      <td>10.261</td>\n",
       "      <td>15.321</td>\n",
       "      <td>0.000</td>\n",
       "    </tr>\n",
       "    <tr>\n",
       "      <th>weathersit[cloudy/misty]</th>\n",
       "      <td>-12.8903</td>\n",
       "      <td>1.964</td>\n",
       "      <td>-6.562</td>\n",
       "      <td>0.000</td>\n",
       "    </tr>\n",
       "    <tr>\n",
       "      <th>weathersit[heavy rain/snow]</th>\n",
       "      <td>-109.7446</td>\n",
       "      <td>76.667</td>\n",
       "      <td>-1.431</td>\n",
       "      <td>0.152</td>\n",
       "    </tr>\n",
       "    <tr>\n",
       "      <th>weathersit[light rain/snow]</th>\n",
       "      <td>-66.4944</td>\n",
       "      <td>2.965</td>\n",
       "      <td>-22.425</td>\n",
       "      <td>0.000</td>\n",
       "    </tr>\n",
       "  </tbody>\n",
       "</table>\n",
       "</div>"
      ],
      "text/plain": [
       "                                 coef  std err       t  P>|t|\n",
       "intercept                     73.5974    5.132  14.340  0.000\n",
       "mnth[Jan]                    -46.0871    4.085 -11.281  0.000\n",
       "mnth[Feb]                    -39.2419    3.539 -11.088  0.000\n",
       "mnth[March]                  -29.5357    3.155  -9.361  0.000\n",
       "mnth[April]                   -4.6622    2.741  -1.701  0.089\n",
       "mnth[May]                     26.4700    2.851   9.285  0.000\n",
       "mnth[June]                    21.7317    3.465   6.272  0.000\n",
       "mnth[July]                    -0.7626    3.908  -0.195  0.845\n",
       "mnth[Aug]                      7.1560    3.535   2.024  0.043\n",
       "mnth[Sept]                    20.5912    3.046   6.761  0.000\n",
       "mnth[Oct]                     29.7472    2.700  11.019  0.000\n",
       "mnth[Nov]                     14.2229    2.860   4.972  0.000\n",
       "hr[0]                        -96.1420    3.955 -24.307  0.000\n",
       "hr[1]                       -110.7213    3.966 -27.916  0.000\n",
       "hr[2]                       -117.7212    4.016 -29.310  0.000\n",
       "hr[3]                       -127.2828    4.081 -31.191  0.000\n",
       "hr[4]                       -133.0495    4.117 -32.319  0.000\n",
       "hr[5]                       -120.2775    4.037 -29.794  0.000\n",
       "hr[6]                        -75.5424    3.992 -18.925  0.000\n",
       "hr[7]                         23.9511    3.969   6.035  0.000\n",
       "hr[8]                        127.5199    3.950  32.284  0.000\n",
       "hr[9]                         24.4399    3.936   6.209  0.000\n",
       "hr[10]                       -12.3407    3.936  -3.135  0.002\n",
       "hr[11]                         9.2814    3.945   2.353  0.019\n",
       "hr[12]                        41.1417    3.957  10.397  0.000\n",
       "hr[13]                        39.8939    3.975  10.036  0.000\n",
       "hr[14]                        30.4940    3.991   7.641  0.000\n",
       "hr[15]                        35.9445    3.995   8.998  0.000\n",
       "hr[16]                        82.3786    3.988  20.655  0.000\n",
       "hr[17]                       200.1249    3.964  50.488  0.000\n",
       "hr[18]                       173.2989    3.956  43.806  0.000\n",
       "hr[19]                        90.1138    3.940  22.872  0.000\n",
       "hr[20]                        29.4071    3.936   7.471  0.000\n",
       "hr[21]                        -8.5883    3.933  -2.184  0.029\n",
       "hr[22]                       -37.0194    3.934  -9.409  0.000\n",
       "workingday                     1.2696    1.784   0.711  0.477\n",
       "temp                         157.2094   10.261  15.321  0.000\n",
       "weathersit[cloudy/misty]     -12.8903    1.964  -6.562  0.000\n",
       "weathersit[heavy rain/snow] -109.7446   76.667  -1.431  0.152\n",
       "weathersit[light rain/snow]  -66.4944    2.965 -22.425  0.000"
      ]
     },
     "execution_count": 158,
     "metadata": {},
     "output_type": "execute_result"
    }
   ],
   "source": [
    "X2 = MS([mnth_encode, hr_encode, 'workingday', 'temp','weathersit']).fit_transform(Bike)\n",
    "M2_lm = sm.OLS(Y, X2).fit()\n",
    "S2 = summarize(M2_lm)\n",
    "S2"
   ]
  },
  {
   "cell_type": "markdown",
   "metadata": {},
   "source": [
    "We can produce plots of the coefficient values for Month and Hour:"
   ]
  },
  {
   "cell_type": "code",
   "execution_count": 157,
   "metadata": {},
   "outputs": [
    {
     "data": {
      "text/html": [
       "<table class=\"simpletable\">\n",
       "<caption>OLS Regression Results</caption>\n",
       "<tr>\n",
       "  <th>Dep. Variable:</th>         <td>bikers</td>      <th>  R-squared:         </th> <td>   0.675</td> \n",
       "</tr>\n",
       "<tr>\n",
       "  <th>Model:</th>                   <td>OLS</td>       <th>  Adj. R-squared:    </th> <td>   0.673</td> \n",
       "</tr>\n",
       "<tr>\n",
       "  <th>Method:</th>             <td>Least Squares</td>  <th>  F-statistic:       </th> <td>   457.3</td> \n",
       "</tr>\n",
       "<tr>\n",
       "  <th>Date:</th>             <td>Sun, 20 Aug 2023</td> <th>  Prob (F-statistic):</th>  <td>  0.00</td>  \n",
       "</tr>\n",
       "<tr>\n",
       "  <th>Time:</th>                 <td>09:38:58</td>     <th>  Log-Likelihood:    </th> <td> -49743.</td> \n",
       "</tr>\n",
       "<tr>\n",
       "  <th>No. Observations:</th>      <td>  8645</td>      <th>  AIC:               </th> <td>9.957e+04</td>\n",
       "</tr>\n",
       "<tr>\n",
       "  <th>Df Residuals:</th>          <td>  8605</td>      <th>  BIC:               </th> <td>9.985e+04</td>\n",
       "</tr>\n",
       "<tr>\n",
       "  <th>Df Model:</th>              <td>    39</td>      <th>                     </th>     <td> </td>    \n",
       "</tr>\n",
       "<tr>\n",
       "  <th>Covariance Type:</th>      <td>nonrobust</td>    <th>                     </th>     <td> </td>    \n",
       "</tr>\n",
       "</table>\n",
       "<table class=\"simpletable\">\n",
       "<tr>\n",
       "               <td></td>                  <th>coef</th>     <th>std err</th>      <th>t</th>      <th>P>|t|</th>  <th>[0.025</th>    <th>0.975]</th>  \n",
       "</tr>\n",
       "<tr>\n",
       "  <th>intercept</th>                   <td>   73.5974</td> <td>    5.132</td> <td>   14.340</td> <td> 0.000</td> <td>   63.537</td> <td>   83.658</td>\n",
       "</tr>\n",
       "<tr>\n",
       "  <th>mnth[Jan]</th>                   <td>  -46.0871</td> <td>    4.085</td> <td>  -11.281</td> <td> 0.000</td> <td>  -54.096</td> <td>  -38.079</td>\n",
       "</tr>\n",
       "<tr>\n",
       "  <th>mnth[Feb]</th>                   <td>  -39.2419</td> <td>    3.539</td> <td>  -11.088</td> <td> 0.000</td> <td>  -46.179</td> <td>  -32.304</td>\n",
       "</tr>\n",
       "<tr>\n",
       "  <th>mnth[March]</th>                 <td>  -29.5357</td> <td>    3.155</td> <td>   -9.361</td> <td> 0.000</td> <td>  -35.721</td> <td>  -23.351</td>\n",
       "</tr>\n",
       "<tr>\n",
       "  <th>mnth[April]</th>                 <td>   -4.6622</td> <td>    2.741</td> <td>   -1.701</td> <td> 0.089</td> <td>  -10.034</td> <td>    0.710</td>\n",
       "</tr>\n",
       "<tr>\n",
       "  <th>mnth[May]</th>                   <td>   26.4700</td> <td>    2.851</td> <td>    9.285</td> <td> 0.000</td> <td>   20.882</td> <td>   32.058</td>\n",
       "</tr>\n",
       "<tr>\n",
       "  <th>mnth[June]</th>                  <td>   21.7317</td> <td>    3.465</td> <td>    6.272</td> <td> 0.000</td> <td>   14.939</td> <td>   28.524</td>\n",
       "</tr>\n",
       "<tr>\n",
       "  <th>mnth[July]</th>                  <td>   -0.7626</td> <td>    3.908</td> <td>   -0.195</td> <td> 0.845</td> <td>   -8.424</td> <td>    6.899</td>\n",
       "</tr>\n",
       "<tr>\n",
       "  <th>mnth[Aug]</th>                   <td>    7.1560</td> <td>    3.535</td> <td>    2.024</td> <td> 0.043</td> <td>    0.227</td> <td>   14.085</td>\n",
       "</tr>\n",
       "<tr>\n",
       "  <th>mnth[Sept]</th>                  <td>   20.5912</td> <td>    3.046</td> <td>    6.761</td> <td> 0.000</td> <td>   14.621</td> <td>   26.561</td>\n",
       "</tr>\n",
       "<tr>\n",
       "  <th>mnth[Oct]</th>                   <td>   29.7472</td> <td>    2.700</td> <td>   11.019</td> <td> 0.000</td> <td>   24.455</td> <td>   35.039</td>\n",
       "</tr>\n",
       "<tr>\n",
       "  <th>mnth[Nov]</th>                   <td>   14.2229</td> <td>    2.860</td> <td>    4.972</td> <td> 0.000</td> <td>    8.616</td> <td>   19.830</td>\n",
       "</tr>\n",
       "<tr>\n",
       "  <th>hr[0]</th>                       <td>  -96.1420</td> <td>    3.955</td> <td>  -24.307</td> <td> 0.000</td> <td> -103.895</td> <td>  -88.389</td>\n",
       "</tr>\n",
       "<tr>\n",
       "  <th>hr[1]</th>                       <td> -110.7213</td> <td>    3.966</td> <td>  -27.916</td> <td> 0.000</td> <td> -118.496</td> <td> -102.947</td>\n",
       "</tr>\n",
       "<tr>\n",
       "  <th>hr[2]</th>                       <td> -117.7212</td> <td>    4.016</td> <td>  -29.310</td> <td> 0.000</td> <td> -125.594</td> <td> -109.848</td>\n",
       "</tr>\n",
       "<tr>\n",
       "  <th>hr[3]</th>                       <td> -127.2828</td> <td>    4.081</td> <td>  -31.191</td> <td> 0.000</td> <td> -135.282</td> <td> -119.283</td>\n",
       "</tr>\n",
       "<tr>\n",
       "  <th>hr[4]</th>                       <td> -133.0495</td> <td>    4.117</td> <td>  -32.319</td> <td> 0.000</td> <td> -141.119</td> <td> -124.980</td>\n",
       "</tr>\n",
       "<tr>\n",
       "  <th>hr[5]</th>                       <td> -120.2775</td> <td>    4.037</td> <td>  -29.794</td> <td> 0.000</td> <td> -128.191</td> <td> -112.364</td>\n",
       "</tr>\n",
       "<tr>\n",
       "  <th>hr[6]</th>                       <td>  -75.5424</td> <td>    3.992</td> <td>  -18.925</td> <td> 0.000</td> <td>  -83.367</td> <td>  -67.718</td>\n",
       "</tr>\n",
       "<tr>\n",
       "  <th>hr[7]</th>                       <td>   23.9511</td> <td>    3.969</td> <td>    6.035</td> <td> 0.000</td> <td>   16.172</td> <td>   31.730</td>\n",
       "</tr>\n",
       "<tr>\n",
       "  <th>hr[8]</th>                       <td>  127.5199</td> <td>    3.950</td> <td>   32.284</td> <td> 0.000</td> <td>  119.777</td> <td>  135.263</td>\n",
       "</tr>\n",
       "<tr>\n",
       "  <th>hr[9]</th>                       <td>   24.4399</td> <td>    3.936</td> <td>    6.209</td> <td> 0.000</td> <td>   16.724</td> <td>   32.155</td>\n",
       "</tr>\n",
       "<tr>\n",
       "  <th>hr[10]</th>                      <td>  -12.3407</td> <td>    3.936</td> <td>   -3.135</td> <td> 0.002</td> <td>  -20.056</td> <td>   -4.625</td>\n",
       "</tr>\n",
       "<tr>\n",
       "  <th>hr[11]</th>                      <td>    9.2814</td> <td>    3.945</td> <td>    2.353</td> <td> 0.019</td> <td>    1.549</td> <td>   17.014</td>\n",
       "</tr>\n",
       "<tr>\n",
       "  <th>hr[12]</th>                      <td>   41.1417</td> <td>    3.957</td> <td>   10.397</td> <td> 0.000</td> <td>   33.385</td> <td>   48.899</td>\n",
       "</tr>\n",
       "<tr>\n",
       "  <th>hr[13]</th>                      <td>   39.8939</td> <td>    3.975</td> <td>   10.036</td> <td> 0.000</td> <td>   32.102</td> <td>   47.686</td>\n",
       "</tr>\n",
       "<tr>\n",
       "  <th>hr[14]</th>                      <td>   30.4940</td> <td>    3.991</td> <td>    7.641</td> <td> 0.000</td> <td>   22.671</td> <td>   38.317</td>\n",
       "</tr>\n",
       "<tr>\n",
       "  <th>hr[15]</th>                      <td>   35.9445</td> <td>    3.995</td> <td>    8.998</td> <td> 0.000</td> <td>   28.114</td> <td>   43.775</td>\n",
       "</tr>\n",
       "<tr>\n",
       "  <th>hr[16]</th>                      <td>   82.3786</td> <td>    3.988</td> <td>   20.655</td> <td> 0.000</td> <td>   74.561</td> <td>   90.197</td>\n",
       "</tr>\n",
       "<tr>\n",
       "  <th>hr[17]</th>                      <td>  200.1249</td> <td>    3.964</td> <td>   50.488</td> <td> 0.000</td> <td>  192.355</td> <td>  207.895</td>\n",
       "</tr>\n",
       "<tr>\n",
       "  <th>hr[18]</th>                      <td>  173.2989</td> <td>    3.956</td> <td>   43.806</td> <td> 0.000</td> <td>  165.544</td> <td>  181.054</td>\n",
       "</tr>\n",
       "<tr>\n",
       "  <th>hr[19]</th>                      <td>   90.1138</td> <td>    3.940</td> <td>   22.872</td> <td> 0.000</td> <td>   82.390</td> <td>   97.837</td>\n",
       "</tr>\n",
       "<tr>\n",
       "  <th>hr[20]</th>                      <td>   29.4071</td> <td>    3.936</td> <td>    7.471</td> <td> 0.000</td> <td>   21.691</td> <td>   37.123</td>\n",
       "</tr>\n",
       "<tr>\n",
       "  <th>hr[21]</th>                      <td>   -8.5883</td> <td>    3.933</td> <td>   -2.184</td> <td> 0.029</td> <td>  -16.298</td> <td>   -0.878</td>\n",
       "</tr>\n",
       "<tr>\n",
       "  <th>hr[22]</th>                      <td>  -37.0194</td> <td>    3.934</td> <td>   -9.409</td> <td> 0.000</td> <td>  -44.732</td> <td>  -29.307</td>\n",
       "</tr>\n",
       "<tr>\n",
       "  <th>workingday</th>                  <td>    1.2696</td> <td>    1.784</td> <td>    0.711</td> <td> 0.477</td> <td>   -2.228</td> <td>    4.768</td>\n",
       "</tr>\n",
       "<tr>\n",
       "  <th>temp</th>                        <td>  157.2094</td> <td>   10.261</td> <td>   15.321</td> <td> 0.000</td> <td>  137.095</td> <td>  177.324</td>\n",
       "</tr>\n",
       "<tr>\n",
       "  <th>weathersit[cloudy/misty]</th>    <td>  -12.8903</td> <td>    1.964</td> <td>   -6.562</td> <td> 0.000</td> <td>  -16.741</td> <td>   -9.040</td>\n",
       "</tr>\n",
       "<tr>\n",
       "  <th>weathersit[heavy rain/snow]</th> <td> -109.7446</td> <td>   76.667</td> <td>   -1.431</td> <td> 0.152</td> <td> -260.031</td> <td>   40.542</td>\n",
       "</tr>\n",
       "<tr>\n",
       "  <th>weathersit[light rain/snow]</th> <td>  -66.4944</td> <td>    2.965</td> <td>  -22.425</td> <td> 0.000</td> <td>  -72.307</td> <td>  -60.682</td>\n",
       "</tr>\n",
       "</table>\n",
       "<table class=\"simpletable\">\n",
       "<tr>\n",
       "  <th>Omnibus:</th>       <td>288.526</td> <th>  Durbin-Watson:     </th> <td>   0.519</td> \n",
       "</tr>\n",
       "<tr>\n",
       "  <th>Prob(Omnibus):</th> <td> 0.000</td>  <th>  Jarque-Bera (JB):  </th> <td> 518.512</td> \n",
       "</tr>\n",
       "<tr>\n",
       "  <th>Skew:</th>          <td> 0.273</td>  <th>  Prob(JB):          </th> <td>2.55e-113</td>\n",
       "</tr>\n",
       "<tr>\n",
       "  <th>Kurtosis:</th>      <td> 4.068</td>  <th>  Cond. No.          </th> <td>    127.</td> \n",
       "</tr>\n",
       "</table><br/><br/>Notes:<br/>[1] Standard Errors assume that the covariance matrix of the errors is correctly specified."
      ],
      "text/latex": [
       "\\begin{center}\n",
       "\\begin{tabular}{lclc}\n",
       "\\toprule\n",
       "\\textbf{Dep. Variable:}              &      bikers      & \\textbf{  R-squared:         } &     0.675   \\\\\n",
       "\\textbf{Model:}                      &       OLS        & \\textbf{  Adj. R-squared:    } &     0.673   \\\\\n",
       "\\textbf{Method:}                     &  Least Squares   & \\textbf{  F-statistic:       } &     457.3   \\\\\n",
       "\\textbf{Date:}                       & Sun, 20 Aug 2023 & \\textbf{  Prob (F-statistic):} &     0.00    \\\\\n",
       "\\textbf{Time:}                       &     09:38:58     & \\textbf{  Log-Likelihood:    } &   -49743.   \\\\\n",
       "\\textbf{No. Observations:}           &        8645      & \\textbf{  AIC:               } & 9.957e+04   \\\\\n",
       "\\textbf{Df Residuals:}               &        8605      & \\textbf{  BIC:               } & 9.985e+04   \\\\\n",
       "\\textbf{Df Model:}                   &          39      & \\textbf{                     } &             \\\\\n",
       "\\textbf{Covariance Type:}            &    nonrobust     & \\textbf{                     } &             \\\\\n",
       "\\bottomrule\n",
       "\\end{tabular}\n",
       "\\begin{tabular}{lcccccc}\n",
       "                                     & \\textbf{coef} & \\textbf{std err} & \\textbf{t} & \\textbf{P$> |$t$|$} & \\textbf{[0.025} & \\textbf{0.975]}  \\\\\n",
       "\\midrule\n",
       "\\textbf{intercept}                   &      73.5974  &        5.132     &    14.340  &         0.000        &       63.537    &       83.658     \\\\\n",
       "\\textbf{mnth[Jan]}                   &     -46.0871  &        4.085     &   -11.281  &         0.000        &      -54.096    &      -38.079     \\\\\n",
       "\\textbf{mnth[Feb]}                   &     -39.2419  &        3.539     &   -11.088  &         0.000        &      -46.179    &      -32.304     \\\\\n",
       "\\textbf{mnth[March]}                 &     -29.5357  &        3.155     &    -9.361  &         0.000        &      -35.721    &      -23.351     \\\\\n",
       "\\textbf{mnth[April]}                 &      -4.6622  &        2.741     &    -1.701  &         0.089        &      -10.034    &        0.710     \\\\\n",
       "\\textbf{mnth[May]}                   &      26.4700  &        2.851     &     9.285  &         0.000        &       20.882    &       32.058     \\\\\n",
       "\\textbf{mnth[June]}                  &      21.7317  &        3.465     &     6.272  &         0.000        &       14.939    &       28.524     \\\\\n",
       "\\textbf{mnth[July]}                  &      -0.7626  &        3.908     &    -0.195  &         0.845        &       -8.424    &        6.899     \\\\\n",
       "\\textbf{mnth[Aug]}                   &       7.1560  &        3.535     &     2.024  &         0.043        &        0.227    &       14.085     \\\\\n",
       "\\textbf{mnth[Sept]}                  &      20.5912  &        3.046     &     6.761  &         0.000        &       14.621    &       26.561     \\\\\n",
       "\\textbf{mnth[Oct]}                   &      29.7472  &        2.700     &    11.019  &         0.000        &       24.455    &       35.039     \\\\\n",
       "\\textbf{mnth[Nov]}                   &      14.2229  &        2.860     &     4.972  &         0.000        &        8.616    &       19.830     \\\\\n",
       "\\textbf{hr[0]}                       &     -96.1420  &        3.955     &   -24.307  &         0.000        &     -103.895    &      -88.389     \\\\\n",
       "\\textbf{hr[1]}                       &    -110.7213  &        3.966     &   -27.916  &         0.000        &     -118.496    &     -102.947     \\\\\n",
       "\\textbf{hr[2]}                       &    -117.7212  &        4.016     &   -29.310  &         0.000        &     -125.594    &     -109.848     \\\\\n",
       "\\textbf{hr[3]}                       &    -127.2828  &        4.081     &   -31.191  &         0.000        &     -135.282    &     -119.283     \\\\\n",
       "\\textbf{hr[4]}                       &    -133.0495  &        4.117     &   -32.319  &         0.000        &     -141.119    &     -124.980     \\\\\n",
       "\\textbf{hr[5]}                       &    -120.2775  &        4.037     &   -29.794  &         0.000        &     -128.191    &     -112.364     \\\\\n",
       "\\textbf{hr[6]}                       &     -75.5424  &        3.992     &   -18.925  &         0.000        &      -83.367    &      -67.718     \\\\\n",
       "\\textbf{hr[7]}                       &      23.9511  &        3.969     &     6.035  &         0.000        &       16.172    &       31.730     \\\\\n",
       "\\textbf{hr[8]}                       &     127.5199  &        3.950     &    32.284  &         0.000        &      119.777    &      135.263     \\\\\n",
       "\\textbf{hr[9]}                       &      24.4399  &        3.936     &     6.209  &         0.000        &       16.724    &       32.155     \\\\\n",
       "\\textbf{hr[10]}                      &     -12.3407  &        3.936     &    -3.135  &         0.002        &      -20.056    &       -4.625     \\\\\n",
       "\\textbf{hr[11]}                      &       9.2814  &        3.945     &     2.353  &         0.019        &        1.549    &       17.014     \\\\\n",
       "\\textbf{hr[12]}                      &      41.1417  &        3.957     &    10.397  &         0.000        &       33.385    &       48.899     \\\\\n",
       "\\textbf{hr[13]}                      &      39.8939  &        3.975     &    10.036  &         0.000        &       32.102    &       47.686     \\\\\n",
       "\\textbf{hr[14]}                      &      30.4940  &        3.991     &     7.641  &         0.000        &       22.671    &       38.317     \\\\\n",
       "\\textbf{hr[15]}                      &      35.9445  &        3.995     &     8.998  &         0.000        &       28.114    &       43.775     \\\\\n",
       "\\textbf{hr[16]}                      &      82.3786  &        3.988     &    20.655  &         0.000        &       74.561    &       90.197     \\\\\n",
       "\\textbf{hr[17]}                      &     200.1249  &        3.964     &    50.488  &         0.000        &      192.355    &      207.895     \\\\\n",
       "\\textbf{hr[18]}                      &     173.2989  &        3.956     &    43.806  &         0.000        &      165.544    &      181.054     \\\\\n",
       "\\textbf{hr[19]}                      &      90.1138  &        3.940     &    22.872  &         0.000        &       82.390    &       97.837     \\\\\n",
       "\\textbf{hr[20]}                      &      29.4071  &        3.936     &     7.471  &         0.000        &       21.691    &       37.123     \\\\\n",
       "\\textbf{hr[21]}                      &      -8.5883  &        3.933     &    -2.184  &         0.029        &      -16.298    &       -0.878     \\\\\n",
       "\\textbf{hr[22]}                      &     -37.0194  &        3.934     &    -9.409  &         0.000        &      -44.732    &      -29.307     \\\\\n",
       "\\textbf{workingday}                  &       1.2696  &        1.784     &     0.711  &         0.477        &       -2.228    &        4.768     \\\\\n",
       "\\textbf{temp}                        &     157.2094  &       10.261     &    15.321  &         0.000        &      137.095    &      177.324     \\\\\n",
       "\\textbf{weathersit[cloudy/misty]}    &     -12.8903  &        1.964     &    -6.562  &         0.000        &      -16.741    &       -9.040     \\\\\n",
       "\\textbf{weathersit[heavy rain/snow]} &    -109.7446  &       76.667     &    -1.431  &         0.152        &     -260.031    &       40.542     \\\\\n",
       "\\textbf{weathersit[light rain/snow]} &     -66.4944  &        2.965     &   -22.425  &         0.000        &      -72.307    &      -60.682     \\\\\n",
       "\\bottomrule\n",
       "\\end{tabular}\n",
       "\\begin{tabular}{lclc}\n",
       "\\textbf{Omnibus:}       & 288.526 & \\textbf{  Durbin-Watson:     } &     0.519  \\\\\n",
       "\\textbf{Prob(Omnibus):} &   0.000 & \\textbf{  Jarque-Bera (JB):  } &   518.512  \\\\\n",
       "\\textbf{Skew:}          &   0.273 & \\textbf{  Prob(JB):          } & 2.55e-113  \\\\\n",
       "\\textbf{Kurtosis:}      &   4.068 & \\textbf{  Cond. No.          } &      127.  \\\\\n",
       "\\bottomrule\n",
       "\\end{tabular}\n",
       "%\\caption{OLS Regression Results}\n",
       "\\end{center}\n",
       "\n",
       "Notes: \\newline\n",
       " [1] Standard Errors assume that the covariance matrix of the errors is correctly specified."
      ],
      "text/plain": [
       "<class 'statsmodels.iolib.summary.Summary'>\n",
       "\"\"\"\n",
       "                            OLS Regression Results                            \n",
       "==============================================================================\n",
       "Dep. Variable:                 bikers   R-squared:                       0.675\n",
       "Model:                            OLS   Adj. R-squared:                  0.673\n",
       "Method:                 Least Squares   F-statistic:                     457.3\n",
       "Date:                Sun, 20 Aug 2023   Prob (F-statistic):               0.00\n",
       "Time:                        09:38:58   Log-Likelihood:                -49743.\n",
       "No. Observations:                8645   AIC:                         9.957e+04\n",
       "Df Residuals:                    8605   BIC:                         9.985e+04\n",
       "Df Model:                          39                                         \n",
       "Covariance Type:            nonrobust                                         \n",
       "===============================================================================================\n",
       "                                  coef    std err          t      P>|t|      [0.025      0.975]\n",
       "-----------------------------------------------------------------------------------------------\n",
       "intercept                      73.5974      5.132     14.340      0.000      63.537      83.658\n",
       "mnth[Jan]                     -46.0871      4.085    -11.281      0.000     -54.096     -38.079\n",
       "mnth[Feb]                     -39.2419      3.539    -11.088      0.000     -46.179     -32.304\n",
       "mnth[March]                   -29.5357      3.155     -9.361      0.000     -35.721     -23.351\n",
       "mnth[April]                    -4.6622      2.741     -1.701      0.089     -10.034       0.710\n",
       "mnth[May]                      26.4700      2.851      9.285      0.000      20.882      32.058\n",
       "mnth[June]                     21.7317      3.465      6.272      0.000      14.939      28.524\n",
       "mnth[July]                     -0.7626      3.908     -0.195      0.845      -8.424       6.899\n",
       "mnth[Aug]                       7.1560      3.535      2.024      0.043       0.227      14.085\n",
       "mnth[Sept]                     20.5912      3.046      6.761      0.000      14.621      26.561\n",
       "mnth[Oct]                      29.7472      2.700     11.019      0.000      24.455      35.039\n",
       "mnth[Nov]                      14.2229      2.860      4.972      0.000       8.616      19.830\n",
       "hr[0]                         -96.1420      3.955    -24.307      0.000    -103.895     -88.389\n",
       "hr[1]                        -110.7213      3.966    -27.916      0.000    -118.496    -102.947\n",
       "hr[2]                        -117.7212      4.016    -29.310      0.000    -125.594    -109.848\n",
       "hr[3]                        -127.2828      4.081    -31.191      0.000    -135.282    -119.283\n",
       "hr[4]                        -133.0495      4.117    -32.319      0.000    -141.119    -124.980\n",
       "hr[5]                        -120.2775      4.037    -29.794      0.000    -128.191    -112.364\n",
       "hr[6]                         -75.5424      3.992    -18.925      0.000     -83.367     -67.718\n",
       "hr[7]                          23.9511      3.969      6.035      0.000      16.172      31.730\n",
       "hr[8]                         127.5199      3.950     32.284      0.000     119.777     135.263\n",
       "hr[9]                          24.4399      3.936      6.209      0.000      16.724      32.155\n",
       "hr[10]                        -12.3407      3.936     -3.135      0.002     -20.056      -4.625\n",
       "hr[11]                          9.2814      3.945      2.353      0.019       1.549      17.014\n",
       "hr[12]                         41.1417      3.957     10.397      0.000      33.385      48.899\n",
       "hr[13]                         39.8939      3.975     10.036      0.000      32.102      47.686\n",
       "hr[14]                         30.4940      3.991      7.641      0.000      22.671      38.317\n",
       "hr[15]                         35.9445      3.995      8.998      0.000      28.114      43.775\n",
       "hr[16]                         82.3786      3.988     20.655      0.000      74.561      90.197\n",
       "hr[17]                        200.1249      3.964     50.488      0.000     192.355     207.895\n",
       "hr[18]                        173.2989      3.956     43.806      0.000     165.544     181.054\n",
       "hr[19]                         90.1138      3.940     22.872      0.000      82.390      97.837\n",
       "hr[20]                         29.4071      3.936      7.471      0.000      21.691      37.123\n",
       "hr[21]                         -8.5883      3.933     -2.184      0.029     -16.298      -0.878\n",
       "hr[22]                        -37.0194      3.934     -9.409      0.000     -44.732     -29.307\n",
       "workingday                      1.2696      1.784      0.711      0.477      -2.228       4.768\n",
       "temp                          157.2094     10.261     15.321      0.000     137.095     177.324\n",
       "weathersit[cloudy/misty]      -12.8903      1.964     -6.562      0.000     -16.741      -9.040\n",
       "weathersit[heavy rain/snow]  -109.7446     76.667     -1.431      0.152    -260.031      40.542\n",
       "weathersit[light rain/snow]   -66.4944      2.965    -22.425      0.000     -72.307     -60.682\n",
       "==============================================================================\n",
       "Omnibus:                      288.526   Durbin-Watson:                   0.519\n",
       "Prob(Omnibus):                  0.000   Jarque-Bera (JB):              518.512\n",
       "Skew:                           0.273   Prob(JB):                    2.55e-113\n",
       "Kurtosis:                       4.068   Cond. No.                         127.\n",
       "==============================================================================\n",
       "\n",
       "Notes:\n",
       "[1] Standard Errors assume that the covariance matrix of the errors is correctly specified.\n",
       "\"\"\""
      ]
     },
     "execution_count": 157,
     "metadata": {},
     "output_type": "execute_result"
    }
   ],
   "source": [
    "S2"
   ]
  },
  {
   "cell_type": "code",
   "execution_count": 159,
   "metadata": {},
   "outputs": [
    {
     "data": {
      "text/plain": [
       "mnth[Jan]     -46.0871\n",
       "mnth[Feb]     -39.2419\n",
       "mnth[March]   -29.5357\n",
       "mnth[April]    -4.6622\n",
       "mnth[May]      26.4700\n",
       "mnth[June]     21.7317\n",
       "mnth[July]     -0.7626\n",
       "mnth[Aug]       7.1560\n",
       "mnth[Sept]     20.5912\n",
       "mnth[Oct]      29.7472\n",
       "mnth[Nov]      14.2229\n",
       "mnth[Dec]       0.3705\n",
       "dtype: float64"
      ]
     },
     "execution_count": 159,
     "metadata": {},
     "output_type": "execute_result"
    }
   ],
   "source": [
    "coef_month = S2[S2.index.str.contains('mnth')]['coef']\n",
    "months = Bike['mnth'].dtype.categories\n",
    "# Append Dec as the negative sum of the other months\n",
    "coef_month = pd.concat([\n",
    "    coef_month, \n",
    "    pd.Series([-coef_month.sum()], index=['mnth[Dec]'])\n",
    "])\n",
    "\n",
    "coef_month"
   ]
  },
  {
   "cell_type": "code",
   "execution_count": 161,
   "metadata": {},
   "outputs": [
    {
     "data": {
      "text/plain": [
       "Text(0, 0.5, 'Coefficient')"
      ]
     },
     "execution_count": 161,
     "metadata": {},
     "output_type": "execute_result"
    },
    {
     "data": {
      "image/png": "[encoded data removed]",
      "text/plain": [
       "<Figure size 800x800 with 1 Axes>"
      ]
     },
     "metadata": {},
     "output_type": "display_data"
    }
   ],
   "source": [
    "fig_month, ax_month = plt.subplots(figsize=(8,8))\n",
    "x_month = np.arange(coef_month.shape[0])\n",
    "ax_month.plot(x_month, coef_month, marker='o', ms=10)\n",
    "ax_month.set_xticks(x_month)\n",
    "ax_month.set_xticklabels([l[5] for l in coef_month.index], fontsize=20)\n",
    "ax_month.set_xlabel('Month', fontsize=20)\n",
    "ax_month.set_ylabel('Coefficient', fontsize=20)"
   ]
  },
  {
   "cell_type": "code",
   "execution_count": 162,
   "metadata": {},
   "outputs": [],
   "source": [
    "coef_hr = S2[S2.index.str.contains('hr')]['coef']\n",
    "coef_hr = coef_hr.reindex(['hr[{0}]'.format(h) for h in range(23)])\n",
    "coef_hr = pd.concat([\n",
    "    coef_hr, \n",
    "    pd.Series([-coef_hr.sum()], index=['hr[23]'])\n",
    "])"
   ]
  },
  {
   "cell_type": "code",
   "execution_count": 164,
   "metadata": {},
   "outputs": [
    {
     "data": {
      "image/png": "[encoded data removed]",
      "text/plain": [
       "<Figure size 800x800 with 1 Axes>"
      ]
     },
     "metadata": {},
     "output_type": "display_data"
    }
   ],
   "source": [
    "fig_hr, ax_hr = plt.subplots(figsize=(8,8))\n",
    "x_hr = np.arange(coef_hr.shape[0])\n",
    "ax_hr.plot(x_hr, coef_hr, marker='o', ms=10)\n",
    "ax_hr.set_xticks(x_hr[::2])\n",
    "ax_hr.set_xticklabels(range(24)[::2], fontsize=20)\n",
    "ax_hr.set_xlabel('Hour', fontsize=20)\n",
    "ax_hr.set_ylabel('Coefficient', fontsize=20)"
   ]
  },
  {
   "cell_type": "markdown",
   "metadata": {},
   "source": [
    "We now instead fit a Poisson regression model to the `Bikeshare` data. We use `sm.GLM()` with the \"Poisson\" family specified:"
   ]
  },
  {
   "cell_type": "code",
   "execution_count": 165,
   "metadata": {},
   "outputs": [],
   "source": [
    "M_pois = sm.GLM(Y, X2, family=sm.families.Poisson()).fit()"
   ]
  },
  {
   "cell_type": "markdown",
   "metadata": {},
   "source": [
    "We can produce the same plot of the coefficients associated with each month and hour as before:"
   ]
  },
  {
   "cell_type": "code",
   "execution_count": 166,
   "metadata": {},
   "outputs": [],
   "source": [
    "S_pois = summarize(M_pois)\n",
    "coef_month = S_pois[S_pois.index.str.contains('mnth')]['coef']\n",
    "coef_month = pd.concat([\n",
    "    coef_month,\n",
    "    pd.Series(\n",
    "        [-coef_month.sum()],\n",
    "        index=['mnth[Dec]']\n",
    "    )\n",
    "])\n",
    "coef_hr = S_pois[S_pois.index.str.contains('hr')]['coef']\n",
    "coef_hr = pd.concat([\n",
    "    coef_hr,\n",
    "    pd.Series([-coef_hr.sum()], index=['hr[23]'])\n",
    "])"
   ]
  },
  {
   "cell_type": "code",
   "execution_count": 167,
   "metadata": {},
   "outputs": [
    {
     "name": "stderr",
     "output_type": "stream",
     "text": [
      "C:\\Users\\rich\\AppData\\Local\\Temp\\ipykernel_21608\\2045127785.py:9: UserWarning: FixedFormatter should only be used together with FixedLocator\n",
      "  ax_hr.set_xticklabels(range(24)[::2], fontsize=20)\n"
     ]
    },
    {
     "data": {
      "image/png": "[encoded data removed]",
      "text/plain": [
       "<Figure size 1600x800 with 2 Axes>"
      ]
     },
     "metadata": {},
     "output_type": "display_data"
    }
   ],
   "source": [
    "fig_pois, (ax_month, ax_hr) = plt.subplots(1, 2, figsize=(16,8))\n",
    "ax_month.plot(x_month, coef_month, marker='o', ms=10)\n",
    "ax_month.set_xticks(x_month)\n",
    "ax_month.set_xticklabels([l[5] for l in coef_month.index], fontsize\n",
    "=20)\n",
    "ax_month.set_xlabel('Month', fontsize=20)\n",
    "ax_month.set_ylabel('Coefficient', fontsize=20)\n",
    "ax_hr.plot(x_hr, coef_hr, marker='o', ms=10)\n",
    "ax_hr.set_xticklabels(range(24)[::2], fontsize=20)\n",
    "ax_hr.set_xlabel('Hour', fontsize=20)\n",
    "ax_hr.set_ylabel('Coefficient', fontsize=20)"
   ]
  },
  {
   "cell_type": "code",
   "execution_count": null,
   "metadata": {},
   "outputs": [],
   "source": [
    "We compare the ftted values of the two models. The fitted values are stored\n",
    "in the `fittedvalues` attribute returned by the `fit()` method for each of the fits. \n",
    "\n",
    "The linear predictors are stored as the `lin_pred` attribute."
   ]
  },
  {
   "cell_type": "code",
   "execution_count": 169,
   "metadata": {},
   "outputs": [
    {
     "data": {
      "text/plain": [
       "<matplotlib.lines._AxLine at 0x1c4687c8700>"
      ]
     },
     "execution_count": 169,
     "metadata": {},
     "output_type": "execute_result"
    },
    {
     "data": {
      "image/png": "[encoded data removed]",
      "text/plain": [
       "<Figure size 800x800 with 1 Axes>"
      ]
     },
     "metadata": {},
     "output_type": "display_data"
    }
   ],
   "source": [
    "fig, ax = plt.subplots(figsize=(8, 8))\n",
    "ax.scatter(M2_lm.fittedvalues, M_pois.fittedvalues, s=20)\n",
    "ax.set_xlabel('Linear Regression Fit', fontsize=20)\n",
    "ax.set_ylabel('Poisson Regression Fit', fontsize=20)\n",
    "ax.axline([0,0], c='black', linewidth=3, linestyle='--', slope=1)"
   ]
  }
 ],
 "metadata": {
  "kernelspec": {
   "display_name": "pydata-book",
   "language": "python",
   "name": "python3"
  },
  "language_info": {
   "codemirror_mode": {
    "name": "ipython",
    "version": 3
   },
   "file_extension": ".py",
   "mimetype": "text/x-python",
   "name": "python",
   "nbconvert_exporter": "python",
   "pygments_lexer": "ipython3",
   "version": "3.10.10"
  },
  "orig_nbformat": 4
 },
 "nbformat": 4,
 "nbformat_minor": 2
}
