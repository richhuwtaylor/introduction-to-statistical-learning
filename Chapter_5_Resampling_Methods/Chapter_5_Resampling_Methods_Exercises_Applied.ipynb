{
 "cells": [
  {
   "cell_type": "markdown",
   "metadata": {},
   "source": [
    "## Chapter 5: Resampling Methods - Applied Exercises"
   ]
  },
  {
   "cell_type": "code",
   "execution_count": 85,
   "metadata": {},
   "outputs": [],
   "source": [
    "import numpy as np\n",
    "import pandas as pd\n",
    "import statsmodels.api as sm\n",
    "from matplotlib import pyplot as plt\n",
    "from ISLP import load_data\n",
    "from ISLP.models import (ModelSpec as MS,\n",
    "                         summarize,\n",
    "                         poly,\n",
    "                         sklearn_sm)\n",
    "from functools import partial\n",
    "from sklearn.model_selection import (train_test_split,\n",
    "                                     cross_validate,\n",
    "                                     LeaveOneOut,\n",
    "                                     KFold,\n",
    "                                     ShuffleSplit)\n",
    "from sklearn.linear_model import LinearRegression\n",
    "from sklearn.preprocessing import PolynomialFeatures\n",
    "from sklearn.pipeline import Pipeline\n",
    "from sklearn.base import clone\n",
    "from sklearn.metrics import confusion_matrix, mean_squared_error"
   ]
  },
  {
   "cell_type": "markdown",
   "metadata": {},
   "source": [
    "In Chapter 4, we used logistic regression to predict the probability of default using income and balance on the `Default` data set. We will now estimate the test error of this logistic regression model using the validation set approach. Do not forget to set a random seed before beginning your analysis."
   ]
  },
  {
   "cell_type": "markdown",
   "metadata": {},
   "source": [
    "Fit a logistic regression model that uses `income` and `balance` to predict `default`."
   ]
  },
  {
   "cell_type": "code",
   "execution_count": 2,
   "metadata": {},
   "outputs": [],
   "source": [
    "Default = load_data('default')"
   ]
  },
  {
   "cell_type": "code",
   "execution_count": 5,
   "metadata": {},
   "outputs": [],
   "source": [
    "Default_train, Default_valid = train_test_split(Default, test_size=5000, random_state=0)"
   ]
  },
  {
   "cell_type": "code",
   "execution_count": 14,
   "metadata": {},
   "outputs": [
    {
     "name": "stdout",
     "output_type": "stream",
     "text": [
      "Optimization terminated successfully.\n",
      "         Current function value: 0.072956\n",
      "         Iterations 10\n"
     ]
    }
   ],
   "source": [
    "# Fit a linear regression using the training set\n",
    "default_mm = MS(['income', 'balance'])\n",
    "X_train = default_mm.fit_transform(Default_train)\n",
    "y_train = Default_train['default'] == 'Yes'\n",
    "model = sm.Logit(y_train, X_train)\n",
    "results = model.fit()"
   ]
  },
  {
   "cell_type": "code",
   "execution_count": 18,
   "metadata": {},
   "outputs": [
    {
     "data": {
      "text/plain": [
       "0.029000000000000026"
      ]
     },
     "execution_count": 18,
     "metadata": {},
     "output_type": "execute_result"
    }
   ],
   "source": [
    "# Perform predictions on validation set\n",
    "X_valid = default_mm.transform(Default_valid)\n",
    "y_valid = Default_valid['default'] == 'Yes'\n",
    "valid_pred = results.predict(X_valid)\n",
    "\n",
    "# Overall fraction of misclassified observations\n",
    "1 - np.mean(y_valid == (valid_pred > 0.5))"
   ]
  },
  {
   "cell_type": "code",
   "execution_count": 16,
   "metadata": {},
   "outputs": [
    {
     "data": {
      "text/plain": [
       "9394    0.000014\n",
       "898     0.000247\n",
       "2398    0.008043\n",
       "5906    0.002046\n",
       "2343    0.000298\n",
       "          ...   \n",
       "3996    0.001859\n",
       "5889    0.000034\n",
       "4577    0.008793\n",
       "8600    0.000735\n",
       "847     0.000131\n",
       "Length: 5000, dtype: float64"
      ]
     },
     "execution_count": 16,
     "metadata": {},
     "output_type": "execute_result"
    }
   ],
   "source": [
    "valid_pred"
   ]
  },
  {
   "cell_type": "markdown",
   "metadata": {},
   "source": [
    "Repeat the process three times, using three diferent splits of the observations into a training set and a validation set. Comment on the results obtained."
   ]
  },
  {
   "cell_type": "code",
   "execution_count": 20,
   "metadata": {},
   "outputs": [],
   "source": [
    "# Create a vector to store the confusion matrices for the splits\n",
    "C = []"
   ]
  },
  {
   "cell_type": "code",
   "execution_count": 23,
   "metadata": {},
   "outputs": [
    {
     "name": "stdout",
     "output_type": "stream",
     "text": [
      "Optimization terminated successfully.\n",
      "         Current function value: 0.078193\n",
      "         Iterations 10\n",
      "Optimization terminated successfully.\n",
      "         Current function value: 0.078611\n",
      "         Iterations 10\n",
      "Optimization terminated successfully.\n",
      "         Current function value: 0.073792\n",
      "         Iterations 10\n"
     ]
    }
   ],
   "source": [
    "for i in range(1,4):\n",
    "    Default_train, Default_valid = train_test_split(Default, test_size=5000)\n",
    "    X_train = default_mm.fit_transform(Default_train)\n",
    "    y_train = Default_train['default'] == 'Yes'\n",
    "    model = sm.Logit(y_train, X_train)\n",
    "    results = model.fit()\n",
    "\n",
    "    X_valid = default_mm.transform(Default_valid)\n",
    "    y_valid = Default_valid['default'] == 'Yes'\n",
    "    valid_pred = results.predict(X_valid)\n",
    "\n",
    "    C.append(confusion_matrix(valid_pred > 0.5, y_valid))"
   ]
  },
  {
   "cell_type": "code",
   "execution_count": 24,
   "metadata": {},
   "outputs": [],
   "source": [
    "tpr, fpr, ppv, npv, acc = ([] for i in range(5))\n",
    "\n",
    "for c in C:\n",
    "    tn = c[0,0] \n",
    "    fp = c[0,1]\n",
    "    fn = c[1,0]\n",
    "    tp = c[1,1]\n",
    "    tpr.append((tp / (tp + fn + 0.)))\n",
    "    fpr.append((fp / (fp + tn + 0.)))\n",
    "    ppv.append((tp / (tp + fp + 0.)))\n",
    "    npv.append((1- f n / (fn + tn + 0.)))\n",
    "    acc.append(((tp + tn + 0.) / (tn + fp + fn + tp)))"
   ]
  },
  {
   "cell_type": "code",
   "execution_count": 25,
   "metadata": {},
   "outputs": [
    {
     "name": "stdout",
     "output_type": "stream",
     "text": [
      "TPR: \n",
      "0.7432 0.8060 0.6471, Average: 0.7321\n",
      "FPR: \n",
      "0.0229 0.0259 0.0248, Average: 0.0246\n",
      "PPV: \n",
      "0.3274 0.2967 0.3107, Average: 0.3116\n",
      "NPV: \n",
      "0.9961 0.9973 0.9938, Average: 0.9957\n",
      "ACC: \n",
      "0.9736 0.9718 0.9696, Average: 0.9717\n"
     ]
    }
   ],
   "source": [
    "def line(l):\n",
    "    return \" \".join( '{:06.4f}'.format(a) for a in l) + ', Average: ' +'{:06.4f}'.format(sum(l)/ len(l))\n",
    "\n",
    "print('TPR: ')\n",
    "print(line(tpr))\n",
    "print('FPR: ')\n",
    "print(line(fpr))\n",
    "print('PPV: ')\n",
    "print(line(ppv))\n",
    "print('NPV: ')\n",
    "print(line(npv))\n",
    "print('ACC: ')\n",
    "print(line(acc))"
   ]
  },
  {
   "cell_type": "markdown",
   "metadata": {},
   "source": [
    "Now consider a logistic regression model that predicts the probability of `default` using `income`, `balance`, and a dummy variable for `student`. Estimate the test error for this model using the validation set approach. Comment on whether or not including a dummy variable for student leads to a reduction in the test error rate."
   ]
  },
  {
   "cell_type": "code",
   "execution_count": 26,
   "metadata": {},
   "outputs": [],
   "source": [
    "Default_train, Default_valid = train_test_split(Default, test_size=5000, random_state=0)"
   ]
  },
  {
   "cell_type": "code",
   "execution_count": 36,
   "metadata": {},
   "outputs": [],
   "source": [
    "Default_train['student_yes'] = (Default_train['student'] == 'Yes').astype('int')\n",
    "Default_valid['student_yes'] = (Default_valid['student'] == 'Yes').astype('int')\n",
    "Default_train['default_yes'] = (Default_train['default'] == 'Yes').astype('int')\n",
    "Default_valid['default_yes'] = (Default_valid['default'] == 'Yes').astype('int')"
   ]
  },
  {
   "cell_type": "code",
   "execution_count": 37,
   "metadata": {},
   "outputs": [
    {
     "name": "stdout",
     "output_type": "stream",
     "text": [
      "Optimization terminated successfully.\n",
      "         Current function value: 0.072293\n",
      "         Iterations 10\n"
     ]
    }
   ],
   "source": [
    "# Fit a linear regression using the training set\n",
    "default_mm = MS(['income', 'balance', 'student_yes'])\n",
    "X_train = default_mm.fit_transform(Default_train)\n",
    "y_train = Default_train['default_yes']\n",
    "model = sm.Logit(y_train, X_train)\n",
    "results = model.fit()"
   ]
  },
  {
   "cell_type": "code",
   "execution_count": 38,
   "metadata": {},
   "outputs": [
    {
     "data": {
      "text/plain": [
       "0.029200000000000004"
      ]
     },
     "execution_count": 38,
     "metadata": {},
     "output_type": "execute_result"
    }
   ],
   "source": [
    "# Perform predictions on validation set\n",
    "X_valid = default_mm.transform(Default_valid)\n",
    "y_valid = Default_valid['default_yes']\n",
    "valid_pred = results.predict(X_valid)\n",
    "\n",
    "# Overall fraction of misclassified observations\n",
    "1 - np.mean(y_valid == (valid_pred > 0.5))"
   ]
  },
  {
   "cell_type": "markdown",
   "metadata": {},
   "source": [
    "It seems that adding the dummy student variable doesn't help with validation error rate, in fact, it makes it slightly worse."
   ]
  },
  {
   "cell_type": "markdown",
   "metadata": {},
   "source": [
    "We continue to consider the use of a logistic regression model to predict the probability of `default` using `income` and `balance` on the Default data set. In particular, we will now compute estimates for the standard errors of the income and balance logistic regression coefficients in two different ways: (1) using the bootstrap, and (2) using the standard formula for computing the standard errors in the `sm.GLM()` function. "
   ]
  },
  {
   "cell_type": "markdown",
   "metadata": {},
   "source": [
    "Using the `summarize()` and `sm.GLM()` functions, determine the\n",
    "estimated standard errors for the coefficients associated with\n",
    "income and balance in a multiple logistic regression model that\n",
    "uses both predictors."
   ]
  },
  {
   "cell_type": "code",
   "execution_count": 41,
   "metadata": {},
   "outputs": [
    {
     "name": "stdout",
     "output_type": "stream",
     "text": [
      "                coef   std err       z  P>|z|\n",
      "intercept -11.540500  0.435000 -26.544    0.0\n",
      "income      0.000021  0.000005   4.174    0.0\n",
      "balance     0.005600  0.000000  24.835    0.0\n"
     ]
    }
   ],
   "source": [
    "design = MS(['income', 'balance'])\n",
    "X = design.fit_transform(Default)\n",
    "# We are predicting whether Default is 'Yes'\n",
    "y = Default['default'] == 'Yes'\n",
    "glm = sm.GLM(y, X, family=sm.families.Binomial())\n",
    "results = glm.fit()\n",
    "print(summarize(results))"
   ]
  },
  {
   "cell_type": "markdown",
   "metadata": {},
   "source": [
    "Write a function, `boot_fn()`, that takes as input the Default data set as well as an index of the observations, and that outputs the coefficient estimates for `income` and `balance` in the multiple logistic regression model."
   ]
  },
  {
   "cell_type": "code",
   "execution_count": 55,
   "metadata": {},
   "outputs": [],
   "source": [
    "def boot_fn(D, idx):\n",
    "    model_matrix = MS(['income', 'balance'])\n",
    "    D_ = D.loc[idx]\n",
    "    Y_ = D_['default'] == 'Yes'\n",
    "    X_ = clone(model_matrix).fit_transform(D_)\n",
    "    results = sm.OLS(Y_, X_).fit()\n",
    "    coef_income = results.params[1]\n",
    "    coef_balance = results.params[2]\n",
    "    return [coef_income, coef_balance]"
   ]
  },
  {
   "cell_type": "markdown",
   "metadata": {},
   "source": [
    "Following the bootstrap example in the lab, use your `boot_fn()`\n",
    "function to estimate the standard errors of the logistic regression coefficients for income and balance."
   ]
  },
  {
   "cell_type": "code",
   "execution_count": 58,
   "metadata": {},
   "outputs": [],
   "source": [
    "# Calculate the coefficient values for 100 bootstrap samples\n",
    "rng = np.random.default_rng(0)\n",
    "coefficients = np.array([boot_fn(Default, rng.choice(1000, 10000, replace=True)) for _ in range(100)])"
   ]
  },
  {
   "cell_type": "code",
   "execution_count": 64,
   "metadata": {},
   "outputs": [
    {
     "data": {
      "text/plain": [
       "0    7.484588e-07\n",
       "1    1.321718e-04\n",
       "dtype: float64"
      ]
     },
     "execution_count": 64,
     "metadata": {},
     "output_type": "execute_result"
    }
   ],
   "source": [
    "pd.DataFrame(coefficients).mean()"
   ]
  },
  {
   "cell_type": "markdown",
   "metadata": {},
   "source": [
    "9. We will now perform cross-validation on a simulated data set."
   ]
  },
  {
   "cell_type": "code",
   "execution_count": 65,
   "metadata": {},
   "outputs": [],
   "source": [
    "rng = np.random.default_rng(1)\n",
    "x = rng.normal(size=100)\n",
    "y = x - 2 * x**2 + rng.normal(size=100)"
   ]
  },
  {
   "cell_type": "code",
   "execution_count": 69,
   "metadata": {},
   "outputs": [
    {
     "data": {
      "image/png": "[encoded data removed]",
      "text/plain": [
       "<Figure size 640x480 with 1 Axes>"
      ]
     },
     "metadata": {},
     "output_type": "display_data"
    }
   ],
   "source": [
    "plt.scatter(x, y)\n",
    "plt.show()"
   ]
  },
  {
   "cell_type": "markdown",
   "metadata": {},
   "source": [
    "The scatterplot shows that y is a convex quadratic function of x."
   ]
  },
  {
   "cell_type": "markdown",
   "metadata": {},
   "source": [
    "Set a random seed, and then compute the LOOCV errors that result from fitting the following four models using least squares:\n",
    "\n",
    "i. $ Y = \\beta_0 + \\beta_1 X + \\epsilon $\n",
    "\n",
    "ii. $ Y = \\beta_0 + \\beta_1 X + \\beta_2 X^2 + \\epsilon $ \n",
    "\n",
    "iii. $ Y = \\beta_0 + \\beta_1 X + \\beta_2 X^2 + \\beta_3 X^3 + \\epsilon $\n",
    "\n",
    "iv. $ Y = \\beta_0 + \\beta_1 X + \\beta_2 X^2 + \\beta_3 X^3 + \\beta_4 X^4 + \\epsilon $"
   ]
  },
  {
   "cell_type": "code",
   "execution_count": 70,
   "metadata": {},
   "outputs": [],
   "source": [
    "# Set a new random seed\n",
    "np.random.seed(5)"
   ]
  },
  {
   "cell_type": "code",
   "execution_count": 73,
   "metadata": {},
   "outputs": [],
   "source": [
    "# Create a LOOCV object\n",
    "loo = LeaveOneOut()"
   ]
  },
  {
   "cell_type": "code",
   "execution_count": 76,
   "metadata": {},
   "outputs": [],
   "source": [
    "df = pd.DataFrame({'x': x, 'y': y})"
   ]
  },
  {
   "cell_type": "code",
   "execution_count": 90,
   "metadata": {},
   "outputs": [],
   "source": [
    "def perform_polynomial_comparison(min_deg=1, max_deg=4):\n",
    "    # Compute mean squared error (MSE) for the different polynomial equations\n",
    "    for i in range(min_deg, max_deg + 1):\n",
    "        scores = []\n",
    "        \n",
    "        # Leave-one-out cross validation \n",
    "        for train, test in loo.split(df):\n",
    "            X_train = df['x'][train].values\n",
    "            y_train = df['y'][train].values\n",
    "            X_test = df['x'][test].values\n",
    "            y_test = df['y'][test].values\n",
    "\n",
    "            # Pipeline\n",
    "            model = Pipeline([('poly', PolynomialFeatures(degree = i)),\n",
    "                        ('linear', LinearRegression())])\n",
    "            model.fit(X_train[:,np.newaxis], y_train)\n",
    "\n",
    "            # MSE\n",
    "            score = mean_squared_error(y_test, model.predict(X_test[:,np.newaxis]))\n",
    "            scores.append(score)\n",
    "\n",
    "        print('Model %i (MSE): %f' % (i,np.mean(scores)))"
   ]
  },
  {
   "cell_type": "code",
   "execution_count": 91,
   "metadata": {},
   "outputs": [
    {
     "name": "stdout",
     "output_type": "stream",
     "text": [
      "Model 1 (MSE): 6.633030\n",
      "Model 2 (MSE): 1.122937\n",
      "Model 3 (MSE): 1.301797\n",
      "Model 4 (MSE): 1.332394\n"
     ]
    }
   ],
   "source": [
    "min_deg = 1  # Minimum degree of the polynomial equations considered\n",
    "max_deg = 4  # Maximum degree of the polynomial equations considered\n",
    "\n",
    "perform_polynomial_comparison(min_deg, max_deg)\n",
    "    "
   ]
  },
  {
   "cell_type": "markdown",
   "metadata": {},
   "source": [
    "Repeat using another random seed, and report your results. Are your results the same as what you got previously? Why?"
   ]
  },
  {
   "cell_type": "code",
   "execution_count": 92,
   "metadata": {},
   "outputs": [],
   "source": [
    "# Set a new random seed\n",
    "np.random.seed(10)"
   ]
  },
  {
   "cell_type": "code",
   "execution_count": 93,
   "metadata": {},
   "outputs": [
    {
     "name": "stdout",
     "output_type": "stream",
     "text": [
      "Model 1 (MSE): 6.633030\n",
      "Model 2 (MSE): 1.122937\n",
      "Model 3 (MSE): 1.301797\n",
      "Model 4 (MSE): 1.332394\n"
     ]
    }
   ],
   "source": [
    "perform_polynomial_comparison(min_deg, max_deg)"
   ]
  },
  {
   "cell_type": "markdown",
   "metadata": {},
   "source": [
    "The results are exactly the same because we only remove one observation from the training set on each validation. There is no random effect resulting from the observations used for the test set. LOOCV will always be the same, no matter the random seed."
   ]
  },
  {
   "cell_type": "markdown",
   "metadata": {},
   "source": [
    "The model that had the smallest LOOCV error was model (ii). This was an expected result because model (ii) has the same form as y (i.e. second order polynomial)."
   ]
  },
  {
   "cell_type": "markdown",
   "metadata": {},
   "source": [
    "Comment on the statistical significance of the coefficient estimates that results from fitting each of the models using least squares. Do these results agree with the conclusions drawn\n",
    "based on the cross-validation results?"
   ]
  },
  {
   "cell_type": "code",
   "execution_count": 97,
   "metadata": {},
   "outputs": [
    {
     "name": "stdout",
     "output_type": "stream",
     "text": [
      "                            OLS Regression Results                            \n",
      "==============================================================================\n",
      "Dep. Variable:                      y   R-squared:                       0.318\n",
      "Model:                            OLS   Adj. R-squared:                  0.311\n",
      "Method:                 Least Squares   F-statistic:                     45.60\n",
      "Date:                Sun, 27 Aug 2023   Prob (F-statistic):           1.04e-09\n",
      "Time:                        12:52:15   Log-Likelihood:                -230.83\n",
      "No. Observations:                 100   AIC:                             465.7\n",
      "Df Residuals:                      98   BIC:                             470.9\n",
      "Df Model:                           1                                         \n",
      "Covariance Type:            nonrobust                                         \n",
      "==============================================================================\n",
      "                 coef    std err          t      P>|t|      [0.025      0.975]\n",
      "------------------------------------------------------------------------------\n",
      "const         -1.4650      0.247     -5.937      0.000      -1.955      -0.975\n",
      "x1             1.9494      0.289      6.752      0.000       1.376       2.522\n",
      "==============================================================================\n",
      "Omnibus:                       52.788   Durbin-Watson:                   1.972\n",
      "Prob(Omnibus):                  0.000   Jarque-Bera (JB):              149.089\n",
      "Skew:                          -1.953   Prob(JB):                     4.22e-33\n",
      "Kurtosis:                       7.530   Cond. No.                         1.20\n",
      "==============================================================================\n",
      "\n",
      "Notes:\n",
      "[1] Standard Errors assume that the covariance matrix of the errors is correctly specified.\n",
      "                            OLS Regression Results                            \n",
      "==============================================================================\n",
      "Dep. Variable:                      y   R-squared:                       0.887\n",
      "Model:                            OLS   Adj. R-squared:                  0.884\n",
      "Method:                 Least Squares   F-statistic:                     379.5\n",
      "Date:                Sun, 27 Aug 2023   Prob (F-statistic):           1.36e-46\n",
      "Time:                        12:52:15   Log-Likelihood:                -141.06\n",
      "No. Observations:                 100   AIC:                             288.1\n",
      "Df Residuals:                      97   BIC:                             295.9\n",
      "Df Model:                           2                                         \n",
      "Covariance Type:            nonrobust                                         \n",
      "==============================================================================\n",
      "                 coef    std err          t      P>|t|      [0.025      0.975]\n",
      "------------------------------------------------------------------------------\n",
      "const         -0.0728      0.119     -0.611      0.543      -0.309       0.164\n",
      "x1             0.9663      0.126      7.647      0.000       0.715       1.217\n",
      "x2            -2.0047      0.091    -22.072      0.000      -2.185      -1.824\n",
      "==============================================================================\n",
      "Omnibus:                        1.338   Durbin-Watson:                   2.197\n",
      "Prob(Omnibus):                  0.512   Jarque-Bera (JB):                0.814\n",
      "Skew:                           0.119   Prob(JB):                        0.666\n",
      "Kurtosis:                       3.372   Cond. No.                         2.23\n",
      "==============================================================================\n",
      "\n",
      "Notes:\n",
      "[1] Standard Errors assume that the covariance matrix of the errors is correctly specified.\n",
      "                            OLS Regression Results                            \n",
      "==============================================================================\n",
      "Dep. Variable:                      y   R-squared:                       0.888\n",
      "Model:                            OLS   Adj. R-squared:                  0.885\n",
      "Method:                 Least Squares   F-statistic:                     253.8\n",
      "Date:                Sun, 27 Aug 2023   Prob (F-statistic):           1.70e-45\n",
      "Time:                        12:52:15   Log-Likelihood:                -140.47\n",
      "No. Observations:                 100   AIC:                             288.9\n",
      "Df Residuals:                      96   BIC:                             299.4\n",
      "Df Model:                           3                                         \n",
      "Covariance Type:            nonrobust                                         \n",
      "==============================================================================\n",
      "                 coef    std err          t      P>|t|      [0.025      0.975]\n",
      "------------------------------------------------------------------------------\n",
      "const         -0.0572      0.120     -0.477      0.635      -0.295       0.181\n",
      "x1             1.1146      0.187      5.945      0.000       0.742       1.487\n",
      "x2            -2.0471      0.099    -20.673      0.000      -2.244      -1.851\n",
      "x3            -0.0643      0.060     -1.070      0.287      -0.184       0.055\n",
      "==============================================================================\n",
      "Omnibus:                        0.845   Durbin-Watson:                   2.199\n",
      "Prob(Omnibus):                  0.655   Jarque-Bera (JB):                0.392\n",
      "Skew:                           0.052   Prob(JB):                        0.822\n",
      "Kurtosis:                       3.289   Cond. No.                         5.95\n",
      "==============================================================================\n",
      "\n",
      "Notes:\n",
      "[1] Standard Errors assume that the covariance matrix of the errors is correctly specified.\n",
      "                            OLS Regression Results                            \n",
      "==============================================================================\n",
      "Dep. Variable:                      y   R-squared:                       0.894\n",
      "Model:                            OLS   Adj. R-squared:                  0.890\n",
      "Method:                 Least Squares   F-statistic:                     200.2\n",
      "Date:                Sun, 27 Aug 2023   Prob (F-statistic):           2.22e-45\n",
      "Time:                        12:52:15   Log-Likelihood:                -137.74\n",
      "No. Observations:                 100   AIC:                             285.5\n",
      "Df Residuals:                      95   BIC:                             298.5\n",
      "Df Model:                           4                                         \n",
      "Covariance Type:            nonrobust                                         \n",
      "==============================================================================\n",
      "                 coef    std err          t      P>|t|      [0.025      0.975]\n",
      "------------------------------------------------------------------------------\n",
      "const          0.1008      0.136      0.743      0.460      -0.169       0.370\n",
      "x1             0.9050      0.205      4.423      0.000       0.499       1.311\n",
      "x2            -2.5059      0.221    -11.336      0.000      -2.945      -2.067\n",
      "x3             0.0338      0.073      0.466      0.642      -0.110       0.178\n",
      "x4             0.1042      0.045      2.309      0.023       0.015       0.194\n",
      "==============================================================================\n",
      "Omnibus:                        2.476   Durbin-Watson:                   2.163\n",
      "Prob(Omnibus):                  0.290   Jarque-Bera (JB):                2.097\n",
      "Skew:                           0.118   Prob(JB):                        0.351\n",
      "Kurtosis:                       3.669   Cond. No.                         19.9\n",
      "==============================================================================\n",
      "\n",
      "Notes:\n",
      "[1] Standard Errors assume that the covariance matrix of the errors is correctly specified.\n"
     ]
    }
   ],
   "source": [
    "# Models with polynomial features\n",
    "min_deg = 1  \n",
    "max_deg = 4 \n",
    "\n",
    "for i in range(min_deg, max_deg + 1):\n",
    "    pol = PolynomialFeatures(degree = i)\n",
    "    X_pol = pol.fit_transform(df['x'].values[:,np.newaxis])\n",
    "    y = df['y']\n",
    "\n",
    "    model = sm.OLS(y, X_pol)\n",
    "    results = model.fit()\n",
    "\n",
    "    print(results.summary())  "
   ]
  },
  {
   "cell_type": "markdown",
   "metadata": {},
   "source": [
    "When we have a second order polynomial, both x1 and x2 have high t-statistic values. When we have a third order polynomial, x2 has the highest t-statistic, followed by x1 and then by x3. Finally, when we have a fourth order polynomial, x2 is the variable with the highest t-statistic, followed by x1, x4 and x3.\n",
    "\n",
    "In all models in which it appears, x3 has a p-value > 0.05, meaning that we don't have sufficient evidence to conclude that this term has a significant effect on y.\n",
    "\n",
    "We can conclude that x2 and x1 are variables with relevance for the presented models. These results agree with the conclusions drawn based on the cross-validation results, showing that the first and second order terms are the most significant.\n"
   ]
  }
 ],
 "metadata": {
  "kernelspec": {
   "display_name": "pydata-book",
   "language": "python",
   "name": "python3"
  },
  "language_info": {
   "codemirror_mode": {
    "name": "ipython",
    "version": 3
   },
   "file_extension": ".py",
   "mimetype": "text/x-python",
   "name": "python",
   "nbconvert_exporter": "python",
   "pygments_lexer": "ipython3",
   "version": "3.10.10"
  },
  "orig_nbformat": 4
 },
 "nbformat": 4,
 "nbformat_minor": 2
}
